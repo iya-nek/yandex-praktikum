{
 "cells": [
  {
   "cell_type": "markdown",
   "metadata": {},
   "source": [
    "# Выбор локации для скважины"
   ]
  },
  {
   "cell_type": "markdown",
   "metadata": {},
   "source": [
    "Допустим, вы работаете в добывающей компании «ГлавРосГосНефть». Нужно решить, где бурить новую скважину.\n",
    "\n",
    "Вам предоставлены пробы нефти в трёх регионах: в каждом 10 000 месторождений, где измерили качество нефти и объём её запасов. Постройте модель машинного обучения, которая поможет определить регион, где добыча принесёт наибольшую прибыль. Проанализируйте возможную прибыль и риски техникой *Bootstrap.*\n",
    "\n",
    "Шаги для выбора локации:\n",
    "\n",
    "- В избранном регионе ищут месторождения, для каждого определяют значения признаков;\n",
    "- Строят модель и оценивают объём запасов;\n",
    "- Выбирают месторождения с самым высокими оценками значений. Количество месторождений зависит от бюджета компании и стоимости разработки одной скважины;\n",
    "- Прибыль равна суммарной прибыли отобранных месторождений."
   ]
  },
  {
   "cell_type": "markdown",
   "metadata": {},
   "source": [
    "## Описание данных\n"
   ]
  },
  {
   "cell_type": "markdown",
   "metadata": {},
   "source": [
    "\n",
    "Данные геологоразведки трёх регионов:\n",
    "- id — уникальный идентификатор скважины;\n",
    "- f0, f1, f2 — три признака точек (неважно, что они означают, но сами признаки значимы);\n",
    "- product — объём запасов в скважине (тыс. баррелей)."
   ]
  },
  {
   "cell_type": "markdown",
   "metadata": {},
   "source": [
    "## Загрузка и подготовка данных"
   ]
  },
  {
   "cell_type": "code",
   "execution_count": 1,
   "metadata": {},
   "outputs": [],
   "source": [
    "import pandas as pd\n",
    "import numpy as np\n",
    "import matplotlib.pyplot as plt\n",
    "from sklearn.model_selection import train_test_split\n",
    "from sklearn.linear_model import LinearRegression\n",
    "from sklearn.metrics import mean_squared_error\n",
    "import math"
   ]
  },
  {
   "cell_type": "code",
   "execution_count": 2,
   "metadata": {},
   "outputs": [
    {
     "data": {
      "text/html": [
       "<div>\n",
       "<style scoped>\n",
       "    .dataframe tbody tr th:only-of-type {\n",
       "        vertical-align: middle;\n",
       "    }\n",
       "\n",
       "    .dataframe tbody tr th {\n",
       "        vertical-align: top;\n",
       "    }\n",
       "\n",
       "    .dataframe thead th {\n",
       "        text-align: right;\n",
       "    }\n",
       "</style>\n",
       "<table border=\"1\" class=\"dataframe\">\n",
       "  <thead>\n",
       "    <tr style=\"text-align: right;\">\n",
       "      <th></th>\n",
       "      <th>id</th>\n",
       "      <th>f0</th>\n",
       "      <th>f1</th>\n",
       "      <th>f2</th>\n",
       "      <th>product</th>\n",
       "    </tr>\n",
       "  </thead>\n",
       "  <tbody>\n",
       "    <tr>\n",
       "      <td>0</td>\n",
       "      <td>txEyH</td>\n",
       "      <td>0.705745</td>\n",
       "      <td>-0.497823</td>\n",
       "      <td>1.221170</td>\n",
       "      <td>105.280062</td>\n",
       "    </tr>\n",
       "    <tr>\n",
       "      <td>1</td>\n",
       "      <td>2acmU</td>\n",
       "      <td>1.334711</td>\n",
       "      <td>-0.340164</td>\n",
       "      <td>4.365080</td>\n",
       "      <td>73.037750</td>\n",
       "    </tr>\n",
       "    <tr>\n",
       "      <td>2</td>\n",
       "      <td>409Wp</td>\n",
       "      <td>1.022732</td>\n",
       "      <td>0.151990</td>\n",
       "      <td>1.419926</td>\n",
       "      <td>85.265647</td>\n",
       "    </tr>\n",
       "    <tr>\n",
       "      <td>3</td>\n",
       "      <td>iJLyR</td>\n",
       "      <td>-0.032172</td>\n",
       "      <td>0.139033</td>\n",
       "      <td>2.978566</td>\n",
       "      <td>168.620776</td>\n",
       "    </tr>\n",
       "    <tr>\n",
       "      <td>4</td>\n",
       "      <td>Xdl7t</td>\n",
       "      <td>1.988431</td>\n",
       "      <td>0.155413</td>\n",
       "      <td>4.751769</td>\n",
       "      <td>154.036647</td>\n",
       "    </tr>\n",
       "  </tbody>\n",
       "</table>\n",
       "</div>"
      ],
      "text/plain": [
       "      id        f0        f1        f2     product\n",
       "0  txEyH  0.705745 -0.497823  1.221170  105.280062\n",
       "1  2acmU  1.334711 -0.340164  4.365080   73.037750\n",
       "2  409Wp  1.022732  0.151990  1.419926   85.265647\n",
       "3  iJLyR -0.032172  0.139033  2.978566  168.620776\n",
       "4  Xdl7t  1.988431  0.155413  4.751769  154.036647"
      ]
     },
     "metadata": {},
     "output_type": "display_data"
    }
   ],
   "source": [
    "df0=pd.read_csv('/datasets/geo_data_0.csv')\n",
    "df1=pd.read_csv('/datasets/geo_data_1.csv')\n",
    "df2=pd.read_csv('/datasets/geo_data_2.csv')\n",
    "display(df0.head())"
   ]
  },
  {
   "cell_type": "markdown",
   "metadata": {},
   "source": [
    "Посмотрим данные трех файлов: есть ли пропуски в данных или дубликаты"
   ]
  },
  {
   "cell_type": "code",
   "execution_count": 3,
   "metadata": {},
   "outputs": [
    {
     "name": "stdout",
     "output_type": "stream",
     "text": [
      "<class 'pandas.core.frame.DataFrame'>\n",
      "RangeIndex: 100000 entries, 0 to 99999\n",
      "Data columns (total 5 columns):\n",
      "id         100000 non-null object\n",
      "f0         100000 non-null float64\n",
      "f1         100000 non-null float64\n",
      "f2         100000 non-null float64\n",
      "product    100000 non-null float64\n",
      "dtypes: float64(4), object(1)\n",
      "memory usage: 3.8+ MB\n",
      "\n",
      "Количество дубликатов: 0\n"
     ]
    }
   ],
   "source": [
    "df0.info()\n",
    "print()\n",
    "print('Количество дубликатов:', df0.duplicated().sum())"
   ]
  },
  {
   "cell_type": "code",
   "execution_count": 4,
   "metadata": {},
   "outputs": [
    {
     "name": "stdout",
     "output_type": "stream",
     "text": [
      "<class 'pandas.core.frame.DataFrame'>\n",
      "RangeIndex: 100000 entries, 0 to 99999\n",
      "Data columns (total 5 columns):\n",
      "id         100000 non-null object\n",
      "f0         100000 non-null float64\n",
      "f1         100000 non-null float64\n",
      "f2         100000 non-null float64\n",
      "product    100000 non-null float64\n",
      "dtypes: float64(4), object(1)\n",
      "memory usage: 3.8+ MB\n",
      "\n",
      "Количество дубликатов: 0\n"
     ]
    }
   ],
   "source": [
    "df1.info()\n",
    "print()\n",
    "print('Количество дубликатов:', df1.duplicated().sum())"
   ]
  },
  {
   "cell_type": "code",
   "execution_count": 5,
   "metadata": {},
   "outputs": [
    {
     "name": "stdout",
     "output_type": "stream",
     "text": [
      "<class 'pandas.core.frame.DataFrame'>\n",
      "RangeIndex: 100000 entries, 0 to 99999\n",
      "Data columns (total 5 columns):\n",
      "id         100000 non-null object\n",
      "f0         100000 non-null float64\n",
      "f1         100000 non-null float64\n",
      "f2         100000 non-null float64\n",
      "product    100000 non-null float64\n",
      "dtypes: float64(4), object(1)\n",
      "memory usage: 3.8+ MB\n",
      "\n",
      "Количество дубликатов: 0\n"
     ]
    }
   ],
   "source": [
    "df2.info()\n",
    "print()\n",
    "print('Количество дубликатов:', df2.duplicated().sum())"
   ]
  },
  {
   "cell_type": "markdown",
   "metadata": {},
   "source": [
    "Пропусков и дубликатов нет. 4 колонки с дробными числами и 1 колонка **id** с категориальным признаком.\n",
    "\n",
    "**id** - это уникальный идентификатор скважины. Если проводить кодирование этого столбца, то таблица станет очень большой и время на обучение модели уйдет много. Но на обучение модели этот признак не влияет, поэтому удалим столбец из всех трех файлов. "
   ]
  },
  {
   "cell_type": "code",
   "execution_count": 6,
   "metadata": {},
   "outputs": [
    {
     "data": {
      "text/html": [
       "<div>\n",
       "<style scoped>\n",
       "    .dataframe tbody tr th:only-of-type {\n",
       "        vertical-align: middle;\n",
       "    }\n",
       "\n",
       "    .dataframe tbody tr th {\n",
       "        vertical-align: top;\n",
       "    }\n",
       "\n",
       "    .dataframe thead th {\n",
       "        text-align: right;\n",
       "    }\n",
       "</style>\n",
       "<table border=\"1\" class=\"dataframe\">\n",
       "  <thead>\n",
       "    <tr style=\"text-align: right;\">\n",
       "      <th></th>\n",
       "      <th>f0</th>\n",
       "      <th>f1</th>\n",
       "      <th>f2</th>\n",
       "      <th>product</th>\n",
       "    </tr>\n",
       "  </thead>\n",
       "  <tbody>\n",
       "    <tr>\n",
       "      <td>0</td>\n",
       "      <td>0.705745</td>\n",
       "      <td>-0.497823</td>\n",
       "      <td>1.221170</td>\n",
       "      <td>105.280062</td>\n",
       "    </tr>\n",
       "    <tr>\n",
       "      <td>1</td>\n",
       "      <td>1.334711</td>\n",
       "      <td>-0.340164</td>\n",
       "      <td>4.365080</td>\n",
       "      <td>73.037750</td>\n",
       "    </tr>\n",
       "    <tr>\n",
       "      <td>2</td>\n",
       "      <td>1.022732</td>\n",
       "      <td>0.151990</td>\n",
       "      <td>1.419926</td>\n",
       "      <td>85.265647</td>\n",
       "    </tr>\n",
       "  </tbody>\n",
       "</table>\n",
       "</div>"
      ],
      "text/plain": [
       "         f0        f1        f2     product\n",
       "0  0.705745 -0.497823  1.221170  105.280062\n",
       "1  1.334711 -0.340164  4.365080   73.037750\n",
       "2  1.022732  0.151990  1.419926   85.265647"
      ]
     },
     "metadata": {},
     "output_type": "display_data"
    }
   ],
   "source": [
    "df0=df0.drop(['id'], axis=1)\n",
    "display(df0.head(3))"
   ]
  },
  {
   "cell_type": "code",
   "execution_count": 7,
   "metadata": {},
   "outputs": [
    {
     "data": {
      "text/html": [
       "<div>\n",
       "<style scoped>\n",
       "    .dataframe tbody tr th:only-of-type {\n",
       "        vertical-align: middle;\n",
       "    }\n",
       "\n",
       "    .dataframe tbody tr th {\n",
       "        vertical-align: top;\n",
       "    }\n",
       "\n",
       "    .dataframe thead th {\n",
       "        text-align: right;\n",
       "    }\n",
       "</style>\n",
       "<table border=\"1\" class=\"dataframe\">\n",
       "  <thead>\n",
       "    <tr style=\"text-align: right;\">\n",
       "      <th></th>\n",
       "      <th>f0</th>\n",
       "      <th>f1</th>\n",
       "      <th>f2</th>\n",
       "      <th>product</th>\n",
       "    </tr>\n",
       "  </thead>\n",
       "  <tbody>\n",
       "    <tr>\n",
       "      <td>0</td>\n",
       "      <td>-15.001348</td>\n",
       "      <td>-8.276000</td>\n",
       "      <td>-0.005876</td>\n",
       "      <td>3.179103</td>\n",
       "    </tr>\n",
       "    <tr>\n",
       "      <td>1</td>\n",
       "      <td>14.272088</td>\n",
       "      <td>-3.475083</td>\n",
       "      <td>0.999183</td>\n",
       "      <td>26.953261</td>\n",
       "    </tr>\n",
       "    <tr>\n",
       "      <td>2</td>\n",
       "      <td>6.263187</td>\n",
       "      <td>-5.948386</td>\n",
       "      <td>5.001160</td>\n",
       "      <td>134.766305</td>\n",
       "    </tr>\n",
       "  </tbody>\n",
       "</table>\n",
       "</div>"
      ],
      "text/plain": [
       "          f0        f1        f2     product\n",
       "0 -15.001348 -8.276000 -0.005876    3.179103\n",
       "1  14.272088 -3.475083  0.999183   26.953261\n",
       "2   6.263187 -5.948386  5.001160  134.766305"
      ]
     },
     "metadata": {},
     "output_type": "display_data"
    }
   ],
   "source": [
    "df1=df1.drop(['id'], axis=1)\n",
    "display(df1.head(3))"
   ]
  },
  {
   "cell_type": "code",
   "execution_count": 8,
   "metadata": {},
   "outputs": [
    {
     "data": {
      "text/html": [
       "<div>\n",
       "<style scoped>\n",
       "    .dataframe tbody tr th:only-of-type {\n",
       "        vertical-align: middle;\n",
       "    }\n",
       "\n",
       "    .dataframe tbody tr th {\n",
       "        vertical-align: top;\n",
       "    }\n",
       "\n",
       "    .dataframe thead th {\n",
       "        text-align: right;\n",
       "    }\n",
       "</style>\n",
       "<table border=\"1\" class=\"dataframe\">\n",
       "  <thead>\n",
       "    <tr style=\"text-align: right;\">\n",
       "      <th></th>\n",
       "      <th>f0</th>\n",
       "      <th>f1</th>\n",
       "      <th>f2</th>\n",
       "      <th>product</th>\n",
       "    </tr>\n",
       "  </thead>\n",
       "  <tbody>\n",
       "    <tr>\n",
       "      <td>0</td>\n",
       "      <td>-1.146987</td>\n",
       "      <td>0.963328</td>\n",
       "      <td>-0.828965</td>\n",
       "      <td>27.758673</td>\n",
       "    </tr>\n",
       "    <tr>\n",
       "      <td>1</td>\n",
       "      <td>0.262778</td>\n",
       "      <td>0.269839</td>\n",
       "      <td>-2.530187</td>\n",
       "      <td>56.069697</td>\n",
       "    </tr>\n",
       "    <tr>\n",
       "      <td>2</td>\n",
       "      <td>0.194587</td>\n",
       "      <td>0.289035</td>\n",
       "      <td>-5.586433</td>\n",
       "      <td>62.871910</td>\n",
       "    </tr>\n",
       "  </tbody>\n",
       "</table>\n",
       "</div>"
      ],
      "text/plain": [
       "         f0        f1        f2    product\n",
       "0 -1.146987  0.963328 -0.828965  27.758673\n",
       "1  0.262778  0.269839 -2.530187  56.069697\n",
       "2  0.194587  0.289035 -5.586433  62.871910"
      ]
     },
     "metadata": {},
     "output_type": "display_data"
    }
   ],
   "source": [
    "df2=df2.drop(['id'], axis=1)\n",
    "display(df2.head(3))"
   ]
  },
  {
   "cell_type": "markdown",
   "metadata": {},
   "source": [
    "Посмотрим максимальные и минимальные значения признаков, чтобы определить нужно ли проводить масштабирование"
   ]
  },
  {
   "cell_type": "code",
   "execution_count": 9,
   "metadata": {},
   "outputs": [
    {
     "name": "stdout",
     "output_type": "stream",
     "text": [
      "Регион0: -1.4086053060269959 2.3623308108542243 -0.8482184970082173 1.343769333804496 -12.088328118063359 16.003790007695365\n"
     ]
    }
   ],
   "source": [
    "print('Регион0:', df0['f0'].min(), df0['f0'].max(), df0['f1'].min(), df0['f1'].max(), df0['f2'].min(), df0['f2'].max())"
   ]
  },
  {
   "cell_type": "code",
   "execution_count": 10,
   "metadata": {},
   "outputs": [
    {
     "name": "stdout",
     "output_type": "stream",
     "text": [
      "Регион1: -31.60957601916769 29.42175461390372 -26.358598008345872 18.734062633730762 -0.01814408671342021 5.019720555223062\n"
     ]
    }
   ],
   "source": [
    "print('Регион1:', df1['f0'].min(), df1['f0'].max(), df1['f1'].min(), df1['f1'].max(), df1['f2'].min(), df1['f2'].max())"
   ]
  },
  {
   "cell_type": "code",
   "execution_count": 11,
   "metadata": {},
   "outputs": [
    {
     "name": "stdout",
     "output_type": "stream",
     "text": [
      "Регион2: -8.760003624213763 7.23826247979405 -7.084019760867246 7.844801270084258 -11.97033454147699 16.73940205869952\n"
     ]
    }
   ],
   "source": [
    "print('Регион2:', df2['f0'].min(), df2['f0'].max(), df2['f1'].min(), df2['f1'].max(), df2['f2'].min(), df2['f2'].max())"
   ]
  },
  {
   "cell_type": "markdown",
   "metadata": {},
   "source": [
    "Все признаки в регионе одного масштаба."
   ]
  },
  {
   "cell_type": "markdown",
   "metadata": {},
   "source": [
    "**Вывод**. В данных нет пропусков и дубликатов. Удалена колонка id, тк она не оказывает влияние на обучение модели. \n",
    "Мастабирование признаков проводить не нужно. "
   ]
  },
  {
   "cell_type": "markdown",
   "metadata": {},
   "source": [
    "## Обучение и проверка модели"
   ]
  },
  {
   "cell_type": "markdown",
   "metadata": {},
   "source": [
    "**Регион0**. \n",
    "\n",
    "Обучим модель для региона0. \n",
    "\n",
    "Разобъем данные на признаки и целевой признак. Целевой признак это колонка **product** — объём запасов в скважине (тыс. баррелей)"
   ]
  },
  {
   "cell_type": "code",
   "execution_count": 12,
   "metadata": {},
   "outputs": [],
   "source": [
    "target0 = df0['product'] # столбец с целевым признаком\n",
    "features0 = df0.drop(['product'], axis=1) # таблица с признаками. "
   ]
  },
  {
   "cell_type": "markdown",
   "metadata": {},
   "source": [
    "Для обучения и проверки модели разобъем данные на 2 выборки: обучающая и валидационная в пропорции 75:25.  И проверим правильно ли получилось разделить. "
   ]
  },
  {
   "cell_type": "code",
   "execution_count": 13,
   "metadata": {},
   "outputs": [
    {
     "name": "stdout",
     "output_type": "stream",
     "text": [
      "Размер обучающей выборки (75000, 3)\n",
      "Размер валидационной выборки (25000, 3)\n"
     ]
    }
   ],
   "source": [
    "features_train0, features_valid0, target_train0, target_valid0 = train_test_split(\n",
    "        features0,target0, test_size=0.25, random_state=12345)\n",
    "print('Размер обучающей выборки', features_train0.shape)\n",
    "print('Размер валидационной выборки', features_valid0.shape)"
   ]
  },
  {
   "cell_type": "markdown",
   "metadata": {},
   "source": [
    "Разделение получилось верное. "
   ]
  },
  {
   "cell_type": "markdown",
   "metadata": {},
   "source": [
    "Тк целевой признак - количественный (колонка **poduct**), то у нас задача регрессии. Возьмем модель линейной регрессии."
   ]
  },
  {
   "cell_type": "code",
   "execution_count": 14,
   "metadata": {},
   "outputs": [
    {
     "name": "stdout",
     "output_type": "stream",
     "text": [
      "RMSE региона0: 37.5794217150813\n",
      "Средний запас предсказанного сырья: 92.59256778438038\n"
     ]
    }
   ],
   "source": [
    "model0 = LinearRegression()\n",
    "model0.fit(features_train0, target_train0)\n",
    "predictions0=model0.predict(features_valid0)\n",
    "mse0=mean_squared_error(target_valid0,predictions0)\n",
    "rmse0=math.sqrt(mse0)\n",
    "print(\"RMSE региона0:\", rmse0 )\n",
    "print('Средний запас предсказанного сырья:', predictions0.mean())"
   ]
  },
  {
   "cell_type": "markdown",
   "metadata": {},
   "source": [
    "Проверим модель на адекватность. Сравним модель с константной моделью, которая любому объекту прогнозирует среднее значение из выборки"
   ]
  },
  {
   "cell_type": "code",
   "execution_count": 15,
   "metadata": {},
   "outputs": [
    {
     "name": "stdout",
     "output_type": "stream",
     "text": [
      "44.289591053907365\n"
     ]
    }
   ],
   "source": [
    "predicted_valid0=pd.Series(target_train0.mean(), index=target_valid0.index)\n",
    "mse_const0=mean_squared_error(target_valid0,predicted_valid0 )\n",
    "rmse_const0=math.sqrt(mse_const0)\n",
    "print(rmse_const0)"
   ]
  },
  {
   "cell_type": "markdown",
   "metadata": {},
   "source": [
    "RMSE у модели получился большим, но все же ниже чем у константной модели"
   ]
  },
  {
   "cell_type": "markdown",
   "metadata": {},
   "source": [
    "**Регион1**. \n",
    "\n",
    "Обучим модель для региона1. \n",
    "\n",
    "Разобъем данные на признаки и целевой признак. Целевой признак это колонка **product** — объём запасов в скважине (тыс. баррелей). Также разобъем данные на 2 выборки: обучающая и валидационная в пропорции 75:25. И проверим правильно ли получилось разделить."
   ]
  },
  {
   "cell_type": "code",
   "execution_count": 16,
   "metadata": {},
   "outputs": [
    {
     "name": "stdout",
     "output_type": "stream",
     "text": [
      "Размер обучающей выборки (75000, 3)\n",
      "Размер валидационной выборки (25000, 3)\n"
     ]
    }
   ],
   "source": [
    "target1 = df1['product'] # столбец с целевым признаком\n",
    "features1 = df1.drop(['product'], axis=1) # таблица с признаками. \n",
    "features_train1, features_valid1, target_train1, target_valid1 = train_test_split(\n",
    "        features1,target1, test_size=0.25, random_state=12345)\n",
    "print('Размер обучающей выборки', features_train1.shape)\n",
    "print('Размер валидационной выборки', features_valid1.shape)"
   ]
  },
  {
   "cell_type": "markdown",
   "metadata": {},
   "source": [
    "Разделение получилось верное. \n",
    "\n",
    "Также как для региона0 обучим модель линейной регресии для региона1"
   ]
  },
  {
   "cell_type": "code",
   "execution_count": 17,
   "metadata": {},
   "outputs": [
    {
     "name": "stdout",
     "output_type": "stream",
     "text": [
      "RMSE региона 1: 0.893099286775616\n",
      "Средний запас предсказний: 68.728546895446\n"
     ]
    }
   ],
   "source": [
    "model1 = LinearRegression()\n",
    "model1.fit(features_train1, target_train1)\n",
    "predictions1=model1.predict(features_valid1)\n",
    "mse1=mean_squared_error(target_valid1,predictions1)\n",
    "rmse1=math.sqrt(mse1)\n",
    "print(\"RMSE региона 1:\", rmse1 )\n",
    "print('Средний запас предсказний:', predictions1.mean())"
   ]
  },
  {
   "cell_type": "markdown",
   "metadata": {},
   "source": [
    "Проверим модель на адекватность. Сравним модель с константной моделью, которая любому объекту прогнозирует среднее значение из выборки"
   ]
  },
  {
   "cell_type": "code",
   "execution_count": 18,
   "metadata": {},
   "outputs": [
    {
     "name": "stdout",
     "output_type": "stream",
     "text": [
      "46.02144533725462\n"
     ]
    }
   ],
   "source": [
    "predicted_valid1=pd.Series(target_train1.mean(), index=target_valid1.index)\n",
    "mse_const1=mean_squared_error(target_valid1,predicted_valid1 )\n",
    "rmse_const1=math.sqrt(mse_const1)\n",
    "print(rmse_const1)"
   ]
  },
  {
   "cell_type": "markdown",
   "metadata": {},
   "source": [
    "RMSE у модели получился очень маленький=0.9 (и гораздно ниже константной модели), а средний запас получился небольшим =68,7 тыс баррелей- это значительно меньше чем у региона0."
   ]
  },
  {
   "cell_type": "markdown",
   "metadata": {},
   "source": [
    "**Регион2**. \n",
    "\n",
    "Обучим модель для региона2. \n",
    "\n",
    "Разобъем данные на признаки и целевой признак. Целевой признак это колонка **product** — объём запасов в скважине (тыс. баррелей). Также разобъем данные на 2 выборки: обучающая и валидационная в пропорции 75:25. И проверим правильно ли получилось разделить."
   ]
  },
  {
   "cell_type": "code",
   "execution_count": 19,
   "metadata": {},
   "outputs": [
    {
     "name": "stdout",
     "output_type": "stream",
     "text": [
      "Размер обучающей выборки (75000, 3)\n",
      "Размер валидационной выборки (25000, 3)\n"
     ]
    }
   ],
   "source": [
    "target2 = df2['product'] # столбец с целевым признаком\n",
    "features2 = df2.drop(['product'], axis=1) # таблица с признаками. \n",
    "features_train2, features_valid2, target_train2, target_valid2 = train_test_split(\n",
    "        features2,target2, test_size=0.25, random_state=12345)\n",
    "print('Размер обучающей выборки', features_train2.shape)\n",
    "print('Размер валидационной выборки', features_valid2.shape)\n"
   ]
  },
  {
   "cell_type": "markdown",
   "metadata": {},
   "source": [
    "Разделение получилось верное. \n",
    "\n",
    "Также как и для предыдущих регионов обучим модель линейной регресии для региона2"
   ]
  },
  {
   "cell_type": "code",
   "execution_count": 20,
   "metadata": {},
   "outputs": [
    {
     "name": "stdout",
     "output_type": "stream",
     "text": [
      "RMSE региона2: 40.02970873393434\n",
      "Средний запас предсказний: 94.96504596800489\n"
     ]
    }
   ],
   "source": [
    "model2 = LinearRegression()\n",
    "model2.fit(features_train2, target_train2)\n",
    "predictions2=model2.predict(features_valid2)\n",
    "mse2=mean_squared_error(target_valid2,predictions2)\n",
    "rmse2=math.sqrt(mse2)\n",
    "print(\"RMSE региона2:\", rmse2 )\n",
    "print('Средний запас предсказний:', predictions2.mean())"
   ]
  },
  {
   "cell_type": "markdown",
   "metadata": {},
   "source": [
    "Проверим модель на адекватность. Сравним модель с константной моделью, которая любому объекту прогнозирует среднее значение из выборки"
   ]
  },
  {
   "cell_type": "code",
   "execution_count": 21,
   "metadata": {},
   "outputs": [
    {
     "name": "stdout",
     "output_type": "stream",
     "text": [
      "44.90234968510566\n"
     ]
    }
   ],
   "source": [
    "predicted_valid2=pd.Series(target_train2.mean(), index=target_valid2.index)\n",
    "mse_const2=mean_squared_error(target_valid2,predicted_valid2 )\n",
    "rmse_const2=math.sqrt(mse_const2)\n",
    "print(rmse_const2)"
   ]
  },
  {
   "cell_type": "markdown",
   "metadata": {},
   "source": [
    "У региона2 высокий средний запас и высокий RMSE (но ниже чем у константной модели). "
   ]
  },
  {
   "cell_type": "markdown",
   "metadata": {},
   "source": [
    "**Выводы**. Самый высокий средний запас модель предсказала для региона2 ~ 95 тыс баррелей. Но и RMSE получился самым высоким = 40.\n",
    "Самый низкий RMSE получился у региона1= 0.9 и средний запас сырья модель предсказала самый низкий.  У региона0 RMSE и средний запас чуть ниже чем у региона2.\n",
    "\n",
    "Проверка на адекватность показала, что модели работают лучше чем константная модель\n"
   ]
  },
  {
   "cell_type": "markdown",
   "metadata": {},
   "source": [
    "## Подготовка к расчёту прибыли"
   ]
  },
  {
   "cell_type": "markdown",
   "metadata": {},
   "source": [
    "Запишем ключевые значения для расчёта прибыли"
   ]
  },
  {
   "cell_type": "code",
   "execution_count": 22,
   "metadata": {},
   "outputs": [],
   "source": [
    "cost_price = 10000000000   #Бюджет на разработку скважин в регионе, т.е. расходы.\n",
    "wells= 200                 #Количество скважин, которое берется в разработку\n",
    "revenue_per_unit = 450000  #Цена единицы продукции (тыс. баррелей)"
   ]
  },
  {
   "cell_type": "markdown",
   "metadata": {},
   "source": [
    "Рассчитаем какой должен быть объем добываемого сырья у каждой из 200 скважин, чтобы как минимум покрыть расходы."
   ]
  },
  {
   "cell_type": "code",
   "execution_count": 23,
   "metadata": {},
   "outputs": [
    {
     "name": "stdout",
     "output_type": "stream",
     "text": [
      "Достаточный объём сырья для безубыточной разработки новой скважины, тыс. баррелей:  111.11111111111111\n"
     ]
    }
   ],
   "source": [
    "volume_per_well = cost_price/revenue_per_unit/wells\n",
    "print('Достаточный объём сырья для безубыточной разработки новой скважины, тыс. баррелей: ', volume_per_well )"
   ]
  },
  {
   "cell_type": "markdown",
   "metadata": {},
   "source": [
    "Посмотрим на средний запас сырья в каждом регионе."
   ]
  },
  {
   "cell_type": "code",
   "execution_count": 24,
   "metadata": {},
   "outputs": [
    {
     "name": "stdout",
     "output_type": "stream",
     "text": [
      "Средний запас сырья региона0, тыс. баррелей: 92.50000000000001\n"
     ]
    }
   ],
   "source": [
    "print('Средний запас сырья региона0, тыс. баррелей:', target0.mean())"
   ]
  },
  {
   "cell_type": "code",
   "execution_count": 25,
   "metadata": {},
   "outputs": [
    {
     "name": "stdout",
     "output_type": "stream",
     "text": [
      "Средний запас сырья региона1, тыс. баррелей: 68.82500000000002\n"
     ]
    }
   ],
   "source": [
    "print('Средний запас сырья региона1, тыс. баррелей:', target1.mean())"
   ]
  },
  {
   "cell_type": "code",
   "execution_count": 26,
   "metadata": {},
   "outputs": [
    {
     "name": "stdout",
     "output_type": "stream",
     "text": [
      "Средний запас сырья региона2, тыс. баррелей: 95.00000000000004\n"
     ]
    }
   ],
   "source": [
    "print('Средний запас сырья региона2, тыс. баррелей:', target2.mean())"
   ]
  },
  {
   "cell_type": "markdown",
   "metadata": {},
   "source": [
    "**Вывод**. Если в регионе будут отбирать 200 скважин для разработки и стоимость единицы продукции будет составлять 450К рублей, то для того чтобы как минимум покрыть расходы на разработку=10 млрд. руб, с каждой скажины необходимо добывать как минимум 111,11 тыс баррелей. \n",
    "\n",
    "Средний запас одной скважины в каждом из 3-х регионов ниже 111.11. Больше всего средний запас в регионе2, он составляет 95 тыс. баррелей."
   ]
  },
  {
   "cell_type": "markdown",
   "metadata": {},
   "source": [
    "## Расчёт прибыли и рисков "
   ]
  },
  {
   "cell_type": "markdown",
   "metadata": {},
   "source": [
    "Для удобства расчетов переведем данные предсказаний моделей в series c cохранением индексов по данным в target."
   ]
  },
  {
   "cell_type": "code",
   "execution_count": 27,
   "metadata": {},
   "outputs": [],
   "source": [
    "predictions0 = pd.Series(predictions0, index=target_valid0.index)\n",
    "predictions1 = pd.Series(predictions1, index=target_valid1.index)\n",
    "predictions2 = pd.Series(predictions2, index=target_valid2.index)"
   ]
  },
  {
   "cell_type": "markdown",
   "metadata": {},
   "source": [
    "Напишем функцию для расчёта прибыли по скважинам с максимальными значениями предсказаний"
   ]
  },
  {
   "cell_type": "code",
   "execution_count": 28,
   "metadata": {},
   "outputs": [],
   "source": [
    "def revenue(target, predictions,count):\n",
    "    predict_sorted=predictions.sort_values(ascending=False)\n",
    "    selected = target[predict_sorted.index][:count]\n",
    "    return revenue_per_unit*selected.sum()-cost_price #Прибыль для полученного объёма сырья: оборот - расходы"
   ]
  },
  {
   "cell_type": "markdown",
   "metadata": {},
   "source": [
    "Используем технику Bootstrap с 1000 выборок, чтобы найти распределение прибыли."
   ]
  },
  {
   "cell_type": "code",
   "execution_count": 29,
   "metadata": {},
   "outputs": [],
   "source": [
    "def boots_method(target_valid, predictions):\n",
    "    target_valid=target_valid\n",
    "    predictions=predictions\n",
    "    state=np.random.RandomState(12345)\n",
    "    values=[]\n",
    "    for i in range(1000):\n",
    "        target_subsample = target_valid.sample(n=500, replace=True, random_state=state)\n",
    "        predict_subsample = predictions[target_subsample.index]\n",
    "        values.append(revenue(target_subsample, predict_subsample,200))\n",
    "    values=pd.DataFrame(values, columns=['revenue'])\n",
    "    lower=values['revenue'].quantile(0.05)\n",
    "    upper=values['revenue'].quantile(0.95)\n",
    "    mean=values['revenue'].mean()\n",
    "    print('Доверительный интервал, min: {:,.2f}'.format(lower))\n",
    "    print('Доверительный интервал, max: {:,.2f}'.format(upper))\n",
    "    print('Средняя прибыль: {:,.2f}'.format(mean))\n",
    "    negrevenue_wills= values[values['revenue']<0]       # выборка по скважинам с убытками \n",
    "    risk_wills = negrevenue_wills['revenue'].count()/values['revenue'].count()*100  #расчет доли убыточных скважин из общего числа скважин\n",
    "    print('Доля скважин, которые будут приносить убыток, %:',  risk_wills)\n",
    "    values['revenue']= values['revenue']/1000000    # уменьшим кол-во нулей, чтобы цифры на графике по оси Y отображались в удобном виде \n",
    "    ax=values.plot(kind='hist', bins=12, grid=True)  \n",
    "    ax.set_xlabel('Прибыль, млн.руб.', fontsize=13)\n",
    "    ax.vlines(0, 0, 230, color= 'k', linestyle ='--',)\n",
    "    plt.show()\n",
    "   "
   ]
  },
  {
   "cell_type": "code",
   "execution_count": 30,
   "metadata": {},
   "outputs": [
    {
     "name": "stdout",
     "output_type": "stream",
     "text": [
      "Доверительный интервал, min: -31,803,114.35\n",
      "Доверительный интервал, max: 881,341,454.36\n",
      "Средняя прибыль: 425,938,526.91\n",
      "Доля скважин, которые будут приносить убыток, %: 6.0\n"
     ]
    },
    {
     "data": {
      "image/png": "[encoded data removed]",
      "text/plain": [
       "<Figure size 432x288 with 1 Axes>"
      ]
     },
     "metadata": {
      "needs_background": "light"
     },
     "output_type": "display_data"
    }
   ],
   "source": [
    "boots_method(target_valid0, predictions0)"
   ]
  },
  {
   "cell_type": "code",
   "execution_count": 31,
   "metadata": {},
   "outputs": [
    {
     "name": "stdout",
     "output_type": "stream",
     "text": [
      "Доверительный интервал, min: 150,785,740.64\n",
      "Доверительный интервал, max: 861,521,464.10\n",
      "Средняя прибыль: 515,222,773.44\n",
      "Доля скважин, которые будут приносить убыток, %: 1.0\n"
     ]
    },
    {
     "data": {
      "image/png": "[encoded data removed]",
      "text/plain": [
       "<Figure size 432x288 with 1 Axes>"
      ]
     },
     "metadata": {
      "needs_background": "light"
     },
     "output_type": "display_data"
    }
   ],
   "source": [
    "boots_method(target_valid1, predictions1)"
   ]
  },
  {
   "cell_type": "code",
   "execution_count": 32,
   "metadata": {},
   "outputs": [
    {
     "name": "stdout",
     "output_type": "stream",
     "text": [
      "Доверительный интервал, min: -43,448,491.32\n",
      "Доверительный интервал, max: 897,954,688.90\n",
      "Средняя прибыль: 435,008,362.78\n",
      "Доля скважин, которые будут приносить убыток, %: 6.4\n"
     ]
    },
    {
     "data": {
      "image/png": "[encoded data removed]",
      "text/plain": [
       "<Figure size 432x288 with 1 Axes>"
      ]
     },
     "metadata": {
      "needs_background": "light"
     },
     "output_type": "display_data"
    }
   ],
   "source": [
    "boots_method(target_valid2, predictions2)"
   ]
  },
  {
   "cell_type": "markdown",
   "metadata": {},
   "source": [
    "Посмотрим на данные 3-х регионов в таблице"
   ]
  },
  {
   "cell_type": "code",
   "execution_count": 33,
   "metadata": {},
   "outputs": [
    {
     "data": {
      "text/html": [
       "<div>\n",
       "<style scoped>\n",
       "    .dataframe tbody tr th:only-of-type {\n",
       "        vertical-align: middle;\n",
       "    }\n",
       "\n",
       "    .dataframe tbody tr th {\n",
       "        vertical-align: top;\n",
       "    }\n",
       "\n",
       "    .dataframe thead th {\n",
       "        text-align: right;\n",
       "    }\n",
       "</style>\n",
       "<table border=\"1\" class=\"dataframe\">\n",
       "  <thead>\n",
       "    <tr style=\"text-align: right;\">\n",
       "      <th></th>\n",
       "      <th>Регион</th>\n",
       "      <th>Средняя прибыль, млн. руб.</th>\n",
       "      <th>Доверительный интервал, млн. руб.</th>\n",
       "      <th>Доля убыточных скважин, %</th>\n",
       "    </tr>\n",
       "  </thead>\n",
       "  <tbody>\n",
       "    <tr>\n",
       "      <td>0</td>\n",
       "      <td>0</td>\n",
       "      <td>425.9</td>\n",
       "      <td>-31.8 / 881.3</td>\n",
       "      <td>6.0</td>\n",
       "    </tr>\n",
       "    <tr>\n",
       "      <td>1</td>\n",
       "      <td>1</td>\n",
       "      <td>515.2</td>\n",
       "      <td>150.7 / 861.5</td>\n",
       "      <td>1.0</td>\n",
       "    </tr>\n",
       "    <tr>\n",
       "      <td>2</td>\n",
       "      <td>2</td>\n",
       "      <td>435.0</td>\n",
       "      <td>-43.4 / 897.9</td>\n",
       "      <td>6.4</td>\n",
       "    </tr>\n",
       "  </tbody>\n",
       "</table>\n",
       "</div>"
      ],
      "text/plain": [
       "   Регион  Средняя прибыль, млн. руб. Доверительный интервал, млн. руб.  \\\n",
       "0       0                       425.9                     -31.8 / 881.3   \n",
       "1       1                       515.2                    150.7 / 861.5    \n",
       "2       2                       435.0                     -43.4 / 897.9   \n",
       "\n",
       "   Доля убыточных скважин, %  \n",
       "0                        6.0  \n",
       "1                        1.0  \n",
       "2                        6.4  "
      ]
     },
     "metadata": {},
     "output_type": "display_data"
    }
   ],
   "source": [
    "data = {'Регион': [0, 1, 2], 'Средняя прибыль, млн. руб.': [425.9, 515.2, 435.0],\n",
    "        'Доверительный интервал, млн. руб.': ['-31.8 / 881.3', '150.7 / 861.5 ', '-43.4 / 897.9'], \n",
    "         'Доля убыточных скважин, %':[ 6.0, 1.0, 6.4 ]}\n",
    "data_pivot = pd.DataFrame.from_dict(data)\n",
    "display(data_pivot)"
   ]
  },
  {
   "cell_type": "markdown",
   "metadata": {},
   "source": [
    "**Вывод**. Для разработки месторождения подходит регион1. В этом регионе получилась наибольшая средняя выручка с 1 скважины (515 млн. рублей) и доля скважин, которые могут принести убыток  всего 1 %.   95% доверительный интервал говорит о том, что существует высокая вероятность того, что реальная прибыль будет в пределах диапазона 150.7 - 861.5 млн руб. Верхняя граница интервала чуть ниже чем у регионов 0 и 2, но нижняя граница значительно выше и она положительная. "
   ]
  }
 ],
 "metadata": {
  "kernelspec": {
   "display_name": "Python 3",
   "language": "python",
   "name": "python3"
  },
  "language_info": {
   "codemirror_mode": {
    "name": "ipython",
    "version": 3
   },
   "file_extension": ".py",
   "mimetype": "text/x-python",
   "name": "python",
   "nbconvert_exporter": "python",
   "pygments_lexer": "ipython3",
   "version": "3.7.4"
  },
  "toc": {
   "base_numbering": 1,
   "nav_menu": {},
   "number_sections": true,
   "sideBar": true,
   "skip_h1_title": true,
   "title_cell": "Table of Contents",
   "title_sidebar": "Contents",
   "toc_cell": false,
   "toc_position": {},
   "toc_section_display": true,
   "toc_window_display": false
  }
 },
 "nbformat": 4,
 "nbformat_minor": 2
}
