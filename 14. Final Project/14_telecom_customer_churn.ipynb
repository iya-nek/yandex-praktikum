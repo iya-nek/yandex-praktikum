{
 "cells": [
  {
   "cell_type": "markdown",
   "metadata": {},
   "source": [
    "# Анализ оттока клиентов телеком компании"
   ]
  },
  {
   "cell_type": "markdown",
   "metadata": {},
   "source": [
    "**Цель** - построить и обучить модель, которая будет прогнозировать отток клиентов. Целевая метрика - **ROC-AUC** не ниже 0.88"
   ]
  },
  {
   "cell_type": "markdown",
   "metadata": {},
   "source": [
    "**Описание**\n",
    "\n",
    "Оператор предоставляет два основных типа услуг: \n",
    "\n",
    "1. Стационарную телефонную связь. Возможно подключение телефонного аппарата к нескольким линиям одновременно.\n",
    "2. Интернет. Подключение может быть двух типов: через телефонную линию (DSL*,* от англ. *digital subscriber line*, «цифровая абонентская линия») или оптоволоконный кабель (*Fiber optic*).\n",
    "\n",
    "Также доступны такие услуги:\n",
    "\n",
    "- Интернет-безопасность: антивирус (*DeviceProtection*) и блокировка небезопасных сайтов (*OnlineSecurity*);\n",
    "- Выделенная линия технической поддержки (*TechSupport*);\n",
    "- Облачное хранилище файлов для резервного копирования данных (*OnlineBackup*);\n",
    "- Стриминговое телевидение (*StreamingTV*) и каталог фильмов (*StreamingMovies*).\n",
    "\n",
    "Оператор связи «Ниединогоразрыва.ком» хочет научиться прогнозировать отток клиентов. Если выяснится, что пользователь планирует уйти, ему будут предложены промокоды и специальные условия.\n",
    "\n",
    "Данные состоят из файлов, полученных из разных источников:\n",
    "\n",
    "- `contract.csv` — информация о договоре;\n",
    "- `personal.csv` — персональные данные клиента;\n",
    "- `internet.csv` — информация об интернет-услугах;\n",
    "- `phone.csv` — информация об услугах телефонии.\n",
    "\n",
    "Во всех файлах столбец `customerID` содержит код клиента. Информация о договорах актуальна на 1 февраля 2020."
   ]
  },
  {
   "cell_type": "markdown",
   "metadata": {},
   "source": [
    "**План работы**:\n",
    " 1. Анализ и предобработка данных: \n",
    "    - поиск пропущенных значений, аномалий и дубликатов, их обработка\n",
    "    - создание столбца с целевым признаком\n",
    "    - объединение файлов в один. \n",
    " 2. Исследовательский анализ данных:\n",
    "    - сравнение распределения величин ежемесячных платежей всех клиентов и тех, кто ушел\n",
    "    - рассчет стастических метрик для всех клиентов и тех, кто ушел: медиана, среднее, мин, мах, квантили\n",
    "    - графики, отображающие долю интернет-пользователей и пользователей телефонной связи\n",
    " 3. Подготовка данных для моделей:\n",
    "    - разделение данных на обучающую и тестовую выборки\n",
    "    - кодирование категориальных признаков\n",
    "    - маcштабирование количественных признаков\n",
    "    - анализ баланса классов\n",
    " 4. Обучение простых моделей:\n",
    "    - обучение простых моделей с автоподобором дисбаланса классов\n",
    "    - обучение простых моделей с учетом дисбаланса классов (upsamaple, downsamle)\n",
    " 5. Тестирование лучшей модели\n",
    " 6. Обучение моделей градиентного бустинга\n",
    " 7. Тестирование лучшей модели градиентного бустинга\n",
    " 8. Общие выводы"
   ]
  },
  {
   "cell_type": "markdown",
   "metadata": {},
   "source": [
    "## 1. Анализ и предобработка данных"
   ]
  },
  {
   "cell_type": "code",
   "execution_count": 2,
   "metadata": {},
   "outputs": [],
   "source": [
    "import pandas as pd\n",
    "import numpy as np\n",
    "from scipy import stats as st\n",
    "\n",
    "import warnings\n",
    "warnings.filterwarnings('ignore')\n",
    "\n",
    "from IPython.display import display\n",
    "pd.set_option('display.max_columns', 100)\n",
    "\n",
    "import matplotlib.pyplot as plt\n",
    "\n",
    "from sklearn.preprocessing import StandardScaler\n",
    "from sklearn.model_selection import train_test_split\n",
    "from sklearn.model_selection import GridSearchCV\n",
    "from sklearn.tree import DecisionTreeClassifier\n",
    "from sklearn.ensemble import RandomForestClassifier\n",
    "from sklearn.linear_model import LogisticRegression\n",
    "from sklearn.metrics import precision_score, accuracy_score, roc_curve, make_scorer,roc_auc_score, recall_score\n",
    "from sklearn.utils import shuffle\n",
    "from catboost import CatBoostClassifier\n",
    "from lightgbm import LGBMClassifier\n",
    "import category_encoders as ce\n",
    "from category_encoders import OneHotEncoder\n",
    "import collections"
   ]
  },
  {
   "cell_type": "code",
   "execution_count": 3,
   "metadata": {},
   "outputs": [],
   "source": [
    "try:  # local import\n",
    "    df_contract = pd.read_csv('/Users/iyaneklyudova/Downloads/final_provider/contract.csv', na_values=' ')\n",
    "    df_internet = pd.read_csv('/Users/iyaneklyudova/Downloads/final_provider/internet.csv', na_values=' ')\n",
    "    df_personal = pd.read_csv('/Users/iyaneklyudova/Downloads/final_provider/personal.csv', na_values=' ')\n",
    "    df_phone = pd.read_csv('/Users/iyaneklyudova/Downloads/final_provider/phone.csv', na_values=' ')\n",
    "\n",
    "except:  # from Praktikum server\n",
    "    df_contract = pd.read_csv('/datasets/final_provider/contract.csv', na_values=' ')\n",
    "    df_internet = pd.read_csv('/datasets/final_provider/internet.csv', na_values=' ')\n",
    "    df_personal = pd.read_csv('/datasets/final_provider/personal.csv', na_values=' ')\n",
    "    df_phone = pd.read_csv('/datasets/final_provider/phone.csv', na_values=' ')"
   ]
  },
  {
   "cell_type": "markdown",
   "metadata": {},
   "source": [
    "**Данные о договоре**"
   ]
  },
  {
   "cell_type": "markdown",
   "metadata": {},
   "source": [
    "Посмотрим общую информацию о файле"
   ]
  },
  {
   "cell_type": "code",
   "execution_count": 4,
   "metadata": {},
   "outputs": [
    {
     "data": {
      "text/html": [
       "<div>\n",
       "<style scoped>\n",
       "    .dataframe tbody tr th:only-of-type {\n",
       "        vertical-align: middle;\n",
       "    }\n",
       "\n",
       "    .dataframe tbody tr th {\n",
       "        vertical-align: top;\n",
       "    }\n",
       "\n",
       "    .dataframe thead th {\n",
       "        text-align: right;\n",
       "    }\n",
       "</style>\n",
       "<table border=\"1\" class=\"dataframe\">\n",
       "  <thead>\n",
       "    <tr style=\"text-align: right;\">\n",
       "      <th></th>\n",
       "      <th>customerID</th>\n",
       "      <th>BeginDate</th>\n",
       "      <th>EndDate</th>\n",
       "      <th>Type</th>\n",
       "      <th>PaperlessBilling</th>\n",
       "      <th>PaymentMethod</th>\n",
       "      <th>MonthlyCharges</th>\n",
       "      <th>TotalCharges</th>\n",
       "    </tr>\n",
       "  </thead>\n",
       "  <tbody>\n",
       "    <tr>\n",
       "      <td>0</td>\n",
       "      <td>7590-VHVEG</td>\n",
       "      <td>2020-01-01</td>\n",
       "      <td>No</td>\n",
       "      <td>Month-to-month</td>\n",
       "      <td>Yes</td>\n",
       "      <td>Electronic check</td>\n",
       "      <td>29.85</td>\n",
       "      <td>29.85</td>\n",
       "    </tr>\n",
       "    <tr>\n",
       "      <td>1</td>\n",
       "      <td>5575-GNVDE</td>\n",
       "      <td>2017-04-01</td>\n",
       "      <td>No</td>\n",
       "      <td>One year</td>\n",
       "      <td>No</td>\n",
       "      <td>Mailed check</td>\n",
       "      <td>56.95</td>\n",
       "      <td>1889.50</td>\n",
       "    </tr>\n",
       "    <tr>\n",
       "      <td>2</td>\n",
       "      <td>3668-QPYBK</td>\n",
       "      <td>2019-10-01</td>\n",
       "      <td>2019-12-01 00:00:00</td>\n",
       "      <td>Month-to-month</td>\n",
       "      <td>Yes</td>\n",
       "      <td>Mailed check</td>\n",
       "      <td>53.85</td>\n",
       "      <td>108.15</td>\n",
       "    </tr>\n",
       "    <tr>\n",
       "      <td>3</td>\n",
       "      <td>7795-CFOCW</td>\n",
       "      <td>2016-05-01</td>\n",
       "      <td>No</td>\n",
       "      <td>One year</td>\n",
       "      <td>No</td>\n",
       "      <td>Bank transfer (automatic)</td>\n",
       "      <td>42.30</td>\n",
       "      <td>1840.75</td>\n",
       "    </tr>\n",
       "    <tr>\n",
       "      <td>4</td>\n",
       "      <td>9237-HQITU</td>\n",
       "      <td>2019-09-01</td>\n",
       "      <td>2019-11-01 00:00:00</td>\n",
       "      <td>Month-to-month</td>\n",
       "      <td>Yes</td>\n",
       "      <td>Electronic check</td>\n",
       "      <td>70.70</td>\n",
       "      <td>151.65</td>\n",
       "    </tr>\n",
       "  </tbody>\n",
       "</table>\n",
       "</div>"
      ],
      "text/plain": [
       "   customerID   BeginDate              EndDate            Type  \\\n",
       "0  7590-VHVEG  2020-01-01                   No  Month-to-month   \n",
       "1  5575-GNVDE  2017-04-01                   No        One year   \n",
       "2  3668-QPYBK  2019-10-01  2019-12-01 00:00:00  Month-to-month   \n",
       "3  7795-CFOCW  2016-05-01                   No        One year   \n",
       "4  9237-HQITU  2019-09-01  2019-11-01 00:00:00  Month-to-month   \n",
       "\n",
       "  PaperlessBilling              PaymentMethod  MonthlyCharges  TotalCharges  \n",
       "0              Yes           Electronic check           29.85         29.85  \n",
       "1               No               Mailed check           56.95       1889.50  \n",
       "2              Yes               Mailed check           53.85        108.15  \n",
       "3               No  Bank transfer (automatic)           42.30       1840.75  \n",
       "4              Yes           Electronic check           70.70        151.65  "
      ]
     },
     "metadata": {},
     "output_type": "display_data"
    },
    {
     "name": "stdout",
     "output_type": "stream",
     "text": [
      "<class 'pandas.core.frame.DataFrame'>\n",
      "RangeIndex: 7043 entries, 0 to 7042\n",
      "Data columns (total 8 columns):\n",
      "customerID          7043 non-null object\n",
      "BeginDate           7043 non-null object\n",
      "EndDate             7043 non-null object\n",
      "Type                7043 non-null object\n",
      "PaperlessBilling    7043 non-null object\n",
      "PaymentMethod       7043 non-null object\n",
      "MonthlyCharges      7043 non-null float64\n",
      "TotalCharges        7032 non-null float64\n",
      "dtypes: float64(2), object(6)\n",
      "memory usage: 440.3+ KB\n"
     ]
    }
   ],
   "source": [
    "display(df_contract.head())\n",
    "df_contract.info()"
   ]
  },
  {
   "cell_type": "code",
   "execution_count": 5,
   "metadata": {},
   "outputs": [
    {
     "name": "stdout",
     "output_type": "stream",
     "text": [
      "Количество дубликатов: 0\n",
      "Количество уникальных пользователей: 7043\n"
     ]
    }
   ],
   "source": [
    "print('Количество дубликатов:', df_contract.duplicated().sum())\n",
    "print('Количество уникальных пользователей:', len(df_contract['customerID'].unique()))"
   ]
  },
  {
   "cell_type": "markdown",
   "metadata": {},
   "source": [
    "В файле данные о 7043 уникальных пользователях. Дубликатов нет, но есть пропуски. Колонки с датой `BeginDate` (дата начала пользования услугами) и `EndDate` (дата окончания пользования услугами) имеют тип категориальных данных. Необходимо поменять."
   ]
  },
  {
   "cell_type": "markdown",
   "metadata": {},
   "source": [
    "Посмотрим на пропуски"
   ]
  },
  {
   "cell_type": "code",
   "execution_count": 6,
   "metadata": {},
   "outputs": [
    {
     "name": "stdout",
     "output_type": "stream",
     "text": [
      "customerID           0\n",
      "BeginDate            0\n",
      "EndDate              0\n",
      "Type                 0\n",
      "PaperlessBilling     0\n",
      "PaymentMethod        0\n",
      "MonthlyCharges       0\n",
      "TotalCharges        11\n",
      "dtype: int64\n"
     ]
    }
   ],
   "source": [
    "nan_number = df_contract.isna().sum()\n",
    "print(nan_number)"
   ]
  },
  {
   "cell_type": "markdown",
   "metadata": {},
   "source": [
    "Посмотрим на строки с пропусками в колонке `TotalCharges`."
   ]
  },
  {
   "cell_type": "code",
   "execution_count": 7,
   "metadata": {},
   "outputs": [
    {
     "name": "stdout",
     "output_type": "stream",
     "text": [
      "Доля пропусков 0.1561834445548772\n"
     ]
    }
   ],
   "source": [
    "print('Доля пропусков', 11/7043 *100 )"
   ]
  },
  {
   "cell_type": "code",
   "execution_count": 8,
   "metadata": {},
   "outputs": [
    {
     "data": {
      "text/html": [
       "<div>\n",
       "<style scoped>\n",
       "    .dataframe tbody tr th:only-of-type {\n",
       "        vertical-align: middle;\n",
       "    }\n",
       "\n",
       "    .dataframe tbody tr th {\n",
       "        vertical-align: top;\n",
       "    }\n",
       "\n",
       "    .dataframe thead th {\n",
       "        text-align: right;\n",
       "    }\n",
       "</style>\n",
       "<table border=\"1\" class=\"dataframe\">\n",
       "  <thead>\n",
       "    <tr style=\"text-align: right;\">\n",
       "      <th></th>\n",
       "      <th>customerID</th>\n",
       "      <th>BeginDate</th>\n",
       "      <th>EndDate</th>\n",
       "      <th>Type</th>\n",
       "      <th>PaperlessBilling</th>\n",
       "      <th>PaymentMethod</th>\n",
       "      <th>MonthlyCharges</th>\n",
       "      <th>TotalCharges</th>\n",
       "    </tr>\n",
       "  </thead>\n",
       "  <tbody>\n",
       "    <tr>\n",
       "      <td>488</td>\n",
       "      <td>4472-LVYGI</td>\n",
       "      <td>2020-02-01</td>\n",
       "      <td>No</td>\n",
       "      <td>Two year</td>\n",
       "      <td>Yes</td>\n",
       "      <td>Bank transfer (automatic)</td>\n",
       "      <td>52.55</td>\n",
       "      <td>NaN</td>\n",
       "    </tr>\n",
       "    <tr>\n",
       "      <td>753</td>\n",
       "      <td>3115-CZMZD</td>\n",
       "      <td>2020-02-01</td>\n",
       "      <td>No</td>\n",
       "      <td>Two year</td>\n",
       "      <td>No</td>\n",
       "      <td>Mailed check</td>\n",
       "      <td>20.25</td>\n",
       "      <td>NaN</td>\n",
       "    </tr>\n",
       "    <tr>\n",
       "      <td>936</td>\n",
       "      <td>5709-LVOEQ</td>\n",
       "      <td>2020-02-01</td>\n",
       "      <td>No</td>\n",
       "      <td>Two year</td>\n",
       "      <td>No</td>\n",
       "      <td>Mailed check</td>\n",
       "      <td>80.85</td>\n",
       "      <td>NaN</td>\n",
       "    </tr>\n",
       "    <tr>\n",
       "      <td>1082</td>\n",
       "      <td>4367-NUYAO</td>\n",
       "      <td>2020-02-01</td>\n",
       "      <td>No</td>\n",
       "      <td>Two year</td>\n",
       "      <td>No</td>\n",
       "      <td>Mailed check</td>\n",
       "      <td>25.75</td>\n",
       "      <td>NaN</td>\n",
       "    </tr>\n",
       "    <tr>\n",
       "      <td>1340</td>\n",
       "      <td>1371-DWPAZ</td>\n",
       "      <td>2020-02-01</td>\n",
       "      <td>No</td>\n",
       "      <td>Two year</td>\n",
       "      <td>No</td>\n",
       "      <td>Credit card (automatic)</td>\n",
       "      <td>56.05</td>\n",
       "      <td>NaN</td>\n",
       "    </tr>\n",
       "    <tr>\n",
       "      <td>3331</td>\n",
       "      <td>7644-OMVMY</td>\n",
       "      <td>2020-02-01</td>\n",
       "      <td>No</td>\n",
       "      <td>Two year</td>\n",
       "      <td>No</td>\n",
       "      <td>Mailed check</td>\n",
       "      <td>19.85</td>\n",
       "      <td>NaN</td>\n",
       "    </tr>\n",
       "    <tr>\n",
       "      <td>3826</td>\n",
       "      <td>3213-VVOLG</td>\n",
       "      <td>2020-02-01</td>\n",
       "      <td>No</td>\n",
       "      <td>Two year</td>\n",
       "      <td>No</td>\n",
       "      <td>Mailed check</td>\n",
       "      <td>25.35</td>\n",
       "      <td>NaN</td>\n",
       "    </tr>\n",
       "    <tr>\n",
       "      <td>4380</td>\n",
       "      <td>2520-SGTTA</td>\n",
       "      <td>2020-02-01</td>\n",
       "      <td>No</td>\n",
       "      <td>Two year</td>\n",
       "      <td>No</td>\n",
       "      <td>Mailed check</td>\n",
       "      <td>20.00</td>\n",
       "      <td>NaN</td>\n",
       "    </tr>\n",
       "    <tr>\n",
       "      <td>5218</td>\n",
       "      <td>2923-ARZLG</td>\n",
       "      <td>2020-02-01</td>\n",
       "      <td>No</td>\n",
       "      <td>One year</td>\n",
       "      <td>Yes</td>\n",
       "      <td>Mailed check</td>\n",
       "      <td>19.70</td>\n",
       "      <td>NaN</td>\n",
       "    </tr>\n",
       "    <tr>\n",
       "      <td>6670</td>\n",
       "      <td>4075-WKNIU</td>\n",
       "      <td>2020-02-01</td>\n",
       "      <td>No</td>\n",
       "      <td>Two year</td>\n",
       "      <td>No</td>\n",
       "      <td>Mailed check</td>\n",
       "      <td>73.35</td>\n",
       "      <td>NaN</td>\n",
       "    </tr>\n",
       "    <tr>\n",
       "      <td>6754</td>\n",
       "      <td>2775-SEFEE</td>\n",
       "      <td>2020-02-01</td>\n",
       "      <td>No</td>\n",
       "      <td>Two year</td>\n",
       "      <td>Yes</td>\n",
       "      <td>Bank transfer (automatic)</td>\n",
       "      <td>61.90</td>\n",
       "      <td>NaN</td>\n",
       "    </tr>\n",
       "  </tbody>\n",
       "</table>\n",
       "</div>"
      ],
      "text/plain": [
       "      customerID   BeginDate EndDate      Type PaperlessBilling  \\\n",
       "488   4472-LVYGI  2020-02-01      No  Two year              Yes   \n",
       "753   3115-CZMZD  2020-02-01      No  Two year               No   \n",
       "936   5709-LVOEQ  2020-02-01      No  Two year               No   \n",
       "1082  4367-NUYAO  2020-02-01      No  Two year               No   \n",
       "1340  1371-DWPAZ  2020-02-01      No  Two year               No   \n",
       "3331  7644-OMVMY  2020-02-01      No  Two year               No   \n",
       "3826  3213-VVOLG  2020-02-01      No  Two year               No   \n",
       "4380  2520-SGTTA  2020-02-01      No  Two year               No   \n",
       "5218  2923-ARZLG  2020-02-01      No  One year              Yes   \n",
       "6670  4075-WKNIU  2020-02-01      No  Two year               No   \n",
       "6754  2775-SEFEE  2020-02-01      No  Two year              Yes   \n",
       "\n",
       "                  PaymentMethod  MonthlyCharges  TotalCharges  \n",
       "488   Bank transfer (automatic)           52.55           NaN  \n",
       "753                Mailed check           20.25           NaN  \n",
       "936                Mailed check           80.85           NaN  \n",
       "1082               Mailed check           25.75           NaN  \n",
       "1340    Credit card (automatic)           56.05           NaN  \n",
       "3331               Mailed check           19.85           NaN  \n",
       "3826               Mailed check           25.35           NaN  \n",
       "4380               Mailed check           20.00           NaN  \n",
       "5218               Mailed check           19.70           NaN  \n",
       "6670               Mailed check           73.35           NaN  \n",
       "6754  Bank transfer (automatic)           61.90           NaN  "
      ]
     },
     "metadata": {},
     "output_type": "display_data"
    }
   ],
   "source": [
    "df_contract_empty = df_contract.query('TotalCharges == \"nan\"')\n",
    "display(df_contract_empty)"
   ]
  },
  {
   "cell_type": "markdown",
   "metadata": {},
   "source": [
    "Все пропуски по пользователям, которые стали клиентами 1 февраля 2020 года. Это дата когда делался срез данных. Так как они только присоединились, их поведение не понятно (останутся или уйдут) и таких пользователей всего 11 (0,15% от общего числа), то удалим эти строки чтобы не портить обучение моделей."
   ]
  },
  {
   "cell_type": "code",
   "execution_count": 9,
   "metadata": {},
   "outputs": [
    {
     "name": "stdout",
     "output_type": "stream",
     "text": [
      "<class 'pandas.core.frame.DataFrame'>\n",
      "Int64Index: 7032 entries, 0 to 7042\n",
      "Data columns (total 8 columns):\n",
      "customerID          7032 non-null object\n",
      "BeginDate           7032 non-null object\n",
      "EndDate             7032 non-null object\n",
      "Type                7032 non-null object\n",
      "PaperlessBilling    7032 non-null object\n",
      "PaymentMethod       7032 non-null object\n",
      "MonthlyCharges      7032 non-null float64\n",
      "TotalCharges        7032 non-null float64\n",
      "dtypes: float64(2), object(6)\n",
      "memory usage: 494.4+ KB\n"
     ]
    }
   ],
   "source": [
    "df_contract=df_contract.dropna()\n",
    "df_contract.info()"
   ]
  },
  {
   "cell_type": "markdown",
   "metadata": {},
   "source": [
    "Поменяем тип данных у колонки `BeginDate` на дату"
   ]
  },
  {
   "cell_type": "code",
   "execution_count": 10,
   "metadata": {},
   "outputs": [],
   "source": [
    "df_contract['BeginDate']= pd.to_datetime(df_contract['BeginDate'], format ='%Y-%m-%d')"
   ]
  },
  {
   "cell_type": "markdown",
   "metadata": {},
   "source": [
    "Создадим колонку `СlientGroup`, которая показывает является ли пользователь клиентом или уже ушел, основываясь на данных в колонке `EndDate`. Если даты в колонке нет, то пользователь является клиентом , если дата есть, то ушел."
   ]
  },
  {
   "cell_type": "code",
   "execution_count": 11,
   "metadata": {},
   "outputs": [
    {
     "data": {
      "text/html": [
       "<div>\n",
       "<style scoped>\n",
       "    .dataframe tbody tr th:only-of-type {\n",
       "        vertical-align: middle;\n",
       "    }\n",
       "\n",
       "    .dataframe tbody tr th {\n",
       "        vertical-align: top;\n",
       "    }\n",
       "\n",
       "    .dataframe thead th {\n",
       "        text-align: right;\n",
       "    }\n",
       "</style>\n",
       "<table border=\"1\" class=\"dataframe\">\n",
       "  <thead>\n",
       "    <tr style=\"text-align: right;\">\n",
       "      <th></th>\n",
       "      <th>customerID</th>\n",
       "      <th>BeginDate</th>\n",
       "      <th>EndDate</th>\n",
       "      <th>Type</th>\n",
       "      <th>PaperlessBilling</th>\n",
       "      <th>PaymentMethod</th>\n",
       "      <th>MonthlyCharges</th>\n",
       "      <th>TotalCharges</th>\n",
       "      <th>СlientGroup</th>\n",
       "    </tr>\n",
       "  </thead>\n",
       "  <tbody>\n",
       "    <tr>\n",
       "      <td>0</td>\n",
       "      <td>7590-VHVEG</td>\n",
       "      <td>2020-01-01</td>\n",
       "      <td>No</td>\n",
       "      <td>Month-to-month</td>\n",
       "      <td>Yes</td>\n",
       "      <td>Electronic check</td>\n",
       "      <td>29.85</td>\n",
       "      <td>29.85</td>\n",
       "      <td>0</td>\n",
       "    </tr>\n",
       "    <tr>\n",
       "      <td>1</td>\n",
       "      <td>5575-GNVDE</td>\n",
       "      <td>2017-04-01</td>\n",
       "      <td>No</td>\n",
       "      <td>One year</td>\n",
       "      <td>No</td>\n",
       "      <td>Mailed check</td>\n",
       "      <td>56.95</td>\n",
       "      <td>1889.50</td>\n",
       "      <td>0</td>\n",
       "    </tr>\n",
       "    <tr>\n",
       "      <td>2</td>\n",
       "      <td>3668-QPYBK</td>\n",
       "      <td>2019-10-01</td>\n",
       "      <td>2019-12-01 00:00:00</td>\n",
       "      <td>Month-to-month</td>\n",
       "      <td>Yes</td>\n",
       "      <td>Mailed check</td>\n",
       "      <td>53.85</td>\n",
       "      <td>108.15</td>\n",
       "      <td>1</td>\n",
       "    </tr>\n",
       "    <tr>\n",
       "      <td>3</td>\n",
       "      <td>7795-CFOCW</td>\n",
       "      <td>2016-05-01</td>\n",
       "      <td>No</td>\n",
       "      <td>One year</td>\n",
       "      <td>No</td>\n",
       "      <td>Bank transfer (automatic)</td>\n",
       "      <td>42.30</td>\n",
       "      <td>1840.75</td>\n",
       "      <td>0</td>\n",
       "    </tr>\n",
       "    <tr>\n",
       "      <td>4</td>\n",
       "      <td>9237-HQITU</td>\n",
       "      <td>2019-09-01</td>\n",
       "      <td>2019-11-01 00:00:00</td>\n",
       "      <td>Month-to-month</td>\n",
       "      <td>Yes</td>\n",
       "      <td>Electronic check</td>\n",
       "      <td>70.70</td>\n",
       "      <td>151.65</td>\n",
       "      <td>1</td>\n",
       "    </tr>\n",
       "  </tbody>\n",
       "</table>\n",
       "</div>"
      ],
      "text/plain": [
       "   customerID  BeginDate              EndDate            Type  \\\n",
       "0  7590-VHVEG 2020-01-01                   No  Month-to-month   \n",
       "1  5575-GNVDE 2017-04-01                   No        One year   \n",
       "2  3668-QPYBK 2019-10-01  2019-12-01 00:00:00  Month-to-month   \n",
       "3  7795-CFOCW 2016-05-01                   No        One year   \n",
       "4  9237-HQITU 2019-09-01  2019-11-01 00:00:00  Month-to-month   \n",
       "\n",
       "  PaperlessBilling              PaymentMethod  MonthlyCharges  TotalCharges  \\\n",
       "0              Yes           Electronic check           29.85         29.85   \n",
       "1               No               Mailed check           56.95       1889.50   \n",
       "2              Yes               Mailed check           53.85        108.15   \n",
       "3               No  Bank transfer (automatic)           42.30       1840.75   \n",
       "4              Yes           Electronic check           70.70        151.65   \n",
       "\n",
       "   СlientGroup  \n",
       "0            0  \n",
       "1            0  \n",
       "2            1  \n",
       "3            0  \n",
       "4            1  "
      ]
     },
     "metadata": {},
     "output_type": "display_data"
    },
    {
     "data": {
      "text/plain": [
       "array([0, 1])"
      ]
     },
     "execution_count": 11,
     "metadata": {},
     "output_type": "execute_result"
    }
   ],
   "source": [
    "def client_group(EndDate):\n",
    "    try:\n",
    "        if EndDate == 'No':\n",
    "            return 0\n",
    "        else:\n",
    "            return 1\n",
    "    except:\n",
    "        print('ошибочное значение')\n",
    "        \n",
    "df_contract['СlientGroup'] =  df_contract['EndDate'].apply(client_group) \n",
    "display(df_contract.head())\n",
    "df_contract['СlientGroup'].unique()"
   ]
  },
  {
   "cell_type": "markdown",
   "metadata": {},
   "source": [
    "Посчитаем в отдельной колонке время жизни клиента `Lifetime`. Создадим копию колонки `EndDate` и заменим значение No на дату 2020-02-01 - дата когда делался срез данных. И вычислим разницу между `EndDateCopy` и `BeginDate` в днях."
   ]
  },
  {
   "cell_type": "code",
   "execution_count": 12,
   "metadata": {},
   "outputs": [
    {
     "data": {
      "text/html": [
       "<div>\n",
       "<style scoped>\n",
       "    .dataframe tbody tr th:only-of-type {\n",
       "        vertical-align: middle;\n",
       "    }\n",
       "\n",
       "    .dataframe tbody tr th {\n",
       "        vertical-align: top;\n",
       "    }\n",
       "\n",
       "    .dataframe thead th {\n",
       "        text-align: right;\n",
       "    }\n",
       "</style>\n",
       "<table border=\"1\" class=\"dataframe\">\n",
       "  <thead>\n",
       "    <tr style=\"text-align: right;\">\n",
       "      <th></th>\n",
       "      <th>customerID</th>\n",
       "      <th>BeginDate</th>\n",
       "      <th>EndDate</th>\n",
       "      <th>Type</th>\n",
       "      <th>PaperlessBilling</th>\n",
       "      <th>PaymentMethod</th>\n",
       "      <th>MonthlyCharges</th>\n",
       "      <th>TotalCharges</th>\n",
       "      <th>СlientGroup</th>\n",
       "      <th>Lifetime</th>\n",
       "    </tr>\n",
       "  </thead>\n",
       "  <tbody>\n",
       "    <tr>\n",
       "      <td>0</td>\n",
       "      <td>7590-VHVEG</td>\n",
       "      <td>2020-01-01</td>\n",
       "      <td>No</td>\n",
       "      <td>Month-to-month</td>\n",
       "      <td>Yes</td>\n",
       "      <td>Electronic check</td>\n",
       "      <td>29.85</td>\n",
       "      <td>29.85</td>\n",
       "      <td>0</td>\n",
       "      <td>31</td>\n",
       "    </tr>\n",
       "    <tr>\n",
       "      <td>1</td>\n",
       "      <td>5575-GNVDE</td>\n",
       "      <td>2017-04-01</td>\n",
       "      <td>No</td>\n",
       "      <td>One year</td>\n",
       "      <td>No</td>\n",
       "      <td>Mailed check</td>\n",
       "      <td>56.95</td>\n",
       "      <td>1889.50</td>\n",
       "      <td>0</td>\n",
       "      <td>1036</td>\n",
       "    </tr>\n",
       "    <tr>\n",
       "      <td>2</td>\n",
       "      <td>3668-QPYBK</td>\n",
       "      <td>2019-10-01</td>\n",
       "      <td>2019-12-01 00:00:00</td>\n",
       "      <td>Month-to-month</td>\n",
       "      <td>Yes</td>\n",
       "      <td>Mailed check</td>\n",
       "      <td>53.85</td>\n",
       "      <td>108.15</td>\n",
       "      <td>1</td>\n",
       "      <td>61</td>\n",
       "    </tr>\n",
       "    <tr>\n",
       "      <td>3</td>\n",
       "      <td>7795-CFOCW</td>\n",
       "      <td>2016-05-01</td>\n",
       "      <td>No</td>\n",
       "      <td>One year</td>\n",
       "      <td>No</td>\n",
       "      <td>Bank transfer (automatic)</td>\n",
       "      <td>42.30</td>\n",
       "      <td>1840.75</td>\n",
       "      <td>0</td>\n",
       "      <td>1371</td>\n",
       "    </tr>\n",
       "    <tr>\n",
       "      <td>4</td>\n",
       "      <td>9237-HQITU</td>\n",
       "      <td>2019-09-01</td>\n",
       "      <td>2019-11-01 00:00:00</td>\n",
       "      <td>Month-to-month</td>\n",
       "      <td>Yes</td>\n",
       "      <td>Electronic check</td>\n",
       "      <td>70.70</td>\n",
       "      <td>151.65</td>\n",
       "      <td>1</td>\n",
       "      <td>61</td>\n",
       "    </tr>\n",
       "  </tbody>\n",
       "</table>\n",
       "</div>"
      ],
      "text/plain": [
       "   customerID  BeginDate              EndDate            Type  \\\n",
       "0  7590-VHVEG 2020-01-01                   No  Month-to-month   \n",
       "1  5575-GNVDE 2017-04-01                   No        One year   \n",
       "2  3668-QPYBK 2019-10-01  2019-12-01 00:00:00  Month-to-month   \n",
       "3  7795-CFOCW 2016-05-01                   No        One year   \n",
       "4  9237-HQITU 2019-09-01  2019-11-01 00:00:00  Month-to-month   \n",
       "\n",
       "  PaperlessBilling              PaymentMethod  MonthlyCharges  TotalCharges  \\\n",
       "0              Yes           Electronic check           29.85         29.85   \n",
       "1               No               Mailed check           56.95       1889.50   \n",
       "2              Yes               Mailed check           53.85        108.15   \n",
       "3               No  Bank transfer (automatic)           42.30       1840.75   \n",
       "4              Yes           Electronic check           70.70        151.65   \n",
       "\n",
       "   СlientGroup  Lifetime  \n",
       "0            0        31  \n",
       "1            0      1036  \n",
       "2            1        61  \n",
       "3            0      1371  \n",
       "4            1        61  "
      ]
     },
     "metadata": {},
     "output_type": "display_data"
    }
   ],
   "source": [
    "df_contract['EndDateCopy']=df_contract['EndDate']\n",
    "df_contract['EndDateCopy']=df_contract['EndDateCopy'].replace('No', '2020-02-01')\n",
    "df_contract['EndDateCopy']=pd.to_datetime(df_contract['EndDateCopy'], format ='%Y-%m-%d')\n",
    "df_contract['Lifetime']=(df_contract['EndDateCopy']-df_contract['BeginDate']).dt.days\n",
    "df_contract=df_contract.drop(['EndDateCopy'], axis=1)\n",
    "display(df_contract.head())"
   ]
  },
  {
   "cell_type": "code",
   "execution_count": 13,
   "metadata": {},
   "outputs": [
    {
     "name": "stdout",
     "output_type": "stream",
     "text": [
      "<class 'pandas.core.frame.DataFrame'>\n",
      "Int64Index: 7032 entries, 0 to 7042\n",
      "Data columns (total 10 columns):\n",
      "customerID          7032 non-null object\n",
      "BeginDate           7032 non-null datetime64[ns]\n",
      "EndDate             7032 non-null object\n",
      "Type                7032 non-null object\n",
      "PaperlessBilling    7032 non-null object\n",
      "PaymentMethod       7032 non-null object\n",
      "MonthlyCharges      7032 non-null float64\n",
      "TotalCharges        7032 non-null float64\n",
      "СlientGroup         7032 non-null int64\n",
      "Lifetime            7032 non-null int64\n",
      "dtypes: datetime64[ns](1), float64(2), int64(2), object(5)\n",
      "memory usage: 604.3+ KB\n"
     ]
    }
   ],
   "source": [
    "df_contract.info()"
   ]
  },
  {
   "cell_type": "markdown",
   "metadata": {},
   "source": [
    "**Данные об интернет услугах**"
   ]
  },
  {
   "cell_type": "markdown",
   "metadata": {},
   "source": [
    "Посмотрим общую информацию о файле"
   ]
  },
  {
   "cell_type": "code",
   "execution_count": 14,
   "metadata": {},
   "outputs": [
    {
     "data": {
      "text/html": [
       "<div>\n",
       "<style scoped>\n",
       "    .dataframe tbody tr th:only-of-type {\n",
       "        vertical-align: middle;\n",
       "    }\n",
       "\n",
       "    .dataframe tbody tr th {\n",
       "        vertical-align: top;\n",
       "    }\n",
       "\n",
       "    .dataframe thead th {\n",
       "        text-align: right;\n",
       "    }\n",
       "</style>\n",
       "<table border=\"1\" class=\"dataframe\">\n",
       "  <thead>\n",
       "    <tr style=\"text-align: right;\">\n",
       "      <th></th>\n",
       "      <th>customerID</th>\n",
       "      <th>InternetService</th>\n",
       "      <th>OnlineSecurity</th>\n",
       "      <th>OnlineBackup</th>\n",
       "      <th>DeviceProtection</th>\n",
       "      <th>TechSupport</th>\n",
       "      <th>StreamingTV</th>\n",
       "      <th>StreamingMovies</th>\n",
       "    </tr>\n",
       "  </thead>\n",
       "  <tbody>\n",
       "    <tr>\n",
       "      <td>0</td>\n",
       "      <td>7590-VHVEG</td>\n",
       "      <td>DSL</td>\n",
       "      <td>No</td>\n",
       "      <td>Yes</td>\n",
       "      <td>No</td>\n",
       "      <td>No</td>\n",
       "      <td>No</td>\n",
       "      <td>No</td>\n",
       "    </tr>\n",
       "    <tr>\n",
       "      <td>1</td>\n",
       "      <td>5575-GNVDE</td>\n",
       "      <td>DSL</td>\n",
       "      <td>Yes</td>\n",
       "      <td>No</td>\n",
       "      <td>Yes</td>\n",
       "      <td>No</td>\n",
       "      <td>No</td>\n",
       "      <td>No</td>\n",
       "    </tr>\n",
       "    <tr>\n",
       "      <td>2</td>\n",
       "      <td>3668-QPYBK</td>\n",
       "      <td>DSL</td>\n",
       "      <td>Yes</td>\n",
       "      <td>Yes</td>\n",
       "      <td>No</td>\n",
       "      <td>No</td>\n",
       "      <td>No</td>\n",
       "      <td>No</td>\n",
       "    </tr>\n",
       "    <tr>\n",
       "      <td>3</td>\n",
       "      <td>7795-CFOCW</td>\n",
       "      <td>DSL</td>\n",
       "      <td>Yes</td>\n",
       "      <td>No</td>\n",
       "      <td>Yes</td>\n",
       "      <td>Yes</td>\n",
       "      <td>No</td>\n",
       "      <td>No</td>\n",
       "    </tr>\n",
       "    <tr>\n",
       "      <td>4</td>\n",
       "      <td>9237-HQITU</td>\n",
       "      <td>Fiber optic</td>\n",
       "      <td>No</td>\n",
       "      <td>No</td>\n",
       "      <td>No</td>\n",
       "      <td>No</td>\n",
       "      <td>No</td>\n",
       "      <td>No</td>\n",
       "    </tr>\n",
       "  </tbody>\n",
       "</table>\n",
       "</div>"
      ],
      "text/plain": [
       "   customerID InternetService OnlineSecurity OnlineBackup DeviceProtection  \\\n",
       "0  7590-VHVEG             DSL             No          Yes               No   \n",
       "1  5575-GNVDE             DSL            Yes           No              Yes   \n",
       "2  3668-QPYBK             DSL            Yes          Yes               No   \n",
       "3  7795-CFOCW             DSL            Yes           No              Yes   \n",
       "4  9237-HQITU     Fiber optic             No           No               No   \n",
       "\n",
       "  TechSupport StreamingTV StreamingMovies  \n",
       "0          No          No              No  \n",
       "1          No          No              No  \n",
       "2          No          No              No  \n",
       "3         Yes          No              No  \n",
       "4          No          No              No  "
      ]
     },
     "metadata": {},
     "output_type": "display_data"
    },
    {
     "name": "stdout",
     "output_type": "stream",
     "text": [
      "<class 'pandas.core.frame.DataFrame'>\n",
      "RangeIndex: 5517 entries, 0 to 5516\n",
      "Data columns (total 8 columns):\n",
      "customerID          5517 non-null object\n",
      "InternetService     5517 non-null object\n",
      "OnlineSecurity      5517 non-null object\n",
      "OnlineBackup        5517 non-null object\n",
      "DeviceProtection    5517 non-null object\n",
      "TechSupport         5517 non-null object\n",
      "StreamingTV         5517 non-null object\n",
      "StreamingMovies     5517 non-null object\n",
      "dtypes: object(8)\n",
      "memory usage: 344.9+ KB\n"
     ]
    }
   ],
   "source": [
    "display(df_internet.head())\n",
    "df_internet.info()"
   ]
  },
  {
   "cell_type": "code",
   "execution_count": 15,
   "metadata": {},
   "outputs": [
    {
     "name": "stdout",
     "output_type": "stream",
     "text": [
      "Количество дубликатов: 0\n",
      "Количество уникальных пользователей: 5517\n"
     ]
    }
   ],
   "source": [
    "print('Количество дубликатов:', df_internet.duplicated().sum())\n",
    "print('Количество уникальных пользователей:', len(df_internet['customerID'].unique()))"
   ]
  },
  {
   "cell_type": "markdown",
   "metadata": {},
   "source": [
    "Дубликатов и пропусков нет, но кол-во пользователей только 5517. Это меньше чем кол-во пользователей в данных о договоре. Значит есть пользователи, которые не пользуются интернетом и дополнительными услугами."
   ]
  },
  {
   "cell_type": "markdown",
   "metadata": {},
   "source": [
    "**Персональные данные клиентов**"
   ]
  },
  {
   "cell_type": "code",
   "execution_count": 16,
   "metadata": {},
   "outputs": [
    {
     "data": {
      "text/html": [
       "<div>\n",
       "<style scoped>\n",
       "    .dataframe tbody tr th:only-of-type {\n",
       "        vertical-align: middle;\n",
       "    }\n",
       "\n",
       "    .dataframe tbody tr th {\n",
       "        vertical-align: top;\n",
       "    }\n",
       "\n",
       "    .dataframe thead th {\n",
       "        text-align: right;\n",
       "    }\n",
       "</style>\n",
       "<table border=\"1\" class=\"dataframe\">\n",
       "  <thead>\n",
       "    <tr style=\"text-align: right;\">\n",
       "      <th></th>\n",
       "      <th>customerID</th>\n",
       "      <th>gender</th>\n",
       "      <th>SeniorCitizen</th>\n",
       "      <th>Partner</th>\n",
       "      <th>Dependents</th>\n",
       "    </tr>\n",
       "  </thead>\n",
       "  <tbody>\n",
       "    <tr>\n",
       "      <td>0</td>\n",
       "      <td>7590-VHVEG</td>\n",
       "      <td>Female</td>\n",
       "      <td>0</td>\n",
       "      <td>Yes</td>\n",
       "      <td>No</td>\n",
       "    </tr>\n",
       "    <tr>\n",
       "      <td>1</td>\n",
       "      <td>5575-GNVDE</td>\n",
       "      <td>Male</td>\n",
       "      <td>0</td>\n",
       "      <td>No</td>\n",
       "      <td>No</td>\n",
       "    </tr>\n",
       "    <tr>\n",
       "      <td>2</td>\n",
       "      <td>3668-QPYBK</td>\n",
       "      <td>Male</td>\n",
       "      <td>0</td>\n",
       "      <td>No</td>\n",
       "      <td>No</td>\n",
       "    </tr>\n",
       "    <tr>\n",
       "      <td>3</td>\n",
       "      <td>7795-CFOCW</td>\n",
       "      <td>Male</td>\n",
       "      <td>0</td>\n",
       "      <td>No</td>\n",
       "      <td>No</td>\n",
       "    </tr>\n",
       "    <tr>\n",
       "      <td>4</td>\n",
       "      <td>9237-HQITU</td>\n",
       "      <td>Female</td>\n",
       "      <td>0</td>\n",
       "      <td>No</td>\n",
       "      <td>No</td>\n",
       "    </tr>\n",
       "  </tbody>\n",
       "</table>\n",
       "</div>"
      ],
      "text/plain": [
       "   customerID  gender  SeniorCitizen Partner Dependents\n",
       "0  7590-VHVEG  Female              0     Yes         No\n",
       "1  5575-GNVDE    Male              0      No         No\n",
       "2  3668-QPYBK    Male              0      No         No\n",
       "3  7795-CFOCW    Male              0      No         No\n",
       "4  9237-HQITU  Female              0      No         No"
      ]
     },
     "metadata": {},
     "output_type": "display_data"
    },
    {
     "name": "stdout",
     "output_type": "stream",
     "text": [
      "<class 'pandas.core.frame.DataFrame'>\n",
      "RangeIndex: 7043 entries, 0 to 7042\n",
      "Data columns (total 5 columns):\n",
      "customerID       7043 non-null object\n",
      "gender           7043 non-null object\n",
      "SeniorCitizen    7043 non-null int64\n",
      "Partner          7043 non-null object\n",
      "Dependents       7043 non-null object\n",
      "dtypes: int64(1), object(4)\n",
      "memory usage: 275.2+ KB\n"
     ]
    }
   ],
   "source": [
    "display(df_personal.head())\n",
    "df_personal.info()"
   ]
  },
  {
   "cell_type": "code",
   "execution_count": 17,
   "metadata": {},
   "outputs": [
    {
     "name": "stdout",
     "output_type": "stream",
     "text": [
      "Количество дубликатов: 0\n",
      "Количество уникальных пользователей: 7043\n"
     ]
    }
   ],
   "source": [
    "print('Количество дубликатов:', df_personal.duplicated().sum())\n",
    "print('Количество уникальных пользователей:', len(df_personal['customerID'].unique()))"
   ]
  },
  {
   "cell_type": "markdown",
   "metadata": {},
   "source": [
    "Дубликатов и пропусков нет"
   ]
  },
  {
   "cell_type": "markdown",
   "metadata": {},
   "source": [
    "**Данные о телефонной связи**"
   ]
  },
  {
   "cell_type": "code",
   "execution_count": 18,
   "metadata": {},
   "outputs": [
    {
     "data": {
      "text/html": [
       "<div>\n",
       "<style scoped>\n",
       "    .dataframe tbody tr th:only-of-type {\n",
       "        vertical-align: middle;\n",
       "    }\n",
       "\n",
       "    .dataframe tbody tr th {\n",
       "        vertical-align: top;\n",
       "    }\n",
       "\n",
       "    .dataframe thead th {\n",
       "        text-align: right;\n",
       "    }\n",
       "</style>\n",
       "<table border=\"1\" class=\"dataframe\">\n",
       "  <thead>\n",
       "    <tr style=\"text-align: right;\">\n",
       "      <th></th>\n",
       "      <th>customerID</th>\n",
       "      <th>MultipleLines</th>\n",
       "    </tr>\n",
       "  </thead>\n",
       "  <tbody>\n",
       "    <tr>\n",
       "      <td>0</td>\n",
       "      <td>5575-GNVDE</td>\n",
       "      <td>No</td>\n",
       "    </tr>\n",
       "    <tr>\n",
       "      <td>1</td>\n",
       "      <td>3668-QPYBK</td>\n",
       "      <td>No</td>\n",
       "    </tr>\n",
       "    <tr>\n",
       "      <td>2</td>\n",
       "      <td>9237-HQITU</td>\n",
       "      <td>No</td>\n",
       "    </tr>\n",
       "    <tr>\n",
       "      <td>3</td>\n",
       "      <td>9305-CDSKC</td>\n",
       "      <td>Yes</td>\n",
       "    </tr>\n",
       "    <tr>\n",
       "      <td>4</td>\n",
       "      <td>1452-KIOVK</td>\n",
       "      <td>Yes</td>\n",
       "    </tr>\n",
       "  </tbody>\n",
       "</table>\n",
       "</div>"
      ],
      "text/plain": [
       "   customerID MultipleLines\n",
       "0  5575-GNVDE            No\n",
       "1  3668-QPYBK            No\n",
       "2  9237-HQITU            No\n",
       "3  9305-CDSKC           Yes\n",
       "4  1452-KIOVK           Yes"
      ]
     },
     "metadata": {},
     "output_type": "display_data"
    },
    {
     "name": "stdout",
     "output_type": "stream",
     "text": [
      "<class 'pandas.core.frame.DataFrame'>\n",
      "RangeIndex: 6361 entries, 0 to 6360\n",
      "Data columns (total 2 columns):\n",
      "customerID       6361 non-null object\n",
      "MultipleLines    6361 non-null object\n",
      "dtypes: object(2)\n",
      "memory usage: 99.5+ KB\n"
     ]
    }
   ],
   "source": [
    "display(df_phone.head())\n",
    "df_phone.info()"
   ]
  },
  {
   "cell_type": "code",
   "execution_count": 19,
   "metadata": {},
   "outputs": [
    {
     "name": "stdout",
     "output_type": "stream",
     "text": [
      "Количество дубликатов: 0\n",
      "Количество уникальных пользователей: 6361\n"
     ]
    }
   ],
   "source": [
    "print('Количество дубликатов:', df_phone.duplicated().sum())\n",
    "print('Количество уникальных пользователей:', len(df_phone['customerID'].unique()))"
   ]
  },
  {
   "cell_type": "markdown",
   "metadata": {},
   "source": [
    "Дубликатов и пропусков нет, но кол-во пользователей только 6361. Это меньше чем кол-во пользователей в данных о договоре. Значит есть пользователи, которые не пользуются услугами телефонной связи."
   ]
  },
  {
   "cell_type": "markdown",
   "metadata": {},
   "source": [
    "Пропуски в столбце `TotalCharges` удалены, тк их всего 11 шт, добавлен столбец `СlientGroup` с целевым признаком и столбец с дополнительным признаком `Lifitime` - время жизни клиента. \n",
    "\n",
    "Можно объединять данные в один датасет"
   ]
  },
  {
   "cell_type": "markdown",
   "metadata": {},
   "source": [
    "**Объединение данных**"
   ]
  },
  {
   "cell_type": "markdown",
   "metadata": {},
   "source": [
    "Сначала объединим персональные данные и данные о контрактах. Изначально в обоих файлах было 7043 записей, но мы удалили 11 записей из данных о контрактах. Поэтому после объединения, удалим пропуски в общем файле. "
   ]
  },
  {
   "cell_type": "code",
   "execution_count": 20,
   "metadata": {},
   "outputs": [
    {
     "data": {
      "text/html": [
       "<div>\n",
       "<style scoped>\n",
       "    .dataframe tbody tr th:only-of-type {\n",
       "        vertical-align: middle;\n",
       "    }\n",
       "\n",
       "    .dataframe tbody tr th {\n",
       "        vertical-align: top;\n",
       "    }\n",
       "\n",
       "    .dataframe thead th {\n",
       "        text-align: right;\n",
       "    }\n",
       "</style>\n",
       "<table border=\"1\" class=\"dataframe\">\n",
       "  <thead>\n",
       "    <tr style=\"text-align: right;\">\n",
       "      <th></th>\n",
       "      <th>customerID</th>\n",
       "      <th>gender</th>\n",
       "      <th>SeniorCitizen</th>\n",
       "      <th>Partner</th>\n",
       "      <th>Dependents</th>\n",
       "      <th>BeginDate</th>\n",
       "      <th>EndDate</th>\n",
       "      <th>Type</th>\n",
       "      <th>PaperlessBilling</th>\n",
       "      <th>PaymentMethod</th>\n",
       "      <th>MonthlyCharges</th>\n",
       "      <th>TotalCharges</th>\n",
       "      <th>СlientGroup</th>\n",
       "      <th>Lifetime</th>\n",
       "    </tr>\n",
       "  </thead>\n",
       "  <tbody>\n",
       "    <tr>\n",
       "      <td>0</td>\n",
       "      <td>7590-VHVEG</td>\n",
       "      <td>Female</td>\n",
       "      <td>0</td>\n",
       "      <td>Yes</td>\n",
       "      <td>No</td>\n",
       "      <td>2020-01-01</td>\n",
       "      <td>No</td>\n",
       "      <td>Month-to-month</td>\n",
       "      <td>Yes</td>\n",
       "      <td>Electronic check</td>\n",
       "      <td>29.85</td>\n",
       "      <td>29.85</td>\n",
       "      <td>0.0</td>\n",
       "      <td>31.0</td>\n",
       "    </tr>\n",
       "    <tr>\n",
       "      <td>1</td>\n",
       "      <td>5575-GNVDE</td>\n",
       "      <td>Male</td>\n",
       "      <td>0</td>\n",
       "      <td>No</td>\n",
       "      <td>No</td>\n",
       "      <td>2017-04-01</td>\n",
       "      <td>No</td>\n",
       "      <td>One year</td>\n",
       "      <td>No</td>\n",
       "      <td>Mailed check</td>\n",
       "      <td>56.95</td>\n",
       "      <td>1889.50</td>\n",
       "      <td>0.0</td>\n",
       "      <td>1036.0</td>\n",
       "    </tr>\n",
       "    <tr>\n",
       "      <td>2</td>\n",
       "      <td>3668-QPYBK</td>\n",
       "      <td>Male</td>\n",
       "      <td>0</td>\n",
       "      <td>No</td>\n",
       "      <td>No</td>\n",
       "      <td>2019-10-01</td>\n",
       "      <td>2019-12-01 00:00:00</td>\n",
       "      <td>Month-to-month</td>\n",
       "      <td>Yes</td>\n",
       "      <td>Mailed check</td>\n",
       "      <td>53.85</td>\n",
       "      <td>108.15</td>\n",
       "      <td>1.0</td>\n",
       "      <td>61.0</td>\n",
       "    </tr>\n",
       "    <tr>\n",
       "      <td>3</td>\n",
       "      <td>7795-CFOCW</td>\n",
       "      <td>Male</td>\n",
       "      <td>0</td>\n",
       "      <td>No</td>\n",
       "      <td>No</td>\n",
       "      <td>2016-05-01</td>\n",
       "      <td>No</td>\n",
       "      <td>One year</td>\n",
       "      <td>No</td>\n",
       "      <td>Bank transfer (automatic)</td>\n",
       "      <td>42.30</td>\n",
       "      <td>1840.75</td>\n",
       "      <td>0.0</td>\n",
       "      <td>1371.0</td>\n",
       "    </tr>\n",
       "    <tr>\n",
       "      <td>4</td>\n",
       "      <td>9237-HQITU</td>\n",
       "      <td>Female</td>\n",
       "      <td>0</td>\n",
       "      <td>No</td>\n",
       "      <td>No</td>\n",
       "      <td>2019-09-01</td>\n",
       "      <td>2019-11-01 00:00:00</td>\n",
       "      <td>Month-to-month</td>\n",
       "      <td>Yes</td>\n",
       "      <td>Electronic check</td>\n",
       "      <td>70.70</td>\n",
       "      <td>151.65</td>\n",
       "      <td>1.0</td>\n",
       "      <td>61.0</td>\n",
       "    </tr>\n",
       "  </tbody>\n",
       "</table>\n",
       "</div>"
      ],
      "text/plain": [
       "   customerID  gender  SeniorCitizen Partner Dependents  BeginDate  \\\n",
       "0  7590-VHVEG  Female              0     Yes         No 2020-01-01   \n",
       "1  5575-GNVDE    Male              0      No         No 2017-04-01   \n",
       "2  3668-QPYBK    Male              0      No         No 2019-10-01   \n",
       "3  7795-CFOCW    Male              0      No         No 2016-05-01   \n",
       "4  9237-HQITU  Female              0      No         No 2019-09-01   \n",
       "\n",
       "               EndDate            Type PaperlessBilling  \\\n",
       "0                   No  Month-to-month              Yes   \n",
       "1                   No        One year               No   \n",
       "2  2019-12-01 00:00:00  Month-to-month              Yes   \n",
       "3                   No        One year               No   \n",
       "4  2019-11-01 00:00:00  Month-to-month              Yes   \n",
       "\n",
       "               PaymentMethod  MonthlyCharges  TotalCharges  СlientGroup  \\\n",
       "0           Electronic check           29.85         29.85          0.0   \n",
       "1               Mailed check           56.95       1889.50          0.0   \n",
       "2               Mailed check           53.85        108.15          1.0   \n",
       "3  Bank transfer (automatic)           42.30       1840.75          0.0   \n",
       "4           Electronic check           70.70        151.65          1.0   \n",
       "\n",
       "   Lifetime  \n",
       "0      31.0  \n",
       "1    1036.0  \n",
       "2      61.0  \n",
       "3    1371.0  \n",
       "4      61.0  "
      ]
     },
     "metadata": {},
     "output_type": "display_data"
    },
    {
     "name": "stdout",
     "output_type": "stream",
     "text": [
      "<class 'pandas.core.frame.DataFrame'>\n",
      "Int64Index: 7032 entries, 0 to 7042\n",
      "Data columns (total 14 columns):\n",
      "customerID          7032 non-null object\n",
      "gender              7032 non-null object\n",
      "SeniorCitizen       7032 non-null int64\n",
      "Partner             7032 non-null object\n",
      "Dependents          7032 non-null object\n",
      "BeginDate           7032 non-null datetime64[ns]\n",
      "EndDate             7032 non-null object\n",
      "Type                7032 non-null object\n",
      "PaperlessBilling    7032 non-null object\n",
      "PaymentMethod       7032 non-null object\n",
      "MonthlyCharges      7032 non-null float64\n",
      "TotalCharges        7032 non-null float64\n",
      "СlientGroup         7032 non-null float64\n",
      "Lifetime            7032 non-null float64\n",
      "dtypes: datetime64[ns](1), float64(4), int64(1), object(8)\n",
      "memory usage: 824.1+ KB\n"
     ]
    }
   ],
   "source": [
    "df_full = pd.merge(df_personal, df_contract, on ='customerID',how= 'left')\n",
    "df_full=df_full.dropna()\n",
    "display(df_full.head())\n",
    "df_full.info()"
   ]
  },
  {
   "cell_type": "markdown",
   "metadata": {},
   "source": [
    "Теперь объединим с остальными данными, где было записей меньше чем 7043"
   ]
  },
  {
   "cell_type": "code",
   "execution_count": 21,
   "metadata": {},
   "outputs": [
    {
     "name": "stdout",
     "output_type": "stream",
     "text": [
      "<class 'pandas.core.frame.DataFrame'>\n",
      "Int64Index: 7032 entries, 0 to 7031\n",
      "Data columns (total 22 columns):\n",
      "customerID          7032 non-null object\n",
      "gender              7032 non-null object\n",
      "SeniorCitizen       7032 non-null int64\n",
      "Partner             7032 non-null object\n",
      "Dependents          7032 non-null object\n",
      "BeginDate           7032 non-null datetime64[ns]\n",
      "EndDate             7032 non-null object\n",
      "Type                7032 non-null object\n",
      "PaperlessBilling    7032 non-null object\n",
      "PaymentMethod       7032 non-null object\n",
      "MonthlyCharges      7032 non-null float64\n",
      "TotalCharges        7032 non-null float64\n",
      "СlientGroup         7032 non-null float64\n",
      "Lifetime            7032 non-null float64\n",
      "MultipleLines       6352 non-null object\n",
      "InternetService     5512 non-null object\n",
      "OnlineSecurity      5512 non-null object\n",
      "OnlineBackup        5512 non-null object\n",
      "DeviceProtection    5512 non-null object\n",
      "TechSupport         5512 non-null object\n",
      "StreamingTV         5512 non-null object\n",
      "StreamingMovies     5512 non-null object\n",
      "dtypes: datetime64[ns](1), float64(4), int64(1), object(16)\n",
      "memory usage: 1.2+ MB\n"
     ]
    }
   ],
   "source": [
    "df_full = pd.merge(df_full, df_phone, on ='customerID',how= 'left')\n",
    "df_full = pd.merge(df_full, df_internet, on ='customerID',how= 'left')\n",
    "df_full.info()"
   ]
  },
  {
   "cell_type": "markdown",
   "metadata": {},
   "source": [
    "Записей в данных о пользовании услуг телефонной связи и интернета было меньше, чем в данных о контрактах, тк не все пользуются и телефоном и интернетом одновременно. Проверим сначала нет ли тех кто не пользуется ни тем ни другим"
   ]
  },
  {
   "cell_type": "code",
   "execution_count": 22,
   "metadata": {},
   "outputs": [
    {
     "data": {
      "text/html": [
       "<div>\n",
       "<style scoped>\n",
       "    .dataframe tbody tr th:only-of-type {\n",
       "        vertical-align: middle;\n",
       "    }\n",
       "\n",
       "    .dataframe tbody tr th {\n",
       "        vertical-align: top;\n",
       "    }\n",
       "\n",
       "    .dataframe thead th {\n",
       "        text-align: right;\n",
       "    }\n",
       "</style>\n",
       "<table border=\"1\" class=\"dataframe\">\n",
       "  <thead>\n",
       "    <tr style=\"text-align: right;\">\n",
       "      <th></th>\n",
       "      <th>customerID</th>\n",
       "      <th>gender</th>\n",
       "      <th>SeniorCitizen</th>\n",
       "      <th>Partner</th>\n",
       "      <th>Dependents</th>\n",
       "      <th>BeginDate</th>\n",
       "      <th>EndDate</th>\n",
       "      <th>Type</th>\n",
       "      <th>PaperlessBilling</th>\n",
       "      <th>PaymentMethod</th>\n",
       "      <th>MonthlyCharges</th>\n",
       "      <th>TotalCharges</th>\n",
       "      <th>СlientGroup</th>\n",
       "      <th>Lifetime</th>\n",
       "      <th>MultipleLines</th>\n",
       "      <th>InternetService</th>\n",
       "      <th>OnlineSecurity</th>\n",
       "      <th>OnlineBackup</th>\n",
       "      <th>DeviceProtection</th>\n",
       "      <th>TechSupport</th>\n",
       "      <th>StreamingTV</th>\n",
       "      <th>StreamingMovies</th>\n",
       "    </tr>\n",
       "  </thead>\n",
       "  <tbody>\n",
       "  </tbody>\n",
       "</table>\n",
       "</div>"
      ],
      "text/plain": [
       "Empty DataFrame\n",
       "Columns: [customerID, gender, SeniorCitizen, Partner, Dependents, BeginDate, EndDate, Type, PaperlessBilling, PaymentMethod, MonthlyCharges, TotalCharges, СlientGroup, Lifetime, MultipleLines, InternetService, OnlineSecurity, OnlineBackup, DeviceProtection, TechSupport, StreamingTV, StreamingMovies]\n",
       "Index: []"
      ]
     },
     "metadata": {},
     "output_type": "display_data"
    }
   ],
   "source": [
    "display(df_full[(df_full['MultipleLines'].isna())&(df_full['InternetService'].isna())])"
   ]
  },
  {
   "cell_type": "markdown",
   "metadata": {},
   "source": [
    "Таких нет, поэтому заменим пропуски на **Do not use** - не пользуется. Так же поменяем тип у колонок `СlientGroup`  и `Lifitime` на целочисленный"
   ]
  },
  {
   "cell_type": "code",
   "execution_count": 23,
   "metadata": {},
   "outputs": [
    {
     "name": "stdout",
     "output_type": "stream",
     "text": [
      "<class 'pandas.core.frame.DataFrame'>\n",
      "Int64Index: 7032 entries, 0 to 7031\n",
      "Data columns (total 22 columns):\n",
      "customerID          7032 non-null object\n",
      "gender              7032 non-null object\n",
      "SeniorCitizen       7032 non-null int64\n",
      "Partner             7032 non-null object\n",
      "Dependents          7032 non-null object\n",
      "BeginDate           7032 non-null datetime64[ns]\n",
      "EndDate             7032 non-null object\n",
      "Type                7032 non-null object\n",
      "PaperlessBilling    7032 non-null object\n",
      "PaymentMethod       7032 non-null object\n",
      "MonthlyCharges      7032 non-null float64\n",
      "TotalCharges        7032 non-null float64\n",
      "СlientGroup         7032 non-null int64\n",
      "Lifetime            7032 non-null int64\n",
      "MultipleLines       7032 non-null object\n",
      "InternetService     7032 non-null object\n",
      "OnlineSecurity      7032 non-null object\n",
      "OnlineBackup        7032 non-null object\n",
      "DeviceProtection    7032 non-null object\n",
      "TechSupport         7032 non-null object\n",
      "StreamingTV         7032 non-null object\n",
      "StreamingMovies     7032 non-null object\n",
      "dtypes: datetime64[ns](1), float64(2), int64(3), object(16)\n",
      "memory usage: 1.2+ MB\n"
     ]
    }
   ],
   "source": [
    "df_full[['MultipleLines','InternetService','OnlineSecurity','OnlineBackup','DeviceProtection','TechSupport',\n",
    "         'StreamingTV', 'StreamingMovies']]=df_full[['MultipleLines','InternetService','OnlineSecurity',\n",
    "        'OnlineBackup','DeviceProtection','TechSupport','StreamingTV', 'StreamingMovies']].fillna('Do not use')\n",
    "df_full[['СlientGroup', 'Lifetime']]=df_full[['СlientGroup', 'Lifetime']].astype('int64')\n",
    "df_full.info()"
   ]
  },
  {
   "cell_type": "code",
   "execution_count": 24,
   "metadata": {},
   "outputs": [
    {
     "name": "stdout",
     "output_type": "stream",
     "text": [
      "Количество дубликатов: 0\n"
     ]
    }
   ],
   "source": [
    "print('Количество дубликатов:', df_full.duplicated().sum())"
   ]
  },
  {
   "cell_type": "markdown",
   "metadata": {},
   "source": [
    "**Выводы**. Пропуски обработаны, дубликатов нет. Добавлен один дополнительный признак и создана колонка с целевым признаком. Все данные объединены в одну таблицу."
   ]
  },
  {
   "cell_type": "markdown",
   "metadata": {},
   "source": [
    "## 2. Исследовательский анализ данных"
   ]
  },
  {
   "cell_type": "markdown",
   "metadata": {},
   "source": [
    "Сделаем выборку по ушедшим клиентам"
   ]
  },
  {
   "cell_type": "code",
   "execution_count": 25,
   "metadata": {},
   "outputs": [
    {
     "name": "stdout",
     "output_type": "stream",
     "text": [
      "26.578498293515356\n"
     ]
    }
   ],
   "source": [
    "df_notclient= df_full[(df_full['СlientGroup']==1)]\n",
    "df_notclient.shape\n",
    "print(len(df_notclient)/len(df_full)*100)"
   ]
  },
  {
   "cell_type": "code",
   "execution_count": 26,
   "metadata": {},
   "outputs": [
    {
     "data": {
      "text/plain": [
       "(1869, 22)"
      ]
     },
     "execution_count": 26,
     "metadata": {},
     "output_type": "execute_result"
    }
   ],
   "source": [
    "df_notclient.shape"
   ]
  },
  {
   "cell_type": "markdown",
   "metadata": {},
   "source": [
    "Ушло 1869 аббонентов - это 26,6% клиентов. "
   ]
  },
  {
   "cell_type": "markdown",
   "metadata": {},
   "source": [
    "Напишем функцию для расчета статистических метрик по всем клиентам и по ушедшим клиентам"
   ]
  },
  {
   "cell_type": "code",
   "execution_count": 27,
   "metadata": {},
   "outputs": [],
   "source": [
    "def measures(column):\n",
    "    filtered_df_full=df_full[column]\n",
    "    filtered_df_notclient=df_notclient[column]\n",
    "    mean_full = filtered_df_full.mean()\n",
    "    mean_notclient =  filtered_df_notclient.mean()\n",
    "    median_full = filtered_df_full.median()\n",
    "    median_notclient =  filtered_df_notclient.median()\n",
    "    min_full = filtered_df_full.min()\n",
    "    min_notclient =  filtered_df_notclient.min()\n",
    "    max_full = filtered_df_full.max()\n",
    "    max_notclient =  filtered_df_notclient.max()\n",
    "    q1_full = filtered_df_full.quantile(0.25)\n",
    "    q3_full = filtered_df_full.quantile(0.75)\n",
    "    q1_notclient = filtered_df_notclient.quantile(0.25)\n",
    "    q3_notclient = filtered_df_notclient.quantile(0.75)\n",
    "    print ('\\033[94m'+column+'\\033[0m')\n",
    "    print('\\033[1m'+'Все клиенты:'+'\\033[0m')  \n",
    "    print('Медиана: {:.0f}'.format(median_full),', Среднее: {:.0f}'.format(mean_full),\n",
    "          ', Минимальное значение: {:.0f}'.format(min_full), ',  Максимальное значение: {:.0f}'.format(max_full),\n",
    "          ', 25% квантиль: {:.0f}'.format(q1_full), ', 75% квантиль: {:.0f}'.format(q3_full))\n",
    "    print ('\\033[1m'+'Ушедшие клиенты:'+'\\033[0m')\n",
    "    print('Медиана: {:.0f}'.format(median_notclient),', Среднее: {:.0f}'.format(mean_notclient),\n",
    "          ', Минимальное значение: {:.0f}'.format(min_notclient), ',  Максимальное значение: {:.0f}'.format(max_notclient),\n",
    "          ', 25% квантиль: {:.0f}'.format(q1_notclient), ', 75% квантиль: {:.0f}'.format(q3_notclient))"
   ]
  },
  {
   "cell_type": "markdown",
   "metadata": {},
   "source": [
    "Посмотрим на метрики по данным о ежемесячных платежах. "
   ]
  },
  {
   "cell_type": "code",
   "execution_count": 28,
   "metadata": {},
   "outputs": [
    {
     "name": "stdout",
     "output_type": "stream",
     "text": [
      "\u001b[94mMonthlyCharges\u001b[0m\n",
      "\u001b[1mВсе клиенты:\u001b[0m\n",
      "Медиана: 70 , Среднее: 65 , Минимальное значение: 18 ,  Максимальное значение: 119 , 25% квантиль: 36 , 75% квантиль: 90\n",
      "\u001b[1mУшедшие клиенты:\u001b[0m\n",
      "Медиана: 80 , Среднее: 74 , Минимальное значение: 19 ,  Максимальное значение: 118 , 25% квантиль: 56 , 75% квантиль: 94\n"
     ]
    }
   ],
   "source": [
    "measures('MonthlyCharges')"
   ]
  },
  {
   "cell_type": "markdown",
   "metadata": {},
   "source": [
    "У ушедших клиентов средний платеж (и медиана) выше, чем в целом у всех клиентов. Максимальное и минимальное значения  примерно одинаковые у обеих групп. Большие различия видны в 25% квантилях. В общей выборке четверть клиентов платит ежемесячно меньше 36, а среди ушедших клиентов четверть платит меньше 56."
   ]
  },
  {
   "cell_type": "code",
   "execution_count": 29,
   "metadata": {},
   "outputs": [
    {
     "data": {
      "image/png": "[encoded data removed]",
      "text/plain": [
       "<Figure size 864x432 with 1 Axes>"
      ]
     },
     "metadata": {
      "needs_background": "light"
     },
     "output_type": "display_data"
    }
   ],
   "source": [
    "ax = df_full.plot(kind='hist', y='MonthlyCharges', ec='black', bins=30, \n",
    "                              linewidth=1, alpha=0.5, label='Все клиенты', color='g')\n",
    "df_notclient.plot(kind='hist', y='MonthlyCharges', ec='black', bins=30,linewidth=1, alpha=0.5, \n",
    "                         label='Ушедшие клиенты', ax=ax, figsize=(12,6),grid=True, legend=True, fontsize = 15, color='b')\n",
    "ax.vlines(70, 0, 600, color= 'g', linestyle ='--',)\n",
    "ax.vlines(80, 0, 600, color= 'b', linestyle ='--',)\n",
    "ax.text(81, 600, '80', fontsize=15, color='b')\n",
    "ax.text(66, 600, '70', fontsize=15, color='g')\n",
    "ax.set_ylabel('Частота значений', fontsize=13)\n",
    "ax.set_xlabel('Ежемесячный платеж', fontsize=13)\n",
    "ax.set_title('Распределение ежемесячных платежей', fontsize=17, fontweight='bold')\n",
    "plt.show()"
   ]
  },
  {
   "cell_type": "markdown",
   "metadata": {},
   "source": [
    "По графику видно, что среди ушедших клиентов больше всего тех, у кого ежемесячный платеж был в интервале от 70 до 110. Среди всех клиентов очень много тех кто платит в месяц 20. Из этого можно предположить, что большой размер ежемесячного платежа повышает вероятность что клиент уйдет.\n",
    "\n",
    "Но на графике также видно, что клиентов с ежемесячным платежом в 20 уходило больше, чем клиентов с ежемесячным платежом, например, в 60. Т.е. есть еще факторы, влияющие на уход клиента.\n"
   ]
  },
  {
   "cell_type": "markdown",
   "metadata": {},
   "source": [
    "Посмотрим на время жизни ушедших клиентов."
   ]
  },
  {
   "cell_type": "code",
   "execution_count": 30,
   "metadata": {},
   "outputs": [
    {
     "data": {
      "text/html": [
       "<div>\n",
       "<style scoped>\n",
       "    .dataframe tbody tr th:only-of-type {\n",
       "        vertical-align: middle;\n",
       "    }\n",
       "\n",
       "    .dataframe tbody tr th {\n",
       "        vertical-align: top;\n",
       "    }\n",
       "\n",
       "    .dataframe thead th {\n",
       "        text-align: right;\n",
       "    }\n",
       "</style>\n",
       "<table border=\"1\" class=\"dataframe\">\n",
       "  <thead>\n",
       "    <tr style=\"text-align: right;\">\n",
       "      <th></th>\n",
       "      <th>count</th>\n",
       "    </tr>\n",
       "    <tr>\n",
       "      <th>Lifetime</th>\n",
       "      <th></th>\n",
       "    </tr>\n",
       "  </thead>\n",
       "  <tbody>\n",
       "    <tr>\n",
       "      <td>31</td>\n",
       "      <td>198</td>\n",
       "    </tr>\n",
       "    <tr>\n",
       "      <td>30</td>\n",
       "      <td>182</td>\n",
       "    </tr>\n",
       "    <tr>\n",
       "      <td>61</td>\n",
       "      <td>123</td>\n",
       "    </tr>\n",
       "    <tr>\n",
       "      <td>153</td>\n",
       "      <td>64</td>\n",
       "    </tr>\n",
       "    <tr>\n",
       "      <td>92</td>\n",
       "      <td>63</td>\n",
       "    </tr>\n",
       "    <tr>\n",
       "      <td>122</td>\n",
       "      <td>58</td>\n",
       "    </tr>\n",
       "    <tr>\n",
       "      <td>214</td>\n",
       "      <td>51</td>\n",
       "    </tr>\n",
       "    <tr>\n",
       "      <td>365</td>\n",
       "      <td>38</td>\n",
       "    </tr>\n",
       "    <tr>\n",
       "      <td>91</td>\n",
       "      <td>31</td>\n",
       "    </tr>\n",
       "    <tr>\n",
       "      <td>273</td>\n",
       "      <td>31</td>\n",
       "    </tr>\n",
       "  </tbody>\n",
       "</table>\n",
       "</div>"
      ],
      "text/plain": [
       "          count\n",
       "Lifetime       \n",
       "31          198\n",
       "30          182\n",
       "61          123\n",
       "153          64\n",
       "92           63\n",
       "122          58\n",
       "214          51\n",
       "365          38\n",
       "91           31\n",
       "273          31"
      ]
     },
     "metadata": {},
     "output_type": "display_data"
    }
   ],
   "source": [
    "notclient=df_notclient.pivot_table(index= 'Lifetime', values = 'customerID', aggfunc= 'count')\n",
    "notclient.columns=['count']\n",
    "display(notclient.sort_values(by='count', ascending= False).head(10))"
   ]
  },
  {
   "cell_type": "markdown",
   "metadata": {},
   "source": [
    "Больше всего клиентов ушло через 30, 31 и 61 день после подключения, те всего через 1-2 месяца. Эти клиенты могли быть недовольны качеством услуг или соотношением цена-качество. \n",
    "\n",
    "Посмотрим распределение времени жизни клиентов на графике"
   ]
  },
  {
   "cell_type": "code",
   "execution_count": 31,
   "metadata": {},
   "outputs": [
    {
     "data": {
      "image/png": "[encoded data removed]",
      "text/plain": [
       "<Figure size 864x432 with 1 Axes>"
      ]
     },
     "metadata": {
      "needs_background": "light"
     },
     "output_type": "display_data"
    }
   ],
   "source": [
    "notclient_payment=df_full.pivot_table(index= df_full.index, values = 'Lifetime', columns='СlientGroup').plot.hist(\n",
    "               figsize=(12,6), alpha=0.6, ec='black', grid=True, bins=30)\n",
    "plt.ylabel('Частота значений', fontsize=13)\n",
    "plt.xlabel('Время жизни, дни', fontsize=13)\n",
    "plt.title('Распределение времени жизни ушедших и текущих клиентов', fontsize=17, fontweight='bold')\n",
    "plt.legend(['Текущие клиенты', 'Ушедшие клиенты'])\n",
    "plt.show()"
   ]
  },
  {
   "cell_type": "markdown",
   "metadata": {},
   "source": [
    "На графике видно что большинство клиентов уходит через непродолжительное время после заключения контракта. Чем дольше длится контракт, тем выше вероятность, что клиент останется."
   ]
  },
  {
   "cell_type": "markdown",
   "metadata": {},
   "source": [
    " Проведем анализ поведения клиентов"
   ]
  },
  {
   "cell_type": "markdown",
   "metadata": {},
   "source": [
    "**Все клиенты**"
   ]
  },
  {
   "cell_type": "code",
   "execution_count": 32,
   "metadata": {},
   "outputs": [
    {
     "data": {
      "image/png": "[encoded data removed]",
      "text/plain": [
       "<Figure size 432x432 with 1 Axes>"
      ]
     },
     "metadata": {},
     "output_type": "display_data"
    }
   ],
   "source": [
    "df_full.pivot_table(index='InternetService', values='customerID', \n",
    "                aggfunc = 'count').plot(kind='pie',shadow = True, subplots = True,\n",
    "                fontsize=15,figsize= (6,6), startangle =45,autopct =lambda p: '{:.0f}%'.format(p))\n",
    "plt.legend(loc=1)\n",
    "plt.axis('off')\n",
    "plt.title('Доля интернет пользователей', fontsize=15, fontweight='bold')\n",
    "plt.show()"
   ]
  },
  {
   "cell_type": "code",
   "execution_count": 33,
   "metadata": {},
   "outputs": [
    {
     "data": {
      "text/plain": [
       "array(['Do not use', 'User'], dtype=object)"
      ]
     },
     "execution_count": 33,
     "metadata": {},
     "output_type": "execute_result"
    }
   ],
   "source": [
    "def phone_user(MultipleLines):  #объединим пользователей телефонной связи с наличием \n",
    "                                #параллельных линий и без в одну группу -  User. \n",
    "    try:\n",
    "        if MultipleLines == 'No' or MultipleLines== 'Yes':\n",
    "            return 'User'\n",
    "        else:\n",
    "            return 'Do not use'\n",
    "    except:\n",
    "        print('ошибочное значение')\n",
    "df_full['phone_user'] =  df_full['MultipleLines'].apply(phone_user) \n",
    "df_full['phone_user'].unique()"
   ]
  },
  {
   "cell_type": "code",
   "execution_count": 34,
   "metadata": {},
   "outputs": [
    {
     "data": {
      "image/png": "[encoded data removed]",
      "text/plain": [
       "<Figure size 432x432 with 1 Axes>"
      ]
     },
     "metadata": {},
     "output_type": "display_data"
    }
   ],
   "source": [
    "df_full.pivot_table(index='phone_user', values='customerID', \n",
    "                 aggfunc = 'count').plot(kind='pie',shadow = True, subplots = True,\n",
    "                fontsize=15, figsize= (6,6), startangle =12,autopct =lambda p: '{:.0f}%'.format(p))\n",
    "plt.legend(loc=1)\n",
    "plt.axis('off')\n",
    "plt.title('Доля пользователей телефонной связи', fontsize=15, fontweight='bold')\n",
    "plt.show()"
   ]
  },
  {
   "cell_type": "markdown",
   "metadata": {},
   "source": [
    "Среди всех клиентов 10% не пользуется услугами телефонной связи и 22% не пользуются интернетом. Среди пользователей интернета 34% подключаются через телефонную линию (DSL) и немного больше - 44% через оптоволоконный кабель (Fiber optic).  "
   ]
  },
  {
   "cell_type": "markdown",
   "metadata": {},
   "source": [
    "**Ушедшие клиенты**"
   ]
  },
  {
   "cell_type": "code",
   "execution_count": 35,
   "metadata": {},
   "outputs": [
    {
     "data": {
      "image/png": "[encoded data removed]",
      "text/plain": [
       "<Figure size 432x432 with 1 Axes>"
      ]
     },
     "metadata": {},
     "output_type": "display_data"
    }
   ],
   "source": [
    "df_notclient.pivot_table(index='InternetService', values='customerID', \n",
    "                 aggfunc = 'count').plot(kind='pie',shadow = True, subplots = True,\n",
    "                 fontsize=15, figsize= (6,6), startangle =45,autopct =lambda p: '{:.0f}%'.format(p))\n",
    "plt.legend(loc=1)\n",
    "plt.axis('off')\n",
    "plt.title('Доля интернет пользователей', fontsize=15, fontweight='bold')\n",
    "plt.show()"
   ]
  },
  {
   "cell_type": "code",
   "execution_count": 36,
   "metadata": {},
   "outputs": [
    {
     "data": {
      "text/plain": [
       "array(['User', 'Do not use'], dtype=object)"
      ]
     },
     "execution_count": 36,
     "metadata": {},
     "output_type": "execute_result"
    }
   ],
   "source": [
    "def phone_user(MultipleLines):     #объединим пользователей телефонной связи с наличием \n",
    "                                   #параллельных линий и без в одну группу -  User.\n",
    "    try:\n",
    "        if MultipleLines == 'No' or MultipleLines== 'Yes':\n",
    "            return 'User'\n",
    "        else:\n",
    "            return 'Do not use'\n",
    "    except:\n",
    "        print('ошибочное значение')\n",
    "        \n",
    "df_notclient['phone_user'] =  df_notclient['MultipleLines'].apply(phone_user) \n",
    "df_notclient['phone_user'].unique()"
   ]
  },
  {
   "cell_type": "code",
   "execution_count": 37,
   "metadata": {},
   "outputs": [
    {
     "data": {
      "image/png": "[encoded data removed]",
      "text/plain": [
       "<Figure size 432x432 with 1 Axes>"
      ]
     },
     "metadata": {},
     "output_type": "display_data"
    }
   ],
   "source": [
    "df_notclient.pivot_table(index='phone_user', values='customerID', \n",
    "                 aggfunc = 'count').plot(kind='pie',shadow = True, subplots = True,\n",
    "                 fontsize=15,figsize= (6,6), startangle =12,autopct =lambda p: '{:.0f}%'.format(p))\n",
    "plt.legend(loc=1)\n",
    "plt.axis('off')\n",
    "plt.title('Доля пользователей телефонной связи', fontsize=15, fontweight='bold')\n",
    "plt.show()"
   ]
  },
  {
   "cell_type": "markdown",
   "metadata": {},
   "source": [
    "Среди ушедших клиентов только 9% не пользовались телефонной связью и 6% не пользовались интернетом. Больше всего из пользователей интернета ушло тех, кто подключался через оптоволоконный кабель (Fiber optic). Можно предположить что ушедшие клиенты были недовольны качеством интернет соединения.  "
   ]
  },
  {
   "cell_type": "markdown",
   "metadata": {},
   "source": [
    "**Выводы** 26.6% процентов клиентов разорвали контракт с компанией. У ушедших клиентов средний месячный платеж выше, чем в целом у всех клиентов. Больше всего уходит клиентов через 1-2 месяца после заключения контракта. Можно предположить, что клиенты уходят из-за того что недовольны соотношением цена-качество услуг. Среди ушедших много тех, кто подключался к интернету через оптоволоконный кабель (Fiber optic).\n",
    "\n",
    "То есть в первую очередь стоит обратить внимание на только подключившихся клиентов с ежемесячным платежом выше, чем в среднем по всем клиентам - 65."
   ]
  },
  {
   "cell_type": "markdown",
   "metadata": {},
   "source": [
    "## 3. Подготовка данных для моделей"
   ]
  },
  {
   "cell_type": "markdown",
   "metadata": {},
   "source": [
    "Посмотрим какие колонки нам не понадобятся.\n",
    "\n",
    "Проверим корреляцию количественных признаков."
   ]
  },
  {
   "cell_type": "code",
   "execution_count": 38,
   "metadata": {},
   "outputs": [
    {
     "data": {
      "text/html": [
       "<div>\n",
       "<style scoped>\n",
       "    .dataframe tbody tr th:only-of-type {\n",
       "        vertical-align: middle;\n",
       "    }\n",
       "\n",
       "    .dataframe tbody tr th {\n",
       "        vertical-align: top;\n",
       "    }\n",
       "\n",
       "    .dataframe thead th {\n",
       "        text-align: right;\n",
       "    }\n",
       "</style>\n",
       "<table border=\"1\" class=\"dataframe\">\n",
       "  <thead>\n",
       "    <tr style=\"text-align: right;\">\n",
       "      <th></th>\n",
       "      <th>SeniorCitizen</th>\n",
       "      <th>MonthlyCharges</th>\n",
       "      <th>TotalCharges</th>\n",
       "      <th>СlientGroup</th>\n",
       "      <th>Lifetime</th>\n",
       "    </tr>\n",
       "  </thead>\n",
       "  <tbody>\n",
       "    <tr>\n",
       "      <td>SeniorCitizen</td>\n",
       "      <td>1.000000</td>\n",
       "      <td>0.219874</td>\n",
       "      <td>0.102411</td>\n",
       "      <td>0.150541</td>\n",
       "      <td>0.015630</td>\n",
       "    </tr>\n",
       "    <tr>\n",
       "      <td>MonthlyCharges</td>\n",
       "      <td>0.219874</td>\n",
       "      <td>1.000000</td>\n",
       "      <td>0.651065</td>\n",
       "      <td>0.192858</td>\n",
       "      <td>0.246715</td>\n",
       "    </tr>\n",
       "    <tr>\n",
       "      <td>TotalCharges</td>\n",
       "      <td>0.102411</td>\n",
       "      <td>0.651065</td>\n",
       "      <td>1.000000</td>\n",
       "      <td>-0.199484</td>\n",
       "      <td>0.825811</td>\n",
       "    </tr>\n",
       "    <tr>\n",
       "      <td>СlientGroup</td>\n",
       "      <td>0.150541</td>\n",
       "      <td>0.192858</td>\n",
       "      <td>-0.199484</td>\n",
       "      <td>1.000000</td>\n",
       "      <td>-0.354496</td>\n",
       "    </tr>\n",
       "    <tr>\n",
       "      <td>Lifetime</td>\n",
       "      <td>0.015630</td>\n",
       "      <td>0.246715</td>\n",
       "      <td>0.825811</td>\n",
       "      <td>-0.354496</td>\n",
       "      <td>1.000000</td>\n",
       "    </tr>\n",
       "  </tbody>\n",
       "</table>\n",
       "</div>"
      ],
      "text/plain": [
       "                SeniorCitizen  MonthlyCharges  TotalCharges  СlientGroup  \\\n",
       "SeniorCitizen        1.000000        0.219874      0.102411     0.150541   \n",
       "MonthlyCharges       0.219874        1.000000      0.651065     0.192858   \n",
       "TotalCharges         0.102411        0.651065      1.000000    -0.199484   \n",
       "СlientGroup          0.150541        0.192858     -0.199484     1.000000   \n",
       "Lifetime             0.015630        0.246715      0.825811    -0.354496   \n",
       "\n",
       "                Lifetime  \n",
       "SeniorCitizen   0.015630  \n",
       "MonthlyCharges  0.246715  \n",
       "TotalCharges    0.825811  \n",
       "СlientGroup    -0.354496  \n",
       "Lifetime        1.000000  "
      ]
     },
     "metadata": {},
     "output_type": "display_data"
    }
   ],
   "source": [
    "display(df_full.corr())"
   ]
  },
  {
   "cell_type": "markdown",
   "metadata": {},
   "source": [
    "Корреляция между `TotalCharges` и `Lifetime` больше чем 0.8. Удалим `TotalCharges`, тк есть `MonthlyCharges` "
   ]
  },
  {
   "cell_type": "code",
   "execution_count": 39,
   "metadata": {},
   "outputs": [
    {
     "name": "stdout",
     "output_type": "stream",
     "text": [
      "<class 'pandas.core.frame.DataFrame'>\n",
      "Int64Index: 7032 entries, 0 to 7031\n",
      "Data columns (total 23 columns):\n",
      "customerID          7032 non-null object\n",
      "gender              7032 non-null object\n",
      "SeniorCitizen       7032 non-null int64\n",
      "Partner             7032 non-null object\n",
      "Dependents          7032 non-null object\n",
      "BeginDate           7032 non-null datetime64[ns]\n",
      "EndDate             7032 non-null object\n",
      "Type                7032 non-null object\n",
      "PaperlessBilling    7032 non-null object\n",
      "PaymentMethod       7032 non-null object\n",
      "MonthlyCharges      7032 non-null float64\n",
      "TotalCharges        7032 non-null float64\n",
      "СlientGroup         7032 non-null int64\n",
      "Lifetime            7032 non-null int64\n",
      "MultipleLines       7032 non-null object\n",
      "InternetService     7032 non-null object\n",
      "OnlineSecurity      7032 non-null object\n",
      "OnlineBackup        7032 non-null object\n",
      "DeviceProtection    7032 non-null object\n",
      "TechSupport         7032 non-null object\n",
      "StreamingTV         7032 non-null object\n",
      "StreamingMovies     7032 non-null object\n",
      "phone_user          7032 non-null object\n",
      "dtypes: datetime64[ns](1), float64(2), int64(3), object(17)\n",
      "memory usage: 1.3+ MB\n"
     ]
    }
   ],
   "source": [
    " df_full.info()"
   ]
  },
  {
   "cell_type": "markdown",
   "metadata": {},
   "source": [
    "Колонка `customerID` не несет в себе никакой полезной информации, `phone_user` создавалась только для анализа поведения пользователей, а `BeginDate` и `EndDate` могут привести к утечке данных- вместо них оставим только колонку время жизни клиента `Lifetime`\n",
    "\n",
    "Все категориальные признаки имеют тип данных object, кроме данных в колонке `SeniorCitizen`. Преобразуем их в object.\n",
    "\n",
    "Колонка `СlientGroup` будет целевым признаком. Остальные колонки: `MonthlyCharges`, `Lifetime` - количественные признаки"
   ]
  },
  {
   "cell_type": "code",
   "execution_count": 40,
   "metadata": {},
   "outputs": [],
   "source": [
    "df_full=df_full.drop(['customerID','BeginDate','EndDate', 'phone_user', 'TotalCharges'], axis =1)\n",
    "df_full['SeniorCitizen']=df_full['SeniorCitizen'].replace( 0 , 'No')\n",
    "df_full['SeniorCitizen']=df_full['SeniorCitizen'].replace( 1 , 'Yes')"
   ]
  },
  {
   "cell_type": "code",
   "execution_count": 41,
   "metadata": {},
   "outputs": [
    {
     "name": "stdout",
     "output_type": "stream",
     "text": [
      "<class 'pandas.core.frame.DataFrame'>\n",
      "Int64Index: 7032 entries, 0 to 7031\n",
      "Data columns (total 18 columns):\n",
      "gender              7032 non-null object\n",
      "SeniorCitizen       7032 non-null object\n",
      "Partner             7032 non-null object\n",
      "Dependents          7032 non-null object\n",
      "Type                7032 non-null object\n",
      "PaperlessBilling    7032 non-null object\n",
      "PaymentMethod       7032 non-null object\n",
      "MonthlyCharges      7032 non-null float64\n",
      "СlientGroup         7032 non-null int64\n",
      "Lifetime            7032 non-null int64\n",
      "MultipleLines       7032 non-null object\n",
      "InternetService     7032 non-null object\n",
      "OnlineSecurity      7032 non-null object\n",
      "OnlineBackup        7032 non-null object\n",
      "DeviceProtection    7032 non-null object\n",
      "TechSupport         7032 non-null object\n",
      "StreamingTV         7032 non-null object\n",
      "StreamingMovies     7032 non-null object\n",
      "dtypes: float64(1), int64(2), object(15)\n",
      "memory usage: 1.0+ MB\n"
     ]
    }
   ],
   "source": [
    "df_full.info()"
   ]
  },
  {
   "cell_type": "markdown",
   "metadata": {},
   "source": [
    "Разобъем данные на признаки и целевой признак и разделим их на 2 выборки: обучающую и тестовую в пропорции 70:30."
   ]
  },
  {
   "cell_type": "code",
   "execution_count": 42,
   "metadata": {},
   "outputs": [
    {
     "name": "stdout",
     "output_type": "stream",
     "text": [
      "Обучающая выборка:  (4922, 17) (4922,)\n",
      "Тестовая выборка:  (2110, 17) (2110,)\n"
     ]
    }
   ],
   "source": [
    "target = df_full['СlientGroup'] # столбец с целевым признаком\n",
    "features = df_full.drop(['СlientGroup'], axis=1) # таблица с признаками. \n",
    "features_train, features_test, target_train, target_test = train_test_split(\n",
    "        features,target,stratify=target, test_size=0.3, random_state=12345)\n",
    "print('Обучающая выборка: ', features_train.shape,  target_train.shape)\n",
    "print('Тестовая выборка: ', features_test.shape,  target_test.shape)"
   ]
  },
  {
   "cell_type": "markdown",
   "metadata": {},
   "source": [
    "Поделилось корректно. Теперь проведем кодирование категориальных переменных. "
   ]
  },
  {
   "cell_type": "code",
   "execution_count": 44,
   "metadata": {},
   "outputs": [],
   "source": [
    "features_train_ohe=pd.get_dummies(features_train, drop_first=True)\n",
    "features_test_ohe=pd.get_dummies(features_test, drop_first=True)\n"
   ]
  },
  {
   "cell_type": "code",
   "execution_count": 45,
   "metadata": {},
   "outputs": [
    {
     "data": {
      "text/html": [
       "<div>\n",
       "<style scoped>\n",
       "    .dataframe tbody tr th:only-of-type {\n",
       "        vertical-align: middle;\n",
       "    }\n",
       "\n",
       "    .dataframe tbody tr th {\n",
       "        vertical-align: top;\n",
       "    }\n",
       "\n",
       "    .dataframe thead th {\n",
       "        text-align: right;\n",
       "    }\n",
       "</style>\n",
       "<table border=\"1\" class=\"dataframe\">\n",
       "  <thead>\n",
       "    <tr style=\"text-align: right;\">\n",
       "      <th></th>\n",
       "      <th>MonthlyCharges</th>\n",
       "      <th>Lifetime</th>\n",
       "      <th>gender_Male</th>\n",
       "      <th>SeniorCitizen_Yes</th>\n",
       "      <th>Partner_Yes</th>\n",
       "      <th>Dependents_Yes</th>\n",
       "      <th>Type_One year</th>\n",
       "      <th>Type_Two year</th>\n",
       "      <th>PaperlessBilling_Yes</th>\n",
       "      <th>PaymentMethod_Credit card (automatic)</th>\n",
       "      <th>PaymentMethod_Electronic check</th>\n",
       "      <th>PaymentMethod_Mailed check</th>\n",
       "      <th>MultipleLines_No</th>\n",
       "      <th>MultipleLines_Yes</th>\n",
       "      <th>InternetService_Do not use</th>\n",
       "      <th>InternetService_Fiber optic</th>\n",
       "      <th>OnlineSecurity_No</th>\n",
       "      <th>OnlineSecurity_Yes</th>\n",
       "      <th>OnlineBackup_No</th>\n",
       "      <th>OnlineBackup_Yes</th>\n",
       "      <th>DeviceProtection_No</th>\n",
       "      <th>DeviceProtection_Yes</th>\n",
       "      <th>TechSupport_No</th>\n",
       "      <th>TechSupport_Yes</th>\n",
       "      <th>StreamingTV_No</th>\n",
       "      <th>StreamingTV_Yes</th>\n",
       "      <th>StreamingMovies_No</th>\n",
       "      <th>StreamingMovies_Yes</th>\n",
       "    </tr>\n",
       "  </thead>\n",
       "  <tbody>\n",
       "    <tr>\n",
       "      <td>309</td>\n",
       "      <td>78.75</td>\n",
       "      <td>1461</td>\n",
       "      <td>1</td>\n",
       "      <td>0</td>\n",
       "      <td>0</td>\n",
       "      <td>1</td>\n",
       "      <td>1</td>\n",
       "      <td>0</td>\n",
       "      <td>1</td>\n",
       "      <td>1</td>\n",
       "      <td>0</td>\n",
       "      <td>0</td>\n",
       "      <td>0</td>\n",
       "      <td>1</td>\n",
       "      <td>0</td>\n",
       "      <td>0</td>\n",
       "      <td>0</td>\n",
       "      <td>1</td>\n",
       "      <td>1</td>\n",
       "      <td>0</td>\n",
       "      <td>0</td>\n",
       "      <td>1</td>\n",
       "      <td>1</td>\n",
       "      <td>0</td>\n",
       "      <td>0</td>\n",
       "      <td>1</td>\n",
       "      <td>0</td>\n",
       "      <td>1</td>\n",
       "    </tr>\n",
       "    <tr>\n",
       "      <td>5313</td>\n",
       "      <td>81.90</td>\n",
       "      <td>792</td>\n",
       "      <td>0</td>\n",
       "      <td>0</td>\n",
       "      <td>1</td>\n",
       "      <td>0</td>\n",
       "      <td>0</td>\n",
       "      <td>0</td>\n",
       "      <td>0</td>\n",
       "      <td>0</td>\n",
       "      <td>0</td>\n",
       "      <td>0</td>\n",
       "      <td>1</td>\n",
       "      <td>0</td>\n",
       "      <td>0</td>\n",
       "      <td>0</td>\n",
       "      <td>1</td>\n",
       "      <td>0</td>\n",
       "      <td>0</td>\n",
       "      <td>1</td>\n",
       "      <td>0</td>\n",
       "      <td>1</td>\n",
       "      <td>0</td>\n",
       "      <td>1</td>\n",
       "      <td>0</td>\n",
       "      <td>1</td>\n",
       "      <td>0</td>\n",
       "      <td>1</td>\n",
       "    </tr>\n",
       "    <tr>\n",
       "      <td>1712</td>\n",
       "      <td>19.70</td>\n",
       "      <td>2191</td>\n",
       "      <td>1</td>\n",
       "      <td>0</td>\n",
       "      <td>1</td>\n",
       "      <td>0</td>\n",
       "      <td>0</td>\n",
       "      <td>1</td>\n",
       "      <td>0</td>\n",
       "      <td>1</td>\n",
       "      <td>0</td>\n",
       "      <td>0</td>\n",
       "      <td>1</td>\n",
       "      <td>0</td>\n",
       "      <td>1</td>\n",
       "      <td>0</td>\n",
       "      <td>0</td>\n",
       "      <td>0</td>\n",
       "      <td>0</td>\n",
       "      <td>0</td>\n",
       "      <td>0</td>\n",
       "      <td>0</td>\n",
       "      <td>0</td>\n",
       "      <td>0</td>\n",
       "      <td>0</td>\n",
       "      <td>0</td>\n",
       "      <td>0</td>\n",
       "      <td>0</td>\n",
       "    </tr>\n",
       "    <tr>\n",
       "      <td>3629</td>\n",
       "      <td>24.55</td>\n",
       "      <td>2191</td>\n",
       "      <td>0</td>\n",
       "      <td>0</td>\n",
       "      <td>1</td>\n",
       "      <td>0</td>\n",
       "      <td>0</td>\n",
       "      <td>1</td>\n",
       "      <td>0</td>\n",
       "      <td>0</td>\n",
       "      <td>1</td>\n",
       "      <td>0</td>\n",
       "      <td>0</td>\n",
       "      <td>1</td>\n",
       "      <td>1</td>\n",
       "      <td>0</td>\n",
       "      <td>0</td>\n",
       "      <td>0</td>\n",
       "      <td>0</td>\n",
       "      <td>0</td>\n",
       "      <td>0</td>\n",
       "      <td>0</td>\n",
       "      <td>0</td>\n",
       "      <td>0</td>\n",
       "      <td>0</td>\n",
       "      <td>0</td>\n",
       "      <td>0</td>\n",
       "      <td>0</td>\n",
       "    </tr>\n",
       "    <tr>\n",
       "      <td>3149</td>\n",
       "      <td>72.75</td>\n",
       "      <td>123</td>\n",
       "      <td>0</td>\n",
       "      <td>1</td>\n",
       "      <td>0</td>\n",
       "      <td>0</td>\n",
       "      <td>0</td>\n",
       "      <td>0</td>\n",
       "      <td>0</td>\n",
       "      <td>0</td>\n",
       "      <td>1</td>\n",
       "      <td>0</td>\n",
       "      <td>1</td>\n",
       "      <td>0</td>\n",
       "      <td>0</td>\n",
       "      <td>1</td>\n",
       "      <td>1</td>\n",
       "      <td>0</td>\n",
       "      <td>0</td>\n",
       "      <td>1</td>\n",
       "      <td>1</td>\n",
       "      <td>0</td>\n",
       "      <td>1</td>\n",
       "      <td>0</td>\n",
       "      <td>1</td>\n",
       "      <td>0</td>\n",
       "      <td>1</td>\n",
       "      <td>0</td>\n",
       "    </tr>\n",
       "  </tbody>\n",
       "</table>\n",
       "</div>"
      ],
      "text/plain": [
       "      MonthlyCharges  Lifetime  gender_Male  SeniorCitizen_Yes  Partner_Yes  \\\n",
       "309            78.75      1461            1                  0            0   \n",
       "5313           81.90       792            0                  0            1   \n",
       "1712           19.70      2191            1                  0            1   \n",
       "3629           24.55      2191            0                  0            1   \n",
       "3149           72.75       123            0                  1            0   \n",
       "\n",
       "      Dependents_Yes  Type_One year  Type_Two year  PaperlessBilling_Yes  \\\n",
       "309                1              1              0                     1   \n",
       "5313               0              0              0                     0   \n",
       "1712               0              0              1                     0   \n",
       "3629               0              0              1                     0   \n",
       "3149               0              0              0                     0   \n",
       "\n",
       "      PaymentMethod_Credit card (automatic)  PaymentMethod_Electronic check  \\\n",
       "309                                       1                               0   \n",
       "5313                                      0                               0   \n",
       "1712                                      1                               0   \n",
       "3629                                      0                               1   \n",
       "3149                                      0                               1   \n",
       "\n",
       "      PaymentMethod_Mailed check  MultipleLines_No  MultipleLines_Yes  \\\n",
       "309                            0                 0                  1   \n",
       "5313                           0                 1                  0   \n",
       "1712                           0                 1                  0   \n",
       "3629                           0                 0                  1   \n",
       "3149                           0                 1                  0   \n",
       "\n",
       "      InternetService_Do not use  InternetService_Fiber optic  \\\n",
       "309                            0                            0   \n",
       "5313                           0                            0   \n",
       "1712                           1                            0   \n",
       "3629                           1                            0   \n",
       "3149                           0                            1   \n",
       "\n",
       "      OnlineSecurity_No  OnlineSecurity_Yes  OnlineBackup_No  \\\n",
       "309                   0                   1                1   \n",
       "5313                  1                   0                0   \n",
       "1712                  0                   0                0   \n",
       "3629                  0                   0                0   \n",
       "3149                  1                   0                0   \n",
       "\n",
       "      OnlineBackup_Yes  DeviceProtection_No  DeviceProtection_Yes  \\\n",
       "309                  0                    0                     1   \n",
       "5313                 1                    0                     1   \n",
       "1712                 0                    0                     0   \n",
       "3629                 0                    0                     0   \n",
       "3149                 1                    1                     0   \n",
       "\n",
       "      TechSupport_No  TechSupport_Yes  StreamingTV_No  StreamingTV_Yes  \\\n",
       "309                1                0               0                1   \n",
       "5313               0                1               0                1   \n",
       "1712               0                0               0                0   \n",
       "3629               0                0               0                0   \n",
       "3149               1                0               1                0   \n",
       "\n",
       "      StreamingMovies_No  StreamingMovies_Yes  \n",
       "309                    0                    1  \n",
       "5313                   0                    1  \n",
       "1712                   0                    0  \n",
       "3629                   0                    0  \n",
       "3149                   1                    0  "
      ]
     },
     "metadata": {},
     "output_type": "display_data"
    },
    {
     "data": {
      "text/plain": [
       "(2110, 28)"
      ]
     },
     "execution_count": 45,
     "metadata": {},
     "output_type": "execute_result"
    }
   ],
   "source": [
    "display(features_test_ohe.head())\n",
    "features_test_ohe.shape"
   ]
  },
  {
   "cell_type": "markdown",
   "metadata": {},
   "source": [
    "Проведем масштабирование количественных признаков"
   ]
  },
  {
   "cell_type": "code",
   "execution_count": 46,
   "metadata": {},
   "outputs": [
    {
     "data": {
      "text/plain": [
       "(4922, 28)"
      ]
     },
     "metadata": {},
     "output_type": "display_data"
    },
    {
     "data": {
      "text/html": [
       "<div>\n",
       "<style scoped>\n",
       "    .dataframe tbody tr th:only-of-type {\n",
       "        vertical-align: middle;\n",
       "    }\n",
       "\n",
       "    .dataframe tbody tr th {\n",
       "        vertical-align: top;\n",
       "    }\n",
       "\n",
       "    .dataframe thead th {\n",
       "        text-align: right;\n",
       "    }\n",
       "</style>\n",
       "<table border=\"1\" class=\"dataframe\">\n",
       "  <thead>\n",
       "    <tr style=\"text-align: right;\">\n",
       "      <th></th>\n",
       "      <th>MonthlyCharges</th>\n",
       "      <th>Lifetime</th>\n",
       "      <th>gender_Male</th>\n",
       "      <th>SeniorCitizen_Yes</th>\n",
       "      <th>Partner_Yes</th>\n",
       "      <th>Dependents_Yes</th>\n",
       "      <th>Type_One year</th>\n",
       "      <th>Type_Two year</th>\n",
       "      <th>PaperlessBilling_Yes</th>\n",
       "      <th>PaymentMethod_Credit card (automatic)</th>\n",
       "      <th>PaymentMethod_Electronic check</th>\n",
       "      <th>PaymentMethod_Mailed check</th>\n",
       "      <th>MultipleLines_No</th>\n",
       "      <th>MultipleLines_Yes</th>\n",
       "      <th>InternetService_Do not use</th>\n",
       "      <th>InternetService_Fiber optic</th>\n",
       "      <th>OnlineSecurity_No</th>\n",
       "      <th>OnlineSecurity_Yes</th>\n",
       "      <th>OnlineBackup_No</th>\n",
       "      <th>OnlineBackup_Yes</th>\n",
       "      <th>DeviceProtection_No</th>\n",
       "      <th>DeviceProtection_Yes</th>\n",
       "      <th>TechSupport_No</th>\n",
       "      <th>TechSupport_Yes</th>\n",
       "      <th>StreamingTV_No</th>\n",
       "      <th>StreamingTV_Yes</th>\n",
       "      <th>StreamingMovies_No</th>\n",
       "      <th>StreamingMovies_Yes</th>\n",
       "    </tr>\n",
       "  </thead>\n",
       "  <tbody>\n",
       "    <tr>\n",
       "      <td>6325</td>\n",
       "      <td>1.298360</td>\n",
       "      <td>1.413795</td>\n",
       "      <td>0</td>\n",
       "      <td>0</td>\n",
       "      <td>0</td>\n",
       "      <td>1</td>\n",
       "      <td>0</td>\n",
       "      <td>1</td>\n",
       "      <td>1</td>\n",
       "      <td>0</td>\n",
       "      <td>1</td>\n",
       "      <td>0</td>\n",
       "      <td>0</td>\n",
       "      <td>1</td>\n",
       "      <td>0</td>\n",
       "      <td>1</td>\n",
       "      <td>1</td>\n",
       "      <td>0</td>\n",
       "      <td>0</td>\n",
       "      <td>1</td>\n",
       "      <td>1</td>\n",
       "      <td>0</td>\n",
       "      <td>0</td>\n",
       "      <td>1</td>\n",
       "      <td>0</td>\n",
       "      <td>1</td>\n",
       "      <td>0</td>\n",
       "      <td>1</td>\n",
       "    </tr>\n",
       "    <tr>\n",
       "      <td>2432</td>\n",
       "      <td>-0.115736</td>\n",
       "      <td>-1.040535</td>\n",
       "      <td>0</td>\n",
       "      <td>0</td>\n",
       "      <td>0</td>\n",
       "      <td>0</td>\n",
       "      <td>0</td>\n",
       "      <td>0</td>\n",
       "      <td>0</td>\n",
       "      <td>0</td>\n",
       "      <td>1</td>\n",
       "      <td>0</td>\n",
       "      <td>1</td>\n",
       "      <td>0</td>\n",
       "      <td>0</td>\n",
       "      <td>0</td>\n",
       "      <td>0</td>\n",
       "      <td>1</td>\n",
       "      <td>0</td>\n",
       "      <td>1</td>\n",
       "      <td>0</td>\n",
       "      <td>1</td>\n",
       "      <td>1</td>\n",
       "      <td>0</td>\n",
       "      <td>1</td>\n",
       "      <td>0</td>\n",
       "      <td>1</td>\n",
       "      <td>0</td>\n",
       "    </tr>\n",
       "    <tr>\n",
       "      <td>6352</td>\n",
       "      <td>-0.069263</td>\n",
       "      <td>-1.040535</td>\n",
       "      <td>0</td>\n",
       "      <td>0</td>\n",
       "      <td>0</td>\n",
       "      <td>0</td>\n",
       "      <td>0</td>\n",
       "      <td>0</td>\n",
       "      <td>0</td>\n",
       "      <td>0</td>\n",
       "      <td>0</td>\n",
       "      <td>0</td>\n",
       "      <td>1</td>\n",
       "      <td>0</td>\n",
       "      <td>0</td>\n",
       "      <td>0</td>\n",
       "      <td>1</td>\n",
       "      <td>0</td>\n",
       "      <td>1</td>\n",
       "      <td>0</td>\n",
       "      <td>0</td>\n",
       "      <td>1</td>\n",
       "      <td>0</td>\n",
       "      <td>1</td>\n",
       "      <td>1</td>\n",
       "      <td>0</td>\n",
       "      <td>0</td>\n",
       "      <td>1</td>\n",
       "    </tr>\n",
       "    <tr>\n",
       "      <td>3813</td>\n",
       "      <td>-1.133154</td>\n",
       "      <td>0.553570</td>\n",
       "      <td>1</td>\n",
       "      <td>0</td>\n",
       "      <td>0</td>\n",
       "      <td>0</td>\n",
       "      <td>1</td>\n",
       "      <td>0</td>\n",
       "      <td>1</td>\n",
       "      <td>0</td>\n",
       "      <td>0</td>\n",
       "      <td>0</td>\n",
       "      <td>0</td>\n",
       "      <td>0</td>\n",
       "      <td>0</td>\n",
       "      <td>0</td>\n",
       "      <td>0</td>\n",
       "      <td>1</td>\n",
       "      <td>1</td>\n",
       "      <td>0</td>\n",
       "      <td>1</td>\n",
       "      <td>0</td>\n",
       "      <td>1</td>\n",
       "      <td>0</td>\n",
       "      <td>1</td>\n",
       "      <td>0</td>\n",
       "      <td>1</td>\n",
       "      <td>0</td>\n",
       "    </tr>\n",
       "    <tr>\n",
       "      <td>3122</td>\n",
       "      <td>-1.138134</td>\n",
       "      <td>-0.142675</td>\n",
       "      <td>0</td>\n",
       "      <td>0</td>\n",
       "      <td>0</td>\n",
       "      <td>0</td>\n",
       "      <td>0</td>\n",
       "      <td>0</td>\n",
       "      <td>1</td>\n",
       "      <td>0</td>\n",
       "      <td>1</td>\n",
       "      <td>0</td>\n",
       "      <td>0</td>\n",
       "      <td>0</td>\n",
       "      <td>0</td>\n",
       "      <td>0</td>\n",
       "      <td>1</td>\n",
       "      <td>0</td>\n",
       "      <td>0</td>\n",
       "      <td>1</td>\n",
       "      <td>1</td>\n",
       "      <td>0</td>\n",
       "      <td>1</td>\n",
       "      <td>0</td>\n",
       "      <td>1</td>\n",
       "      <td>0</td>\n",
       "      <td>1</td>\n",
       "      <td>0</td>\n",
       "    </tr>\n",
       "  </tbody>\n",
       "</table>\n",
       "</div>"
      ],
      "text/plain": [
       "      MonthlyCharges  Lifetime  gender_Male  SeniorCitizen_Yes  Partner_Yes  \\\n",
       "6325        1.298360  1.413795            0                  0            0   \n",
       "2432       -0.115736 -1.040535            0                  0            0   \n",
       "6352       -0.069263 -1.040535            0                  0            0   \n",
       "3813       -1.133154  0.553570            1                  0            0   \n",
       "3122       -1.138134 -0.142675            0                  0            0   \n",
       "\n",
       "      Dependents_Yes  Type_One year  Type_Two year  PaperlessBilling_Yes  \\\n",
       "6325               1              0              1                     1   \n",
       "2432               0              0              0                     0   \n",
       "6352               0              0              0                     0   \n",
       "3813               0              1              0                     1   \n",
       "3122               0              0              0                     1   \n",
       "\n",
       "      PaymentMethod_Credit card (automatic)  PaymentMethod_Electronic check  \\\n",
       "6325                                      0                               1   \n",
       "2432                                      0                               1   \n",
       "6352                                      0                               0   \n",
       "3813                                      0                               0   \n",
       "3122                                      0                               1   \n",
       "\n",
       "      PaymentMethod_Mailed check  MultipleLines_No  MultipleLines_Yes  \\\n",
       "6325                           0                 0                  1   \n",
       "2432                           0                 1                  0   \n",
       "6352                           0                 1                  0   \n",
       "3813                           0                 0                  0   \n",
       "3122                           0                 0                  0   \n",
       "\n",
       "      InternetService_Do not use  InternetService_Fiber optic  \\\n",
       "6325                           0                            1   \n",
       "2432                           0                            0   \n",
       "6352                           0                            0   \n",
       "3813                           0                            0   \n",
       "3122                           0                            0   \n",
       "\n",
       "      OnlineSecurity_No  OnlineSecurity_Yes  OnlineBackup_No  \\\n",
       "6325                  1                   0                0   \n",
       "2432                  0                   1                0   \n",
       "6352                  1                   0                1   \n",
       "3813                  0                   1                1   \n",
       "3122                  1                   0                0   \n",
       "\n",
       "      OnlineBackup_Yes  DeviceProtection_No  DeviceProtection_Yes  \\\n",
       "6325                 1                    1                     0   \n",
       "2432                 1                    0                     1   \n",
       "6352                 0                    0                     1   \n",
       "3813                 0                    1                     0   \n",
       "3122                 1                    1                     0   \n",
       "\n",
       "      TechSupport_No  TechSupport_Yes  StreamingTV_No  StreamingTV_Yes  \\\n",
       "6325               0                1               0                1   \n",
       "2432               1                0               1                0   \n",
       "6352               0                1               1                0   \n",
       "3813               1                0               1                0   \n",
       "3122               1                0               1                0   \n",
       "\n",
       "      StreamingMovies_No  StreamingMovies_Yes  \n",
       "6325                   0                    1  \n",
       "2432                   1                    0  \n",
       "6352                   0                    1  \n",
       "3813                   1                    0  \n",
       "3122                   1                    0  "
      ]
     },
     "metadata": {},
     "output_type": "display_data"
    }
   ],
   "source": [
    "numeric=['MonthlyCharges', 'Lifetime']\n",
    "scaler=StandardScaler()\n",
    "scaler.fit((features_train_ohe[numeric]))\n",
    "features_train_ohe[numeric]=scaler.transform(features_train_ohe[numeric])\n",
    "features_test_ohe[numeric]=scaler.transform(features_test_ohe[numeric])\n",
    "display(features_train_ohe.shape)\n",
    "display(features_train_ohe.head())"
   ]
  },
  {
   "cell_type": "markdown",
   "metadata": {},
   "source": [
    "Проверим баланс классов в целевом признаке"
   ]
  },
  {
   "cell_type": "code",
   "execution_count": 47,
   "metadata": {
    "scrolled": true
   },
   "outputs": [
    {
     "name": "stdout",
     "output_type": "stream",
     "text": [
      "0    0.734215\n",
      "1    0.265785\n",
      "Name: СlientGroup, dtype: float64\n"
     ]
    },
    {
     "data": {
      "image/png": "[encoded data removed]",
      "text/plain": [
       "<Figure size 432x288 with 1 Axes>"
      ]
     },
     "metadata": {
      "needs_background": "light"
     },
     "output_type": "display_data"
    }
   ],
   "source": [
    "class_frequency=target.value_counts(normalize=True)\n",
    "print(class_frequency)\n",
    "class_frequency.plot(kind='bar')\n",
    "plt.xticks(rotation=0)\n",
    "plt.show()"
   ]
  },
  {
   "cell_type": "markdown",
   "metadata": {},
   "source": [
    "Дисбаланс классов примерно 1:3"
   ]
  },
  {
   "cell_type": "markdown",
   "metadata": {},
   "source": [
    "## 4. Обучение простых моделей"
   ]
  },
  {
   "cell_type": "markdown",
   "metadata": {},
   "source": [
    "Сначала для обучения возьмем несколько простых моделей: Логистическая регрессия, Дерево решений и Случайный лес\n",
    "\n",
    "Напишем функцию для кроссвалидации по модели."
   ]
  },
  {
   "cell_type": "code",
   "execution_count": 48,
   "metadata": {},
   "outputs": [],
   "source": [
    "def calc(model, features, target, params):\n",
    "    roc_auc_scorer=make_scorer(roc_auc_score, greater_is_better=True, needs_threshold=True)\n",
    "    grid= GridSearchCV(model, params, scoring=roc_auc_scorer, cv=5, n_jobs = -1)\n",
    "    grid.fit(features, target)\n",
    "    print('Лучшие гиперпараметры для модели: ', grid.best_params_)\n",
    "    print('Лучшая метрика ROC_AUC: {:.3f}'.format(grid.best_score_))"
   ]
  },
  {
   "cell_type": "markdown",
   "metadata": {},
   "source": [
    "Сначала попробуем кроссвалидацию с встроенной борьбой с дисбалансом по гипперпараметру  class_weight"
   ]
  },
  {
   "cell_type": "markdown",
   "metadata": {},
   "source": [
    "**Логистическая регрессия**"
   ]
  },
  {
   "cell_type": "code",
   "execution_count": 49,
   "metadata": {},
   "outputs": [
    {
     "name": "stdout",
     "output_type": "stream",
     "text": [
      "Лучшие гиперпараметры для модели:  {'C': 8, 'class_weight': None}\n",
      "Лучшая метрика ROC_AUC: 0.842\n",
      "CPU times: user 129 ms, sys: 53.4 ms, total: 183 ms\n",
      "Wall time: 1.7 s\n"
     ]
    }
   ],
   "source": [
    "%%time\n",
    "regress=LogisticRegression(random_state=12345)\n",
    "regress_params={'class_weight':['balanced',None], 'C':[2, 5,8]}\n",
    "calc(regress, features_train_ohe, target_train, regress_params )"
   ]
  },
  {
   "cell_type": "markdown",
   "metadata": {},
   "source": [
    "Кроссвалидация показала, что лучшая метрика ROC_AUC =0.842 достигается, если class_weight не применять. "
   ]
  },
  {
   "cell_type": "markdown",
   "metadata": {},
   "source": [
    "**Дерево решений**"
   ]
  },
  {
   "cell_type": "code",
   "execution_count": 50,
   "metadata": {},
   "outputs": [
    {
     "name": "stdout",
     "output_type": "stream",
     "text": [
      "Лучшие гиперпараметры для модели:  {'class_weight': 'balanced', 'max_depth': 6}\n",
      "Лучшая метрика ROC_AUC: 0.843\n",
      "CPU times: user 55.2 ms, sys: 5.65 ms, total: 60.9 ms\n",
      "Wall time: 327 ms\n"
     ]
    }
   ],
   "source": [
    "%%time\n",
    "tree= DecisionTreeClassifier(random_state=12345)\n",
    "tree_params = {'max_depth': range(1, 17, 5),'class_weight':['balanced',None]}\n",
    "calc(tree, features_train_ohe, target_train, tree_params )"
   ]
  },
  {
   "cell_type": "markdown",
   "metadata": {},
   "source": [
    "Кроссвалидация показала, что лучшая метрика ROC_AUC =0.843 также достигается, если class_weight не применять. Метрика немного хуже чем у логистической регрессии"
   ]
  },
  {
   "cell_type": "markdown",
   "metadata": {},
   "source": [
    "**Случайный лес**"
   ]
  },
  {
   "cell_type": "code",
   "execution_count": 51,
   "metadata": {},
   "outputs": [
    {
     "name": "stdout",
     "output_type": "stream",
     "text": [
      "Лучшие гиперпараметры для модели:  {'class_weight': None, 'max_depth': 7, 'n_estimators': 31}\n",
      "Лучшая метрика ROC_AUC: 0.853\n",
      "CPU times: user 445 ms, sys: 24.9 ms, total: 470 ms\n",
      "Wall time: 9.4 s\n"
     ]
    }
   ],
   "source": [
    "%%time\n",
    "forest = RandomForestClassifier(random_state=12345)\n",
    "forest_params={'max_depth': range(1, 13, 2), 'class_weight':['balanced',None], 'n_estimators':range(1,45,5)}\n",
    "calc(forest, features_train_ohe, target_train,forest_params)"
   ]
  },
  {
   "cell_type": "markdown",
   "metadata": {},
   "source": [
    " ROC_AUC=0.853, это лучше чем у логистической регрессии. Но здесь также лучшая модель получается без class_weight "
   ]
  },
  {
   "cell_type": "markdown",
   "metadata": {},
   "source": [
    "Попробуем изменить баланс классов вручную."
   ]
  },
  {
   "cell_type": "code",
   "execution_count": 52,
   "metadata": {},
   "outputs": [],
   "source": [
    "def upsample(features, target, repeat): #Функция для увеличения положительных объектов в выборке на n-кол-во раз(repeat)\n",
    "    features_zeros=features[target==0]\n",
    "    features_ones=features[target==1]\n",
    "    target_zeros=target[target==0]\n",
    "    target_ones=target[target==1]\n",
    "    features_upsampled=pd.concat([features_zeros]+[features_ones]*repeat)\n",
    "    target_upsampled=pd.concat([target_zeros]+[target_ones]*repeat)\n",
    "    features_upsampled, target_upsampled = shuffle(features_upsampled, target_upsampled,random_state=12345)\n",
    "    return features_upsampled, target_upsampled"
   ]
  },
  {
   "cell_type": "markdown",
   "metadata": {},
   "source": [
    "Увеличим кол-во положительных объектов в выборке в 3 раза"
   ]
  },
  {
   "cell_type": "code",
   "execution_count": 53,
   "metadata": {},
   "outputs": [
    {
     "name": "stdout",
     "output_type": "stream",
     "text": [
      "(7538, 28)\n",
      "(7538,)\n"
     ]
    }
   ],
   "source": [
    "features_upsampled, target_upsampled = upsample(features_train_ohe, target_train, 3)\n",
    "print(features_upsampled.shape)\n",
    "print(target_upsampled.shape)"
   ]
  },
  {
   "cell_type": "code",
   "execution_count": 54,
   "metadata": {},
   "outputs": [
    {
     "name": "stdout",
     "output_type": "stream",
     "text": [
      "1    0.520562\n",
      "0    0.479438\n",
      "Name: СlientGroup, dtype: float64\n"
     ]
    },
    {
     "data": {
      "image/png": "[encoded data removed]",
      "text/plain": [
       "<Figure size 432x288 with 1 Axes>"
      ]
     },
     "metadata": {
      "needs_background": "light"
     },
     "output_type": "display_data"
    }
   ],
   "source": [
    "class_frequency=target_upsampled.value_counts(normalize=True)\n",
    "print(class_frequency)\n",
    "class_frequency.plot(kind='bar')\n",
    "plt.xticks(rotation=0)\n",
    "plt.show()"
   ]
  },
  {
   "cell_type": "markdown",
   "metadata": {},
   "source": [
    "**Логистическая регрессия**"
   ]
  },
  {
   "cell_type": "code",
   "execution_count": 55,
   "metadata": {},
   "outputs": [
    {
     "name": "stdout",
     "output_type": "stream",
     "text": [
      "Лучшие гиперпараметры для модели:  {'C': 5}\n",
      "Лучшая метрика ROC_AUC: 0.842\n",
      "CPU times: user 62.7 ms, sys: 6.63 ms, total: 69.3 ms\n",
      "Wall time: 322 ms\n"
     ]
    }
   ],
   "source": [
    "%%time\n",
    "regress=LogisticRegression(random_state=12345)\n",
    "regress_params={ 'C':[5, 10,15]}\n",
    "calc(regress, features_upsampled, target_upsampled, regress_params )"
   ]
  },
  {
   "cell_type": "markdown",
   "metadata": {},
   "source": [
    "ROC_AUC не изменился"
   ]
  },
  {
   "cell_type": "markdown",
   "metadata": {},
   "source": [
    "**Дерево решений**"
   ]
  },
  {
   "cell_type": "code",
   "execution_count": 56,
   "metadata": {},
   "outputs": [
    {
     "name": "stdout",
     "output_type": "stream",
     "text": [
      "Лучшие гиперпараметры для модели:  {'max_depth': 7}\n",
      "Лучшая метрика ROC_AUC: 0.870\n",
      "CPU times: user 50.2 ms, sys: 6.36 ms, total: 56.5 ms\n",
      "Wall time: 191 ms\n"
     ]
    }
   ],
   "source": [
    "%%time\n",
    "tree= DecisionTreeClassifier(random_state=12345)\n",
    "tree_params = {'max_depth': range(1, 10, 3)}\n",
    "calc(tree, features_upsampled, target_upsampled, tree_params )"
   ]
  },
  {
   "cell_type": "markdown",
   "metadata": {},
   "source": [
    "ROC_AUC= 0.870, это значительно больше чем без учета дисбаланса."
   ]
  },
  {
   "cell_type": "markdown",
   "metadata": {},
   "source": [
    "**Случайный лес**"
   ]
  },
  {
   "cell_type": "code",
   "execution_count": 57,
   "metadata": {},
   "outputs": [
    {
     "name": "stdout",
     "output_type": "stream",
     "text": [
      "Лучшие гиперпараметры для модели:  {'max_depth': 9, 'n_estimators': 16}\n",
      "Лучшая метрика ROC_AUC: 0.903\n",
      "CPU times: user 151 ms, sys: 9.18 ms, total: 160 ms\n",
      "Wall time: 1.34 s\n"
     ]
    }
   ],
   "source": [
    "%%time\n",
    "forest = RandomForestClassifier(random_state=12345)\n",
    "forest_params={'max_depth': range(1, 10, 2), 'n_estimators':range(1,21,5)}\n",
    "calc(forest, features_upsampled, target_upsampled,forest_params)"
   ]
  },
  {
   "cell_type": "markdown",
   "metadata": {},
   "source": [
    "ROC_AUC стал гораздо лучше =  0.883"
   ]
  },
  {
   "cell_type": "markdown",
   "metadata": {},
   "source": [
    "Попоробуем уменьшить кол-во отрицательных объектов  в выборке"
   ]
  },
  {
   "cell_type": "code",
   "execution_count": 58,
   "metadata": {},
   "outputs": [],
   "source": [
    "def downsample(features, target, fraction):#Функция для уменьшения отрицательных  объектов в выборке на n-долю (fraction)\n",
    "    features_zeros=features[target==0]\n",
    "    features_ones=features[target==1]\n",
    "    target_zeros=target[target==0]\n",
    "    target_ones=target[target==1]\n",
    "    features_downsampled = pd.concat([features_zeros.sample(frac=fraction, random_state=12345)]+[features_ones])\n",
    "    target_downsampled = pd.concat([target_zeros.sample(frac=fraction, random_state=12345)]+[target_ones])\n",
    "    features_downsampled, target_downsampled = shuffle(features_downsampled, target_downsampled,random_state=12345)\n",
    "    return features_downsampled, target_downsampled"
   ]
  },
  {
   "cell_type": "code",
   "execution_count": 59,
   "metadata": {},
   "outputs": [],
   "source": [
    "features_downsampled, target_downsampled = downsample(features_train_ohe, target_train, 0.35)"
   ]
  },
  {
   "cell_type": "code",
   "execution_count": 60,
   "metadata": {},
   "outputs": [
    {
     "name": "stdout",
     "output_type": "stream",
     "text": [
      "1    0.508356\n",
      "0    0.491644\n",
      "Name: СlientGroup, dtype: float64\n"
     ]
    },
    {
     "data": {
      "image/png": "[encoded data removed]",
      "text/plain": [
       "<Figure size 432x288 with 1 Axes>"
      ]
     },
     "metadata": {
      "needs_background": "light"
     },
     "output_type": "display_data"
    }
   ],
   "source": [
    "class_frequency=target_downsampled.value_counts(normalize=True)\n",
    "print(class_frequency)\n",
    "class_frequency.plot(kind='bar')\n",
    "plt.xticks(rotation=0)\n",
    "plt.show()"
   ]
  },
  {
   "cell_type": "markdown",
   "metadata": {},
   "source": [
    "**Логистическая регрессия**"
   ]
  },
  {
   "cell_type": "code",
   "execution_count": 61,
   "metadata": {},
   "outputs": [
    {
     "name": "stdout",
     "output_type": "stream",
     "text": [
      "Лучшие гиперпараметры для модели:  {'C': 10}\n",
      "Лучшая метрика ROC_AUC: 0.837\n",
      "CPU times: user 39.4 ms, sys: 3.37 ms, total: 42.8 ms\n",
      "Wall time: 149 ms\n"
     ]
    }
   ],
   "source": [
    "%%time\n",
    "regress=LogisticRegression(random_state=12345)\n",
    "regress_params={ 'C':[3, 5, 10]}\n",
    "calc(regress, features_downsampled, target_downsampled, regress_params )"
   ]
  },
  {
   "cell_type": "markdown",
   "metadata": {},
   "source": [
    "**Дерево решений**"
   ]
  },
  {
   "cell_type": "code",
   "execution_count": 62,
   "metadata": {},
   "outputs": [
    {
     "name": "stdout",
     "output_type": "stream",
     "text": [
      "Лучшие гиперпараметры для модели:  {'max_depth': 6}\n",
      "Лучшая метрика ROC_AUC: 0.831\n",
      "CPU times: user 36.2 ms, sys: 2.99 ms, total: 39.2 ms\n",
      "Wall time: 193 ms\n"
     ]
    }
   ],
   "source": [
    "%%time\n",
    "tree= DecisionTreeClassifier(random_state=12345)\n",
    "tree_params = {'max_depth': range(1, 17, 5)}\n",
    "calc(tree, features_downsampled, target_downsampled, tree_params )"
   ]
  },
  {
   "cell_type": "markdown",
   "metadata": {},
   "source": [
    "**Случайный лес**"
   ]
  },
  {
   "cell_type": "code",
   "execution_count": 63,
   "metadata": {},
   "outputs": [
    {
     "name": "stdout",
     "output_type": "stream",
     "text": [
      "Лучшие гиперпараметры для модели:  {'max_depth': 7, 'n_estimators': 36}\n",
      "Лучшая метрика ROC_AUC: 0.846\n",
      "CPU times: user 224 ms, sys: 6.1 ms, total: 230 ms\n",
      "Wall time: 4.14 s\n"
     ]
    }
   ],
   "source": [
    "%%time\n",
    "forest = RandomForestClassifier(random_state=12345)\n",
    "forest_params={'max_depth': range(1, 13, 2), 'n_estimators':range(1,45,5)}\n",
    "calc(forest,  features_downsampled, target_downsampled,forest_params)"
   ]
  },
  {
   "cell_type": "markdown",
   "metadata": {},
   "source": [
    "С downsample результаты у всех 3-х моделей хуше чем с class_weight = None"
   ]
  },
  {
   "cell_type": "markdown",
   "metadata": {},
   "source": [
    "Посмотрим на результаты в таблице"
   ]
  },
  {
   "cell_type": "code",
   "execution_count": 64,
   "metadata": {},
   "outputs": [
    {
     "data": {
      "text/html": [
       "<div>\n",
       "<style scoped>\n",
       "    .dataframe tbody tr th:only-of-type {\n",
       "        vertical-align: middle;\n",
       "    }\n",
       "\n",
       "    .dataframe tbody tr th {\n",
       "        vertical-align: top;\n",
       "    }\n",
       "\n",
       "    .dataframe thead th {\n",
       "        text-align: right;\n",
       "    }\n",
       "</style>\n",
       "<table border=\"1\" class=\"dataframe\">\n",
       "  <thead>\n",
       "    <tr style=\"text-align: right;\">\n",
       "      <th></th>\n",
       "      <th>Модель</th>\n",
       "      <th>ROC-AUC без учета баланса</th>\n",
       "      <th>ROC-AUC upsample x3</th>\n",
       "      <th>ROC-AUC downsample x0.35</th>\n",
       "    </tr>\n",
       "  </thead>\n",
       "  <tbody>\n",
       "    <tr>\n",
       "      <td>0</td>\n",
       "      <td>Линейная регрессия</td>\n",
       "      <td>0.842</td>\n",
       "      <td>0.842</td>\n",
       "      <td>0.837</td>\n",
       "    </tr>\n",
       "    <tr>\n",
       "      <td>1</td>\n",
       "      <td>Решающее дерево</td>\n",
       "      <td>0.843</td>\n",
       "      <td>0.870</td>\n",
       "      <td>0.831</td>\n",
       "    </tr>\n",
       "    <tr>\n",
       "      <td>2</td>\n",
       "      <td>Случайный лес</td>\n",
       "      <td>0.853</td>\n",
       "      <td>0.903</td>\n",
       "      <td>0.846</td>\n",
       "    </tr>\n",
       "  </tbody>\n",
       "</table>\n",
       "</div>"
      ],
      "text/plain": [
       "               Модель  ROC-AUC без учета баланса  ROC-AUC upsample x3  \\\n",
       "0  Линейная регрессия                      0.842                0.842   \n",
       "1     Решающее дерево                      0.843                0.870   \n",
       "2       Случайный лес                      0.853                0.903   \n",
       "\n",
       "   ROC-AUC downsample x0.35  \n",
       "0                     0.837  \n",
       "1                     0.831  \n",
       "2                     0.846  "
      ]
     },
     "metadata": {},
     "output_type": "display_data"
    }
   ],
   "source": [
    "data_line = {'Модель':['Линейная регрессия' ,'Решающее дерево',  'Случайный лес'], \n",
    "        'ROC-AUC без учета баланса': [0.842, 0.843,  0.853],\n",
    "        'ROC-AUC upsample x3': [0.842, 0.870,  0.903],\n",
    "       'ROC-AUC downsample x0.35': [0.837,0.831, 0.846]}\n",
    "data_pivot = pd.DataFrame.from_dict(data_line)\n",
    "\n",
    "display(data_pivot)"
   ]
  },
  {
   "cell_type": "markdown",
   "metadata": {},
   "source": [
    "Без учета дисбаланса лучшая метрика ROC-AUC=0.85 у Случайного леса. С upsample x3 метрика улучшается и лучшая  также у Случайного леса = 0.88, что равно пороговому значению. Downsample приводит к ухудшению метрики\n",
    "\n",
    "Протестируем модель Случайный лес с upsample x3. "
   ]
  },
  {
   "cell_type": "markdown",
   "metadata": {},
   "source": [
    "## 5. Тестирование лучшей  модели"
   ]
  },
  {
   "cell_type": "code",
   "execution_count": 65,
   "metadata": {},
   "outputs": [
    {
     "name": "stdout",
     "output_type": "stream",
     "text": [
      "Точность:0.531\n",
      "Полнота:0.784\n",
      "Accuracy:0.758\n",
      "AUC-ROC:0.854\n"
     ]
    },
    {
     "data": {
      "image/png": "[encoded data removed]",
      "text/plain": [
       "<Figure size 432x288 with 1 Axes>"
      ]
     },
     "metadata": {
      "needs_background": "light"
     },
     "output_type": "display_data"
    }
   ],
   "source": [
    "features_upsampled, target_upsampled = upsample(features_train_ohe, target_train, 3)\n",
    "forest = RandomForestClassifier(random_state=12345, n_estimators=16, max_depth=9)\n",
    "forest.fit(features_upsampled, target_upsampled)\n",
    "predictions_test=forest.predict(features_test_ohe) \n",
    "probabilities_test = forest.predict_proba(features_test_ohe)\n",
    "probabilities_one_test = probabilities_test[:,1]\n",
    "fpr, tpr, thresholds = roc_curve(target_test, probabilities_one_test)\n",
    "plt.figure()  \n",
    "plt.plot(fpr, tpr) #ROC-кривая модели \n",
    "plt.plot([0,1],[0,1], linestyle='--')  #ROC-кривая случайной модели \n",
    "plt.xlim([0.0, 1.0])\n",
    "plt.ylim([0.0, 1.0])\n",
    "plt.xlabel('False Positive Rate')\n",
    "plt.title('ROC - кривая')\n",
    "print('Точность:{:.3f}' .format(precision_score(target_test, predictions_test)))\n",
    "print('Полнота:{:.3f}' .format(recall_score(target_test, predictions_test)))\n",
    "print('Accuracy:{:.3f}' .format(accuracy_score(target_test, predictions_test)))\n",
    "print('AUC-ROC:{:.3f}' .format(roc_auc_score(target_test, probabilities_one_test)))"
   ]
  },
  {
   "cell_type": "markdown",
   "metadata": {},
   "source": [
    "На тестовой выборке модель показала AUC-ROC= 0.854 и Accuracy=0.758. Не очень высокие показатели. К тому же точность всего 0.53 и на обучающей выборке был AUC-ROC= 0.903, что говорит о небольшом переобучении и со временем модель модель может потерять в качестве. \n"
   ]
  },
  {
   "cell_type": "markdown",
   "metadata": {},
   "source": [
    "## 6. Обучение моделей градиентного бустинга"
   ]
  },
  {
   "cell_type": "markdown",
   "metadata": {},
   "source": [
    "Попробуем модели градиентого бустинга: CatBoost и LightBGM "
   ]
  },
  {
   "cell_type": "markdown",
   "metadata": {},
   "source": [
    "**CatBoost**"
   ]
  },
  {
   "cell_type": "markdown",
   "metadata": {},
   "source": [
    "Создадим список категориальных признаков"
   ]
  },
  {
   "cell_type": "code",
   "execution_count": 66,
   "metadata": {},
   "outputs": [],
   "source": [
    "cat_features =['gender', 'SeniorCitizen', 'Partner','Dependents','Type','PaperlessBilling',\n",
    "               'PaymentMethod','MultipleLines','InternetService','OnlineSecurity','OnlineBackup',\n",
    "               'DeviceProtection','TechSupport','StreamingTV','StreamingMovies']"
   ]
  },
  {
   "cell_type": "code",
   "execution_count": 67,
   "metadata": {},
   "outputs": [
    {
     "name": "stdout",
     "output_type": "stream",
     "text": [
      "Лучшая метрика AUC-ROC: 0.906\n",
      "Лучшие гиперпараметры для модели:  {'depth': 5, 'learning_rate': 0.5}\n",
      "CPU times: user 3.32 s, sys: 276 ms, total: 3.59 s\n",
      "Wall time: 24min 52s\n"
     ]
    }
   ],
   "source": [
    "%%time\n",
    "cat = CatBoostClassifier(iterations=200, verbose=False,cat_features = cat_features)\n",
    "cat_params = {'learning_rate':[0.5, 0.8, 1.0], 'depth':[5,10, 15]} \n",
    "cat_grid= GridSearchCV(cat, cat_params, scoring='roc_auc',  cv=4, n_jobs = -1)\n",
    "cat_grid.fit(features_train, target_train)\n",
    "\n",
    "print('Лучшая метрика AUC-ROC: {:.3f}' .format(cat_grid.best_score_))\n",
    "print('Лучшие гиперпараметры для модели: ', cat_grid.best_params_)"
   ]
  },
  {
   "cell_type": "markdown",
   "metadata": {},
   "source": [
    "AUC-ROC на кроссвалидации 0.906 Это намного лучше чем у простых моделей и выше порога в 0.88."
   ]
  },
  {
   "cell_type": "markdown",
   "metadata": {},
   "source": [
    " **LightGBM**"
   ]
  },
  {
   "cell_type": "markdown",
   "metadata": {},
   "source": [
    "Поменяем тип категориальных признаков на 'category'"
   ]
  },
  {
   "cell_type": "code",
   "execution_count": 68,
   "metadata": {},
   "outputs": [],
   "source": [
    "df_full[['gender', 'SeniorCitizen', 'Partner','Dependents','Type','PaperlessBilling',\n",
    "               'PaymentMethod','MultipleLines','InternetService','OnlineSecurity','OnlineBackup',\n",
    "               'DeviceProtection','TechSupport','StreamingTV','StreamingMovies']]= df_full[['gender', \n",
    "                'SeniorCitizen', 'Partner','Dependents','Type','PaperlessBilling',\n",
    "               'PaymentMethod','MultipleLines','InternetService','OnlineSecurity','OnlineBackup',\n",
    "               'DeviceProtection','TechSupport','StreamingTV','StreamingMovies']].astype('category')"
   ]
  },
  {
   "cell_type": "code",
   "execution_count": 69,
   "metadata": {},
   "outputs": [],
   "source": [
    "target_lgb=df_full['СlientGroup'] # столбец с целевым признаком\n",
    "features_lgb=df_full.drop(['СlientGroup'], axis=1) # таблица с признаками.\n",
    "features_train_lgb, features_test_lgb, target_train_lgb, target_test_lgb = train_test_split(\n",
    "       features_lgb,target_lgb, stratify= target_lgb, test_size=0.3, random_state=12345)"
   ]
  },
  {
   "cell_type": "code",
   "execution_count": 70,
   "metadata": {},
   "outputs": [
    {
     "name": "stdout",
     "output_type": "stream",
     "text": [
      "Лучшая метрика AUC-ROC: 0.879\n",
      "Лучшие гиперпараметры для модели:  {'boosting_type': 'gbdt', 'depth': 5, 'learning_rate': 0.05}\n",
      "CPU times: user 2.11 s, sys: 39.5 ms, total: 2.14 s\n",
      "Wall time: 55 s\n"
     ]
    }
   ],
   "source": [
    "%%time\n",
    "categorial_features = ['gender', 'SeniorCitizen', 'Partner','Dependents','Type','PaperlessBilling',\n",
    "               'PaymentMethod','MultipleLines','InternetService','OnlineSecurity','OnlineBackup',\n",
    "               'DeviceProtection','TechSupport','StreamingTV','StreamingMovies']\n",
    "lgb=LGBMClassifier(num_iteration=500, verbose=0, random_state=12345, categorial_features=categorial_features )\n",
    "lgb_params = {'learning_rate':[0.05, 0.1, 0.3], 'depth':[5,10, 15],'boosting_type':['gbdt', 'dart', 'goss']}\n",
    "lgb_grid= GridSearchCV(lgb, lgb_params, scoring='roc_auc',  cv=3, n_jobs = -1)\n",
    "lgb_grid.fit(features_train_lgb, target_train_lgb)\n",
    "print('Лучшая метрика AUC-ROC: {:.3f}' .format(lgb_grid.best_score_))\n",
    "print('Лучшие гиперпараметры для модели: ',lgb_grid.best_params_)"
   ]
  },
  {
   "cell_type": "markdown",
   "metadata": {},
   "source": [
    "AUC-ROC=0.879, хуже чем у CatBoost.\n",
    "\n",
    "Для тестирования возьмем  CatBoost с гиперпараметрами, найденными при кроссвалидации: 'depth': 5, 'learning_rate': 0.5"
   ]
  },
  {
   "cell_type": "markdown",
   "metadata": {},
   "source": [
    "## 7. Тестирование лучшей модели"
   ]
  },
  {
   "cell_type": "code",
   "execution_count": 71,
   "metadata": {},
   "outputs": [
    {
     "name": "stdout",
     "output_type": "stream",
     "text": [
      "Точность: 0.800\n",
      "Полнота: 0.720\n",
      "Accuracy: 0.878\n",
      "AUC-ROC: 0.916\n",
      "CPU times: user 3.45 s, sys: 252 ms, total: 3.7 s\n",
      "Wall time: 1.44 s\n"
     ]
    },
    {
     "data": {
      "image/png": "[encoded data removed]",
      "text/plain": [
       "<Figure size 432x288 with 1 Axes>"
      ]
     },
     "metadata": {
      "needs_background": "light"
     },
     "output_type": "display_data"
    }
   ],
   "source": [
    "%%time\n",
    "cat_test = CatBoostClassifier(iterations= 200, verbose=0,cat_features=cat_features, \n",
    "                        learning_rate=0.5,depth=5, random_state=12345)\n",
    "cat_test.fit(features_train, target_train)\n",
    "predictions_cat=cat_test.predict(features_test)\n",
    "probabilities_test =cat_test.predict_proba(features_test)\n",
    "probabilities_one_test = probabilities_test[:,1]\n",
    "fpr, tpr, thresholds = roc_curve(target_test, probabilities_one_test)\n",
    "plt.figure()  \n",
    "plt.plot(fpr, tpr) #ROC-кривая модели \n",
    "plt.plot([0,1],[0,1], linestyle='--')  #ROC-кривая случайной модели \n",
    "plt.xlim([0.0, 1.0])\n",
    "plt.ylim([0.0, 1.0])\n",
    "plt.xlabel('False Positive Rate')\n",
    "plt.ylabel('True Positive Rate')\n",
    "plt.title('ROC - кривая')\n",
    "print('Точность: {:.3f}' .format(precision_score(target_test, predictions_cat)))\n",
    "print('Полнота: {:.3f}' .format(recall_score(target_test, predictions_cat)))\n",
    "print('Accuracy: {:.3f}' .format(accuracy_score(target_test, predictions_cat)))\n",
    "print('AUC-ROC: {:.3f}' .format(roc_auc_score(target_test, probabilities_one_test)))\n"
   ]
  },
  {
   "cell_type": "markdown",
   "metadata": {},
   "source": [
    "На тесте AUC-ROC= 0.916 и Accuracy= 0.878. Это выше порога AUC-ROC = 0.88. \n",
    "\n",
    "Проверим важность признаков для этой модели"
   ]
  },
  {
   "cell_type": "code",
   "execution_count": 72,
   "metadata": {},
   "outputs": [
    {
     "data": {
      "text/html": [
       "<div>\n",
       "<style scoped>\n",
       "    .dataframe tbody tr th:only-of-type {\n",
       "        vertical-align: middle;\n",
       "    }\n",
       "\n",
       "    .dataframe tbody tr th {\n",
       "        vertical-align: top;\n",
       "    }\n",
       "\n",
       "    .dataframe thead th {\n",
       "        text-align: right;\n",
       "    }\n",
       "</style>\n",
       "<table border=\"1\" class=\"dataframe\">\n",
       "  <thead>\n",
       "    <tr style=\"text-align: right;\">\n",
       "      <th></th>\n",
       "      <th>feature</th>\n",
       "      <th>importance</th>\n",
       "    </tr>\n",
       "  </thead>\n",
       "  <tbody>\n",
       "    <tr>\n",
       "      <td>0</td>\n",
       "      <td>Lifetime</td>\n",
       "      <td>57.214145</td>\n",
       "    </tr>\n",
       "    <tr>\n",
       "      <td>1</td>\n",
       "      <td>MonthlyCharges</td>\n",
       "      <td>11.685069</td>\n",
       "    </tr>\n",
       "    <tr>\n",
       "      <td>2</td>\n",
       "      <td>Type</td>\n",
       "      <td>4.932529</td>\n",
       "    </tr>\n",
       "    <tr>\n",
       "      <td>3</td>\n",
       "      <td>TechSupport</td>\n",
       "      <td>4.509663</td>\n",
       "    </tr>\n",
       "    <tr>\n",
       "      <td>4</td>\n",
       "      <td>PaymentMethod</td>\n",
       "      <td>3.466323</td>\n",
       "    </tr>\n",
       "    <tr>\n",
       "      <td>5</td>\n",
       "      <td>MultipleLines</td>\n",
       "      <td>2.722612</td>\n",
       "    </tr>\n",
       "    <tr>\n",
       "      <td>6</td>\n",
       "      <td>OnlineBackup</td>\n",
       "      <td>2.354551</td>\n",
       "    </tr>\n",
       "    <tr>\n",
       "      <td>7</td>\n",
       "      <td>InternetService</td>\n",
       "      <td>2.102662</td>\n",
       "    </tr>\n",
       "    <tr>\n",
       "      <td>8</td>\n",
       "      <td>OnlineSecurity</td>\n",
       "      <td>1.906594</td>\n",
       "    </tr>\n",
       "    <tr>\n",
       "      <td>9</td>\n",
       "      <td>PaperlessBilling</td>\n",
       "      <td>1.900346</td>\n",
       "    </tr>\n",
       "    <tr>\n",
       "      <td>10</td>\n",
       "      <td>gender</td>\n",
       "      <td>1.451165</td>\n",
       "    </tr>\n",
       "    <tr>\n",
       "      <td>11</td>\n",
       "      <td>StreamingMovies</td>\n",
       "      <td>1.319570</td>\n",
       "    </tr>\n",
       "    <tr>\n",
       "      <td>12</td>\n",
       "      <td>SeniorCitizen</td>\n",
       "      <td>1.088396</td>\n",
       "    </tr>\n",
       "    <tr>\n",
       "      <td>13</td>\n",
       "      <td>DeviceProtection</td>\n",
       "      <td>1.000200</td>\n",
       "    </tr>\n",
       "    <tr>\n",
       "      <td>14</td>\n",
       "      <td>Dependents</td>\n",
       "      <td>0.893628</td>\n",
       "    </tr>\n",
       "    <tr>\n",
       "      <td>15</td>\n",
       "      <td>StreamingTV</td>\n",
       "      <td>0.813760</td>\n",
       "    </tr>\n",
       "    <tr>\n",
       "      <td>16</td>\n",
       "      <td>Partner</td>\n",
       "      <td>0.638788</td>\n",
       "    </tr>\n",
       "  </tbody>\n",
       "</table>\n",
       "</div>"
      ],
      "text/plain": [
       "             feature  importance\n",
       "0           Lifetime   57.214145\n",
       "1     MonthlyCharges   11.685069\n",
       "2               Type    4.932529\n",
       "3        TechSupport    4.509663\n",
       "4      PaymentMethod    3.466323\n",
       "5      MultipleLines    2.722612\n",
       "6       OnlineBackup    2.354551\n",
       "7    InternetService    2.102662\n",
       "8     OnlineSecurity    1.906594\n",
       "9   PaperlessBilling    1.900346\n",
       "10            gender    1.451165\n",
       "11   StreamingMovies    1.319570\n",
       "12     SeniorCitizen    1.088396\n",
       "13  DeviceProtection    1.000200\n",
       "14        Dependents    0.893628\n",
       "15       StreamingTV    0.813760\n",
       "16           Partner    0.638788"
      ]
     },
     "metadata": {},
     "output_type": "display_data"
    }
   ],
   "source": [
    "importance = cat_test.feature_importances_\n",
    "feature_list=list(features_train.columns)\n",
    "feature_results=pd.DataFrame({'feature': feature_list, 'importance': importance}).sort_values('importance', ascending=False).reset_index(drop=True)\n",
    "display(feature_results)"
   ]
  },
  {
   "cell_type": "markdown",
   "metadata": {},
   "source": [
    "Протестируем модель без признаков с низкой важностью"
   ]
  },
  {
   "cell_type": "code",
   "execution_count": 73,
   "metadata": {},
   "outputs": [],
   "source": [
    "cat_features_filterred = ['Type',\n",
    "               'PaymentMethod','MultipleLines','OnlineBackup','InternetService',\n",
    "               'TechSupport','OnlineSecurity']\n",
    "features_train_filtered = features_train.drop(['Dependents','Partner','DeviceProtection','StreamingMovies',\n",
    "                    'SeniorCitizen','StreamingTV','gender','PaperlessBilling'],axis =1 )\n",
    "features_test_filtered = features_test.drop(['Dependents','Partner','DeviceProtection','StreamingMovies',\n",
    "                    'SeniorCitizen','StreamingTV','gender','PaperlessBilling'], axis =1)\n",
    "\n"
   ]
  },
  {
   "cell_type": "code",
   "execution_count": 74,
   "metadata": {},
   "outputs": [
    {
     "name": "stdout",
     "output_type": "stream",
     "text": [
      "Точность: 0.802\n",
      "Полнота: 0.724\n",
      "Accuracy: 0.879\n",
      "AUC-ROC: 0.924\n",
      "CPU times: user 2.35 s, sys: 154 ms, total: 2.51 s\n",
      "Wall time: 1.19 s\n"
     ]
    },
    {
     "data": {
      "image/png": "[encoded data removed]",
      "text/plain": [
       "<Figure size 432x288 with 1 Axes>"
      ]
     },
     "metadata": {
      "needs_background": "light"
     },
     "output_type": "display_data"
    }
   ],
   "source": [
    "%%time\n",
    "cat_test = CatBoostClassifier(iterations= 200, verbose=0,cat_features=cat_features_filterred, \n",
    "                        learning_rate=0.5,depth=5, random_state=12345)\n",
    "cat_test.fit(features_train_filtered, target_train)\n",
    "predictions_cat=cat_test.predict(features_test_filtered)\n",
    "probabilities_test =cat_test.predict_proba(features_test_filtered)\n",
    "probabilities_one_test = probabilities_test[:,1]\n",
    "fpr, tpr, thresholds = roc_curve(target_test, probabilities_one_test)\n",
    "plt.figure()  \n",
    "plt.plot(fpr, tpr) #ROC-кривая модели \n",
    "plt.plot([0,1],[0,1], linestyle='--')  #ROC-кривая случайной модели \n",
    "plt.xlim([0.0, 1.0])\n",
    "plt.ylim([0.0, 1.0])\n",
    "plt.xlabel('False Positive Rate')\n",
    "plt.ylabel('True Positive Rate')\n",
    "plt.title('ROC - кривая')\n",
    "print('Точность: {:.3f}' .format(precision_score(target_test, predictions_cat)))\n",
    "print('Полнота: {:.3f}' .format(recall_score(target_test, predictions_cat)))\n",
    "print('Accuracy: {:.3f}' .format(accuracy_score(target_test, predictions_cat)))\n",
    "print('AUC-ROC: {:.3f}' .format(roc_auc_score(target_test, probabilities_one_test)))\n",
    "\n"
   ]
  },
  {
   "cell_type": "markdown",
   "metadata": {},
   "source": [
    "AUC-ROC немного повысился и равен 0.924, Accuracy= 0.879. Так же немного увеличились Точность и Полнота. "
   ]
  },
  {
   "cell_type": "markdown",
   "metadata": {},
   "source": [
    "Проверим модель на адекватность\n",
    "\n",
    "Сначала проверим, что модель не предсказывает только какой-то один класс."
   ]
  },
  {
   "cell_type": "code",
   "execution_count": 75,
   "metadata": {},
   "outputs": [
    {
     "data": {
      "text/plain": [
       "Counter({0: 1604, 1: 506})"
      ]
     },
     "execution_count": 75,
     "metadata": {},
     "output_type": "execute_result"
    }
   ],
   "source": [
    "collections.Counter(predictions_cat)"
   ]
  },
  {
   "cell_type": "markdown",
   "metadata": {},
   "source": [
    "Предсказывает оба класса\n",
    "\n",
    "Теперь сравним  модель с константной моделью, которая любому объекту пронозирует класс \"0\" (тк этого класса большинство)"
   ]
  },
  {
   "cell_type": "code",
   "execution_count": 76,
   "metadata": {},
   "outputs": [
    {
     "name": "stdout",
     "output_type": "stream",
     "text": [
      "Accuracy 0.7342543681430312\n",
      "AUC-ROC: 0.5\n"
     ]
    }
   ],
   "source": [
    "predictions_train = pd.Series(target_train.replace(1, 0))\n",
    "print('Accuracy',accuracy_score(target_train, predictions_train))\n",
    "print('AUC-ROC:', roc_auc_score(target_train, predictions_train))"
   ]
  },
  {
   "cell_type": "markdown",
   "metadata": {},
   "source": [
    "У модели метрики Accuracy и AUC-ROC выше чем у константной модели"
   ]
  },
  {
   "cell_type": "markdown",
   "metadata": {},
   "source": [
    "**Вывод.** Модели удалось превысить порог AUC-ROC=0.88, модель обучена и адекватна"
   ]
  },
  {
   "cell_type": "markdown",
   "metadata": {},
   "source": [
    "## 8. Общие выводы"
   ]
  },
  {
   "cell_type": "markdown",
   "metadata": {},
   "source": [
    "Телеком компания предоставила данные в 4 файлах. Необходимо было обучить модель, которая предсказывала бы отток клиентов. Целевая метрика - ROC-AUC не ниже 0.88\n",
    "\n",
    "После предобаработки данных объединили их в один файл.  \n",
    "Данные разделили на обучающую и тестовую выборки в пропорции 70:30\n",
    "\n",
    "Для обучения моделей произвели предобработку признаков: категориальные данные закодировали, количественные отмасштабировали. Для обучения взяли 3 простые модели (Логистическая регрессия, Дерево решений и Случайный лес) и 2 модели градиентного бустинга (CatBoost и LightBGM) и с помощью кроссвалидации нашли оптимальные параметры.\n",
    "\n",
    "Среди простых моделей лучшей на кроссвалидации оказалась модель Случайный лес. Но на тесте метрика  AUC-ROC не смогла достичь порога 0.88 и accuracy лишь ненамного лучше, чем у константной модели. Среди моделей градиентного бустинга лучшая метрика на кроссвалидации была у модели CatBoost. На тесте метрика  AUC-ROC =0.924 и accuracy=0.879, что лучше чем у константной модели и выше порога AUC-ROC = 0.88. Эту модель можно брать в работу"
   ]
  }
 ],
 "metadata": {
  "ExecuteTimeLog": [
   {
    "duration": 1627,
    "start_time": "2021-08-23T07:46:09.230Z"
   },
   {
    "duration": 91,
    "start_time": "2021-08-23T07:46:11.431Z"
   },
   {
    "duration": 4711,
    "start_time": "2021-08-23T07:46:57.128Z"
   },
   {
    "duration": 62,
    "start_time": "2021-08-23T07:47:05.973Z"
   },
   {
    "duration": 22,
    "start_time": "2021-08-23T07:47:11.145Z"
   },
   {
    "duration": 11,
    "start_time": "2021-08-23T07:47:11.950Z"
   },
   {
    "duration": 7,
    "start_time": "2021-08-23T07:47:13.510Z"
   },
   {
    "duration": 3,
    "start_time": "2021-08-23T07:47:14.269Z"
   },
   {
    "duration": 17,
    "start_time": "2021-08-23T07:47:14.912Z"
   },
   {
    "duration": 12,
    "start_time": "2021-08-23T07:47:15.584Z"
   },
   {
    "duration": 6,
    "start_time": "2021-08-23T07:47:15.975Z"
   },
   {
    "duration": 18,
    "start_time": "2021-08-23T07:47:16.383Z"
   },
   {
    "duration": 20,
    "start_time": "2021-08-23T07:47:17.806Z"
   },
   {
    "duration": 8,
    "start_time": "2021-08-23T07:47:18.045Z"
   },
   {
    "duration": 14,
    "start_time": "2021-08-23T07:47:18.749Z"
   },
   {
    "duration": 9,
    "start_time": "2021-08-23T07:47:18.965Z"
   },
   {
    "duration": 13,
    "start_time": "2021-08-23T07:47:19.659Z"
   },
   {
    "duration": 8,
    "start_time": "2021-08-23T07:47:19.881Z"
   },
   {
    "duration": 10,
    "start_time": "2021-08-23T07:47:20.845Z"
   },
   {
    "duration": 7,
    "start_time": "2021-08-23T07:47:21.111Z"
   },
   {
    "duration": 38,
    "start_time": "2021-08-23T07:47:22.206Z"
   },
   {
    "duration": 29,
    "start_time": "2021-08-23T07:47:23.494Z"
   },
   {
    "duration": 12,
    "start_time": "2021-08-23T07:47:24.159Z"
   },
   {
    "duration": 20,
    "start_time": "2021-08-23T07:47:25.375Z"
   },
   {
    "duration": 14,
    "start_time": "2021-08-23T07:47:25.807Z"
   },
   {
    "duration": 6,
    "start_time": "2021-08-23T07:57:18.670Z"
   },
   {
    "duration": 7,
    "start_time": "2021-08-23T07:57:18.848Z"
   },
   {
    "duration": 5,
    "start_time": "2021-08-23T07:57:22.280Z"
   },
   {
    "duration": 10,
    "start_time": "2021-08-23T07:57:25.575Z"
   },
   {
    "duration": 385,
    "start_time": "2021-08-23T07:57:27.391Z"
   },
   {
    "duration": 427,
    "start_time": "2021-08-23T07:59:05.166Z"
   },
   {
    "duration": 108,
    "start_time": "2021-08-23T07:59:09.177Z"
   },
   {
    "duration": 9,
    "start_time": "2021-08-23T07:59:11.041Z"
   },
   {
    "duration": 118,
    "start_time": "2021-08-23T07:59:11.052Z"
   },
   {
    "duration": 113,
    "start_time": "2021-08-23T07:59:11.355Z"
   },
   {
    "duration": 8,
    "start_time": "2021-08-23T07:59:11.548Z"
   },
   {
    "duration": 108,
    "start_time": "2021-08-23T07:59:11.752Z"
   },
   {
    "duration": 12,
    "start_time": "2021-08-23T08:31:36.624Z"
   },
   {
    "duration": 10,
    "start_time": "2021-08-23T08:31:41.968Z"
   },
   {
    "duration": 13,
    "start_time": "2021-08-23T08:31:42.511Z"
   },
   {
    "duration": 17,
    "start_time": "2021-08-23T08:31:43.888Z"
   },
   {
    "duration": 231,
    "start_time": "2021-08-23T08:31:44.391Z"
   },
   {
    "duration": 20,
    "start_time": "2021-08-23T08:31:44.890Z"
   },
   {
    "duration": 36,
    "start_time": "2021-08-23T08:31:45.937Z"
   },
   {
    "duration": 123,
    "start_time": "2021-08-23T08:31:46.726Z"
   },
   {
    "duration": 4,
    "start_time": "2021-08-23T08:35:52.047Z"
   },
   {
    "duration": 5779,
    "start_time": "2021-08-23T08:35:56.776Z"
   },
   {
    "duration": 736,
    "start_time": "2021-08-23T08:37:04.884Z"
   },
   {
    "duration": 31152,
    "start_time": "2021-08-23T08:37:08.709Z"
   },
   {
    "duration": 3,
    "start_time": "2021-08-23T08:37:45.707Z"
   },
   {
    "duration": 21,
    "start_time": "2021-08-23T08:37:47.242Z"
   }
  ],
  "kernelspec": {
   "display_name": "Python 3",
   "language": "python",
   "name": "python3"
  },
  "language_info": {
   "codemirror_mode": {
    "name": "ipython",
    "version": 3
   },
   "file_extension": ".py",
   "mimetype": "text/x-python",
   "name": "python",
   "nbconvert_exporter": "python",
   "pygments_lexer": "ipython3",
   "version": "3.7.4"
  },
  "toc": {
   "base_numbering": 1,
   "nav_menu": {},
   "number_sections": true,
   "sideBar": true,
   "skip_h1_title": true,
   "title_cell": "Table of Contents",
   "title_sidebar": "Contents",
   "toc_cell": false,
   "toc_position": {},
   "toc_section_display": true,
   "toc_window_display": false
  }
 },
 "nbformat": 4,
 "nbformat_minor": 2
}
