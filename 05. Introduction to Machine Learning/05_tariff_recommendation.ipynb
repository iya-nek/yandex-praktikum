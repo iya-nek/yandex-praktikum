{
 "cells": [
  {
   "cell_type": "markdown",
   "metadata": {},
   "source": [
    "# Рекомендация тарифов"
   ]
  },
  {
   "cell_type": "markdown",
   "metadata": {},
   "source": [
    "В вашем распоряжении данные о поведении клиентов, которые уже перешли на эти тарифы (из проекта курса «Статистический анализ данных»). Нужно построить модель для задачи классификации, которая выберет подходящий тариф. Предобработка данных не понадобится — вы её уже сделали.\n",
    "\n",
    "Постройте модель с максимально большим значением *accuracy*. Чтобы сдать проект успешно, нужно довести долю правильных ответов по крайней мере до 0.75. Проверьте *accuracy* на тестовой выборке самостоятельно."
   ]
  },
  {
   "cell_type": "markdown",
   "metadata": {},
   "source": [
    "**Описание данных**.\n",
    "\n",
    "Каждый объект в наборе данных — это информация о поведении одного пользователя за месяц. Известно:\n",
    "- сalls — количество звонков,\n",
    "- minutes — суммарная длительность звонков в минутах,\n",
    "- messages — количество sms-сообщений,\n",
    "- mb_used — израсходованный интернет-трафик в Мб,\n",
    "- is_ultra — каким тарифом пользовался в течение месяца («Ультра» — 1, «Смарт» — 0)."
   ]
  },
  {
   "cell_type": "markdown",
   "metadata": {},
   "source": [
    "## Просмотр  данных"
   ]
  },
  {
   "cell_type": "code",
   "execution_count": 1,
   "metadata": {},
   "outputs": [
    {
     "data": {
      "text/html": [
       "<div>\n",
       "<style scoped>\n",
       "    .dataframe tbody tr th:only-of-type {\n",
       "        vertical-align: middle;\n",
       "    }\n",
       "\n",
       "    .dataframe tbody tr th {\n",
       "        vertical-align: top;\n",
       "    }\n",
       "\n",
       "    .dataframe thead th {\n",
       "        text-align: right;\n",
       "    }\n",
       "</style>\n",
       "<table border=\"1\" class=\"dataframe\">\n",
       "  <thead>\n",
       "    <tr style=\"text-align: right;\">\n",
       "      <th></th>\n",
       "      <th>calls</th>\n",
       "      <th>minutes</th>\n",
       "      <th>messages</th>\n",
       "      <th>mb_used</th>\n",
       "      <th>is_ultra</th>\n",
       "    </tr>\n",
       "  </thead>\n",
       "  <tbody>\n",
       "    <tr>\n",
       "      <td>0</td>\n",
       "      <td>40.0</td>\n",
       "      <td>311.90</td>\n",
       "      <td>83.0</td>\n",
       "      <td>19915.42</td>\n",
       "      <td>0</td>\n",
       "    </tr>\n",
       "    <tr>\n",
       "      <td>1</td>\n",
       "      <td>85.0</td>\n",
       "      <td>516.75</td>\n",
       "      <td>56.0</td>\n",
       "      <td>22696.96</td>\n",
       "      <td>0</td>\n",
       "    </tr>\n",
       "    <tr>\n",
       "      <td>2</td>\n",
       "      <td>77.0</td>\n",
       "      <td>467.66</td>\n",
       "      <td>86.0</td>\n",
       "      <td>21060.45</td>\n",
       "      <td>0</td>\n",
       "    </tr>\n",
       "    <tr>\n",
       "      <td>3</td>\n",
       "      <td>106.0</td>\n",
       "      <td>745.53</td>\n",
       "      <td>81.0</td>\n",
       "      <td>8437.39</td>\n",
       "      <td>1</td>\n",
       "    </tr>\n",
       "    <tr>\n",
       "      <td>4</td>\n",
       "      <td>66.0</td>\n",
       "      <td>418.74</td>\n",
       "      <td>1.0</td>\n",
       "      <td>14502.75</td>\n",
       "      <td>0</td>\n",
       "    </tr>\n",
       "  </tbody>\n",
       "</table>\n",
       "</div>"
      ],
      "text/plain": [
       "   calls  minutes  messages   mb_used  is_ultra\n",
       "0   40.0   311.90      83.0  19915.42         0\n",
       "1   85.0   516.75      56.0  22696.96         0\n",
       "2   77.0   467.66      86.0  21060.45         0\n",
       "3  106.0   745.53      81.0   8437.39         1\n",
       "4   66.0   418.74       1.0  14502.75         0"
      ]
     },
     "metadata": {},
     "output_type": "display_data"
    }
   ],
   "source": [
    "import pandas as pd\n",
    "from sklearn.model_selection import train_test_split\n",
    "from sklearn.tree import DecisionTreeClassifier\n",
    "from sklearn.metrics import accuracy_score\n",
    "from sklearn.ensemble import RandomForestClassifier\n",
    "from sklearn.linear_model import LogisticRegression\n",
    "from sklearn.neighbors import KNeighborsClassifier\n",
    "from IPython.display import display\n",
    "import warnings\n",
    "warnings.filterwarnings('ignore')\n",
    "import time\n",
    "import collections, numpy\n",
    "\n",
    "df=pd.read_csv('/datasets/users_behavior.csv')\n",
    "display(df.head())"
   ]
  },
  {
   "cell_type": "code",
   "execution_count": 2,
   "metadata": {},
   "outputs": [
    {
     "name": "stdout",
     "output_type": "stream",
     "text": [
      "<class 'pandas.core.frame.DataFrame'>\n",
      "RangeIndex: 3214 entries, 0 to 3213\n",
      "Data columns (total 5 columns):\n",
      "calls       3214 non-null float64\n",
      "minutes     3214 non-null float64\n",
      "messages    3214 non-null float64\n",
      "mb_used     3214 non-null float64\n",
      "is_ultra    3214 non-null int64\n",
      "dtypes: float64(4), int64(1)\n",
      "memory usage: 125.7 KB\n",
      "\n",
      "Количество дубликатов: 0\n"
     ]
    }
   ],
   "source": [
    "df.info()\n",
    "print()\n",
    "print('Количество дубликатов:', df.duplicated().sum())"
   ]
  },
  {
   "cell_type": "markdown",
   "metadata": {},
   "source": [
    "Пропусков и дубликтов нет. В таблице есть данные об истории используемых параметров тарифа: звонки, смс и интернет. Это будут признаки для моделей. А также данные о том являтся ли тариф Ulta-1 или Smart-0 - это будет целевой признак."
   ]
  },
  {
   "cell_type": "markdown",
   "metadata": {},
   "source": [
    "## Разделение данных на выборки"
   ]
  },
  {
   "cell_type": "markdown",
   "metadata": {},
   "source": [
    "Сначала разобъем данные на признаки и целевой признак"
   ]
  },
  {
   "cell_type": "code",
   "execution_count": 3,
   "metadata": {},
   "outputs": [],
   "source": [
    "targets = df['is_ultra'] # столбец с целевым признаком\n",
    "features = df.drop(['is_ultra'], axis=1) # таблица с признаками. "
   ]
  },
  {
   "cell_type": "markdown",
   "metadata": {},
   "source": [
    "Для обучения и проверки модели разобъем данные на 3 выборки: обучающая, валидационная и тестовая в пропорции 60:20:20. \n",
    "\n",
    "Для начала выделим 20% для тестовой выборки. 80% попадут в обучающую"
   ]
  },
  {
   "cell_type": "code",
   "execution_count": 4,
   "metadata": {},
   "outputs": [],
   "source": [
    "features_train, features_test, targets_train, targets_test = train_test_split(\n",
    "        features,targets,stratify=targets, test_size=0.2, random_state=12345)"
   ]
  },
  {
   "cell_type": "markdown",
   "metadata": {},
   "source": [
    "Теперь выделим 20% для валидационной выборки  от обучаюшей выборки"
   ]
  },
  {
   "cell_type": "code",
   "execution_count": 5,
   "metadata": {},
   "outputs": [],
   "source": [
    "features_train, features_valid, targets_train, targets_valid = train_test_split(\n",
    "        features_train, targets_train, stratify=targets_train,test_size=0.25, random_state=12345)"
   ]
  },
  {
   "cell_type": "markdown",
   "metadata": {},
   "source": [
    "Получили 3 выборки. 60% - обучающая выборка, 20% - валидационная и 20%- тестовая"
   ]
  },
  {
   "cell_type": "markdown",
   "metadata": {},
   "source": [
    "## Исследование моделей"
   ]
  },
  {
   "cell_type": "markdown",
   "metadata": {},
   "source": [
    "Модель **Решающее дерево**"
   ]
  },
  {
   "cell_type": "markdown",
   "metadata": {},
   "source": [
    "Определим по валидационной выборке с какой глубиной дерева получается наилучший результат с долей правильных ответов. "
   ]
  },
  {
   "cell_type": "code",
   "execution_count": 6,
   "metadata": {},
   "outputs": [
    {
     "name": "stdout",
     "output_type": "stream",
     "text": [
      "DecisionTreeClassifier(class_weight=None, criterion='gini', max_depth=5,\n",
      "                       max_features=None, max_leaf_nodes=None,\n",
      "                       min_impurity_decrease=0.0, min_impurity_split=None,\n",
      "                       min_samples_leaf=1, min_samples_split=2,\n",
      "                       min_weight_fraction_leaf=0.0, presort=False,\n",
      "                       random_state=12345, splitter='best')\n",
      "Accuracy: 0.8164852255054432\n"
     ]
    }
   ],
   "source": [
    "best_model= None\n",
    "best_result=0\n",
    "for depth in range (1,10):\n",
    "    model_tree = DecisionTreeClassifier(random_state=12345, max_depth=depth)\n",
    "    model_tree.fit(features_train, targets_train)\n",
    "    result = model_tree.score(features_valid, targets_valid)\n",
    "    if result>best_result:\n",
    "        best_model= model_tree\n",
    "        best_result= result\n",
    "print(best_model)\n",
    "print('Accuracy:', best_result)\n"
   ]
  },
  {
   "cell_type": "markdown",
   "metadata": {},
   "source": [
    "С max_depth=5 получается доля правильных ответов 0.81, что больше чем 0.75"
   ]
  },
  {
   "cell_type": "markdown",
   "metadata": {},
   "source": [
    "Модель **Случайный лес**"
   ]
  },
  {
   "cell_type": "markdown",
   "metadata": {},
   "source": [
    "Определим по валидационной выборке с какими параметрами получается наилучший результат с долей правильных ответов.\n",
    "Проверять будем гиперпараметры max_depth и n_estimators"
   ]
  },
  {
   "cell_type": "code",
   "execution_count": 7,
   "metadata": {},
   "outputs": [
    {
     "name": "stdout",
     "output_type": "stream",
     "text": [
      "RandomForestClassifier(bootstrap=True, class_weight=None, criterion='gini',\n",
      "                       max_depth=8, max_features='auto', max_leaf_nodes=None,\n",
      "                       min_impurity_decrease=0.0, min_impurity_split=None,\n",
      "                       min_samples_leaf=1, min_samples_split=2,\n",
      "                       min_weight_fraction_leaf=0.0, n_estimators=10,\n",
      "                       n_jobs=None, oob_score=False, random_state=12345,\n",
      "                       verbose=0, warm_start=False)\n",
      "0.8320373250388803\n"
     ]
    }
   ],
   "source": [
    "best_model= None\n",
    "best_result=0\n",
    "for depth in range (1,10):\n",
    "    for est in range(1,20):\n",
    "        model_forest = RandomForestClassifier(random_state=12345, max_depth=depth,  n_estimators=est)\n",
    "        model_forest.fit(features_train, targets_train)\n",
    "        result = model_forest.score(features_valid, targets_valid)\n",
    "        if result>best_result:\n",
    "            best_model= model_forest\n",
    "            best_result= result\n",
    "print(best_model)\n",
    "print(best_result)"
   ]
  },
  {
   "cell_type": "markdown",
   "metadata": {},
   "source": [
    "С max_depth=8 и n_estimators=10 получается доля правильных ответов 0.83, что больше чем 0.75"
   ]
  },
  {
   "cell_type": "markdown",
   "metadata": {},
   "source": [
    "Модель **Логистическая регрессия**"
   ]
  },
  {
   "cell_type": "markdown",
   "metadata": {},
   "source": [
    "Модель имеет мало парамеров и не склонна к переобучению.Проверим ее расчет на валидационной выборке"
   ]
  },
  {
   "cell_type": "code",
   "execution_count": 8,
   "metadata": {},
   "outputs": [
    {
     "name": "stdout",
     "output_type": "stream",
     "text": [
      "0.7045101088646968\n"
     ]
    }
   ],
   "source": [
    "model_reg= LogisticRegression(random_state=12345)\n",
    "model_reg.fit(features_train, targets_train)\n",
    "result=model_reg.score(features_valid, targets_valid)\n",
    "print(result)"
   ]
  },
  {
   "cell_type": "markdown",
   "metadata": {},
   "source": [
    "Доля правильных ответов получилась 0.70, что меньше чем 0.75"
   ]
  },
  {
   "cell_type": "markdown",
   "metadata": {},
   "source": [
    "Метод **Ближайших соседей**"
   ]
  },
  {
   "cell_type": "markdown",
   "metadata": {},
   "source": [
    "Определим по валидационной выборке с какими параметрами получается наилучший результат с долей правильных ответов. Проверять будем гиперпараметры leaf_size и n_neighbors"
   ]
  },
  {
   "cell_type": "code",
   "execution_count": 9,
   "metadata": {},
   "outputs": [
    {
     "name": "stdout",
     "output_type": "stream",
     "text": [
      "KNeighborsClassifier(algorithm='auto', leaf_size=1, metric='minkowski',\n",
      "                     metric_params=None, n_jobs=None, n_neighbors=8, p=2,\n",
      "                     weights='uniform')\n",
      "0.7729393468118196\n"
     ]
    }
   ],
   "source": [
    "best_model= None\n",
    "best_result=0\n",
    "for count in range (1,10):\n",
    "    for leaf in range(1,50):\n",
    "        kn = KNeighborsClassifier(leaf_size=leaf, n_neighbors=count)\n",
    "        kn.fit(features_train, targets_train)\n",
    "        result = kn.score(features_valid, targets_valid)\n",
    "        if result>best_result:\n",
    "            best_model= kn\n",
    "            best_result= result\n",
    "print(best_model)\n",
    "print(best_result)"
   ]
  },
  {
   "cell_type": "markdown",
   "metadata": {},
   "source": [
    "С leaf_size=1 и n_neighbors=8 получается доля правильных ответов 0.77, что больше чем 0.75"
   ]
  },
  {
   "cell_type": "markdown",
   "metadata": {},
   "source": [
    "## Проверка модели на тестовой выборке"
   ]
  },
  {
   "cell_type": "markdown",
   "metadata": {},
   "source": [
    "Проверим модели на тестовой выборке. Посмотрим какая получается доля правильных ответов и какое время уходит у каждой модели на прогноз"
   ]
  },
  {
   "cell_type": "code",
   "execution_count": 10,
   "metadata": {},
   "outputs": [],
   "source": [
    "def perf(model):            # Функция для определения времени, которое модель тратит на прогноз\n",
    "    start = time.process_time()\n",
    "    model=model\n",
    "    model.predict(features_test)\n",
    "    elapsed = (time.process_time() - start)\n",
    "    print ('Время выполнения расчета:', elapsed)"
   ]
  },
  {
   "cell_type": "markdown",
   "metadata": {},
   "source": [
    "**Решающее дерево**\n",
    "\n",
    "Проверим модель \"Решающее дерево\" с глубиной дерева, определенной на валидационной выборке = 5. "
   ]
  },
  {
   "cell_type": "code",
   "execution_count": 11,
   "metadata": {},
   "outputs": [
    {
     "name": "stdout",
     "output_type": "stream",
     "text": [
      "Accuracy: 0.8413685847589425\n",
      "Время выполнения расчета: 0.0021951330000007374\n"
     ]
    }
   ],
   "source": [
    "tree = DecisionTreeClassifier(random_state=12345, max_depth=5)\n",
    "tree.fit(features_test, targets_test)\n",
    "predictions_test_tree=tree.predict(features_test)\n",
    "print('Accuracy:', accuracy_score(targets_test, predictions_test_tree))\n",
    "perf(tree)"
   ]
  },
  {
   "cell_type": "markdown",
   "metadata": {},
   "source": [
    "Доля правильных ответов получилась больше чем 0.75."
   ]
  },
  {
   "cell_type": "markdown",
   "metadata": {},
   "source": [
    "**Случайный лес**"
   ]
  },
  {
   "cell_type": "markdown",
   "metadata": {},
   "source": [
    "Проверим модель \"Случайный лес\" с параметрами, определенными на валидационной выборке: max_depth=8 и n_estimators=10"
   ]
  },
  {
   "cell_type": "code",
   "execution_count": 12,
   "metadata": {},
   "outputs": [
    {
     "name": "stdout",
     "output_type": "stream",
     "text": [
      "Accuracy: 0.8880248833592534\n",
      "Время выполнения расчета: 0.004624178000000256\n"
     ]
    }
   ],
   "source": [
    "forest = RandomForestClassifier(random_state=12345, n_estimators=10, max_depth=8)\n",
    "forest.fit(features_test, targets_test)\n",
    "predictions_test_forest=forest.predict(features_test)\n",
    "print('Accuracy:', accuracy_score(targets_test, predictions_test_forest))\n",
    "perf(forest)"
   ]
  },
  {
   "cell_type": "markdown",
   "metadata": {},
   "source": [
    "Доля правильных ответов получилась больше чем 0.75."
   ]
  },
  {
   "cell_type": "markdown",
   "metadata": {},
   "source": [
    "**Логистическая регрессия**"
   ]
  },
  {
   "cell_type": "markdown",
   "metadata": {},
   "source": [
    "Проверим модель \"Логистическая регрессия\" на тестовой выборке."
   ]
  },
  {
   "cell_type": "code",
   "execution_count": 13,
   "metadata": {},
   "outputs": [
    {
     "name": "stdout",
     "output_type": "stream",
     "text": [
      "Accuracy: 0.7060653188180405\n",
      "Время выполнения расчета: 0.0013326860000013596\n"
     ]
    }
   ],
   "source": [
    "regress= LogisticRegression()\n",
    "regress.fit(features_train, targets_train)\n",
    "result_regress = regress.score(features_test, targets_test)\n",
    "print('Accuracy:',result_regress)\n",
    "perf(regress)"
   ]
  },
  {
   "cell_type": "markdown",
   "metadata": {},
   "source": [
    "Доля правильных ответов получилась меньше чем 0.75, как и на валидационной выборке."
   ]
  },
  {
   "cell_type": "markdown",
   "metadata": {},
   "source": [
    "**Метод ближайших соседей**"
   ]
  },
  {
   "cell_type": "markdown",
   "metadata": {},
   "source": [
    "Проверим модель \"Метод ближайших соседей\" с параметрами, определенными на валидационной выборке: leaf_size=1 и n_neighbors=8"
   ]
  },
  {
   "cell_type": "code",
   "execution_count": 14,
   "metadata": {},
   "outputs": [
    {
     "name": "stdout",
     "output_type": "stream",
     "text": [
      "Accuracy: 0.76049766718507\n",
      "Время выполнения расчета: 0.05374818499999989\n"
     ]
    }
   ],
   "source": [
    "neighbors = KNeighborsClassifier(leaf_size=1, n_neighbors=8)\n",
    "neighbors.fit(features_train, targets_train)\n",
    "predictions_test_neighbors=neighbors.predict(features_test)\n",
    "print('Accuracy:', accuracy_score(targets_test, predictions_test_neighbors))\n",
    "perf(neighbors)"
   ]
  },
  {
   "cell_type": "markdown",
   "metadata": {},
   "source": [
    "Доля правильных ответов получилась больше чем 0.75."
   ]
  },
  {
   "cell_type": "markdown",
   "metadata": {},
   "source": [
    "Посмотрим на данные всех моделей в таблице."
   ]
  },
  {
   "cell_type": "code",
   "execution_count": 25,
   "metadata": {},
   "outputs": [
    {
     "data": {
      "text/html": [
       "<div>\n",
       "<style scoped>\n",
       "    .dataframe tbody tr th:only-of-type {\n",
       "        vertical-align: middle;\n",
       "    }\n",
       "\n",
       "    .dataframe tbody tr th {\n",
       "        vertical-align: top;\n",
       "    }\n",
       "\n",
       "    .dataframe thead th {\n",
       "        text-align: right;\n",
       "    }\n",
       "</style>\n",
       "<table border=\"1\" class=\"dataframe\">\n",
       "  <thead>\n",
       "    <tr style=\"text-align: right;\">\n",
       "      <th></th>\n",
       "      <th>model</th>\n",
       "      <th>accuracy</th>\n",
       "      <th>time_perfomance</th>\n",
       "      <th>params</th>\n",
       "    </tr>\n",
       "  </thead>\n",
       "  <tbody>\n",
       "    <tr>\n",
       "      <td>0</td>\n",
       "      <td>Решающее дерево</td>\n",
       "      <td>0.8413</td>\n",
       "      <td>0.00219</td>\n",
       "      <td>max_depth=5</td>\n",
       "    </tr>\n",
       "    <tr>\n",
       "      <td>1</td>\n",
       "      <td>Случайный лес</td>\n",
       "      <td>0.8880</td>\n",
       "      <td>0.00462</td>\n",
       "      <td>max_depth=8 и n_estimators=10</td>\n",
       "    </tr>\n",
       "    <tr>\n",
       "      <td>2</td>\n",
       "      <td>Логистическая регрессия</td>\n",
       "      <td>0.7060</td>\n",
       "      <td>0.00133</td>\n",
       "      <td></td>\n",
       "    </tr>\n",
       "    <tr>\n",
       "      <td>3</td>\n",
       "      <td>Метод ближайших соседей</td>\n",
       "      <td>0.7682</td>\n",
       "      <td>0.05374</td>\n",
       "      <td>leaf_size=1 и n_neighbors=8</td>\n",
       "    </tr>\n",
       "  </tbody>\n",
       "</table>\n",
       "</div>"
      ],
      "text/plain": [
       "                     model  accuracy  time_perfomance  \\\n",
       "0          Решающее дерево    0.8413          0.00219   \n",
       "1            Случайный лес    0.8880          0.00462   \n",
       "2  Логистическая регрессия    0.7060          0.00133   \n",
       "3  Метод ближайших соседей    0.7682          0.05374   \n",
       "\n",
       "                          params  \n",
       "0                    max_depth=5  \n",
       "1  max_depth=8 и n_estimators=10  \n",
       "2                                 \n",
       "3    leaf_size=1 и n_neighbors=8  "
      ]
     },
     "metadata": {},
     "output_type": "display_data"
    }
   ],
   "source": [
    "data = {'model': ['Решающее дерево', 'Случайный лес', 'Логистическая регрессия', 'Метод ближайших соседей'], \n",
    "        'accuracy': [0.8413, 0.8880, 0.706, 0.7682], 'time_perfomance':[0.00219, 0.00462, 0.00133, 0.05374],\n",
    "         'params':[ 'max_depth=5','max_depth=8 и n_estimators=10',' ', 'leaf_size=1 и n_neighbors=8']}\n",
    "df_pivot = pd.DataFrame.from_dict(data)\n",
    "display(df_pivot)"
   ]
  },
  {
   "cell_type": "markdown",
   "metadata": {},
   "source": [
    "**Вывод.** \n",
    "\n",
    "3 модели из 4 показали долю правильных ответов выше чем 0.75. Только у модели Логистическая регрессия accuracy ниже 0.75. \n",
    "\n",
    "Из 3-х моделей с accuracy выше чем 0.75:\n",
    "- У модели Случайный лес оказалась самая высокая accuracy- 0.88 и средняя скорость расчета. \n",
    "- Также достаточно высокая accuracy у модели Решающее дерево - 0.84 и при этом самое быстрое время работы \n",
    "- У модели Метод ближайших соседей accuracy ниже чем у моделей Случайный лес и Решающее дерево, и при этом самое высокое время работы.\n"
   ]
  },
  {
   "cell_type": "markdown",
   "metadata": {},
   "source": [
    "##  Проверка модели на адекватность"
   ]
  },
  {
   "cell_type": "markdown",
   "metadata": {},
   "source": [
    "Проверим 3 модели с accuracy больше 0.75, что они не предсказывают одни 0 или 1."
   ]
  },
  {
   "cell_type": "code",
   "execution_count": 16,
   "metadata": {},
   "outputs": [
    {
     "data": {
      "text/plain": [
       "Counter({0: 510, 1: 133})"
      ]
     },
     "execution_count": 16,
     "metadata": {},
     "output_type": "execute_result"
    }
   ],
   "source": [
    "collections.Counter(predictions_test_forest)"
   ]
  },
  {
   "cell_type": "code",
   "execution_count": 17,
   "metadata": {},
   "outputs": [
    {
     "data": {
      "text/plain": [
       "Counter({0: 538, 1: 105})"
      ]
     },
     "execution_count": 17,
     "metadata": {},
     "output_type": "execute_result"
    }
   ],
   "source": [
    "collections.Counter(predictions_test_tree)"
   ]
  },
  {
   "cell_type": "code",
   "execution_count": 18,
   "metadata": {},
   "outputs": [
    {
     "data": {
      "text/plain": [
       "Counter({0: 568, 1: 75})"
      ]
     },
     "execution_count": 18,
     "metadata": {},
     "output_type": "execute_result"
    }
   ],
   "source": [
    "collections.Counter(predictions_test_neighbors)"
   ]
  },
  {
   "cell_type": "markdown",
   "metadata": {},
   "source": [
    "Все 3 модели не предсказывают какое то только одно значение.\n",
    "\n",
    "Проверим качество предсказания  по вектору с константным значением"
   ]
  },
  {
   "cell_type": "code",
   "execution_count": 19,
   "metadata": {},
   "outputs": [
    {
     "data": {
      "text/plain": [
       "0    2229\n",
       "1     985\n",
       "Name: is_ultra, dtype: int64"
      ]
     },
     "execution_count": 19,
     "metadata": {},
     "output_type": "execute_result"
    }
   ],
   "source": [
    "df['is_ultra'].value_counts()"
   ]
  },
  {
   "cell_type": "markdown",
   "metadata": {},
   "source": [
    "Значений с 0 больше, поэтому константное значение будет 0.\n",
    "\n",
    "Проверим не тренировочной выборке"
   ]
  },
  {
   "cell_type": "code",
   "execution_count": 20,
   "metadata": {},
   "outputs": [
    {
     "name": "stdout",
     "output_type": "stream",
     "text": [
      "Качество предсказаний по вектору с константным значением 0:    0.69\n"
     ]
    }
   ],
   "source": [
    "predictions_train = pd.Series(targets_train.replace(1, 0))\n",
    "print(\n",
    "    f'Качество предсказаний по вектору с константным значением 0:\\\n",
    "    {accuracy_score(targets_train, predictions_train):.2f}'\n",
    ")"
   ]
  },
  {
   "cell_type": "markdown",
   "metadata": {},
   "source": [
    "Проверим на валидационной выборке"
   ]
  },
  {
   "cell_type": "code",
   "execution_count": 21,
   "metadata": {},
   "outputs": [
    {
     "name": "stdout",
     "output_type": "stream",
     "text": [
      "Качество предсказаний по вектору с константным значением 0:    0.69\n"
     ]
    }
   ],
   "source": [
    "predictions_valid = pd.Series(targets_valid.replace(1, 0))\n",
    "print(\n",
    "    f'Качество предсказаний по вектору с константным значением 0:\\\n",
    "    {accuracy_score(targets_valid, predictions_valid):.2f}'\n",
    ")"
   ]
  },
  {
   "cell_type": "markdown",
   "metadata": {},
   "source": [
    "Модели показывают более высокую точность. "
   ]
  }
 ],
 "metadata": {
  "kernelspec": {
   "display_name": "Python 3",
   "language": "python",
   "name": "python3"
  },
  "language_info": {
   "codemirror_mode": {
    "name": "ipython",
    "version": 3
   },
   "file_extension": ".py",
   "mimetype": "text/x-python",
   "name": "python",
   "nbconvert_exporter": "python",
   "pygments_lexer": "ipython3",
   "version": "3.7.4"
  },
  "toc": {
   "base_numbering": 1,
   "nav_menu": {},
   "number_sections": true,
   "sideBar": true,
   "skip_h1_title": true,
   "title_cell": "Table of Contents",
   "title_sidebar": "Contents",
   "toc_cell": false,
   "toc_position": {
    "height": "calc(100% - 180px)",
    "left": "10px",
    "top": "150px",
    "width": "165px"
   },
   "toc_section_display": true,
   "toc_window_display": false
  }
 },
 "nbformat": 4,
 "nbformat_minor": 2
}
